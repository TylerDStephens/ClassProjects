{
  "nbformat": 4,
  "nbformat_minor": 0,
  "metadata": {
    "colab": {
      "name": "HW3.ipynb",
      "provenance": [],
      "collapsed_sections": []
    },
    "interpreter": {
      "hash": "16b88d1544610203bb70d520ead802a3025078c96a9e1f003faf94069083abfd"
    },
    "kernelspec": {
      "display_name": "Python 3",
      "language": "python",
      "name": "python3"
    },
    "language_info": {
      "codemirror_mode": {
        "name": "ipython",
        "version": 3
      },
      "file_extension": ".py",
      "mimetype": "text/x-python",
      "name": "python",
      "nbconvert_exporter": "python",
      "pygments_lexer": "ipython3",
      "version": "3.8.8"
    }
  },
  "cells": [
    {
      "cell_type": "markdown",
      "metadata": {
        "id": "l4omIgCS0C-y"
      },
      "source": [
        "# HW 3\n",
        "\n",
        "**DO NOT ERASE MARKDOWN CELLS AND INSTRUCTIONS IN YOUR HW submission**\n",
        "\n",
        "  * **Q** - QUESTION\n",
        "  * **A** - Where to input your answer\n",
        "\n",
        "Keep the following in mind for all notebooks you develop:\n",
        "* Structure your notebook. \n",
        "* Use headings with meaningful levels in Markdown cells, and explain the questions each piece of code is to answer or the reason it is there.\n",
        "* Make sure your notebook can always be rerun from top to bottom.\n",
        "\n",
        "Provided Jupyter notbook includes several notes, documentation and examples followed by coding challenges. \n",
        "* This assignment will cover several aspects in Python programming. \n",
        "* Python documentation has many examples, you can run these examples in your own version of notebook.\n",
        "  1.   Data Structures | [tutorial](https://docs.python.org/3.8/tutorial/datastructures.html)\n",
        "  2.   Input/Output | [tutorial](https://docs.python.org/3.8/tutorial/inputoutput.html) \n",
        "  3.   Errors and Exceptions | [tutorial](https://docs.python.org/3.8/tutorial/errors.html) \n",
        "  4.   Numpy | [quickstart](https://numpy.org/devdocs/user/quickstart.html)\n",
        "\n",
        "\n",
        "* Follow [README.md](README.md) for homework submission instructions\n",
        "\n",
        "**NOTE** Please start working on this assignment as soon as possible. If you are a beginner in Python this might take a long time. The objective of this assignment is to help you learn python.** \n",
        "\n",
        "In jupyter notebook environment, commands starting with the symbol % are magic commands or magic functions. ```%%timeit``` is one of such function. It basically gives you the speed of execution  of certain statement or blocks of codes."
      ]
    },
    {
      "cell_type": "markdown",
      "metadata": {
        "id": "0yKUUNHlR53f"
      },
      "source": [
        "\n",
        "## CONTROL FLOWS\n",
        "\n",
        "### If-else statements"
      ]
    },
    {
      "cell_type": "code",
      "metadata": {
        "id": "UqEtM9VgRoh6",
        "colab": {
          "base_uri": "https://localhost:8080/"
        },
        "outputId": "ea7ddcae-331d-464f-c5b4-8cba445e9a8f"
      },
      "source": [
        "x = int(input('Enter A Number : ')) #Cast to integer\n",
        "\n",
        "if x>0:\n",
        "  print(f'{x} is positive')\n",
        "elif x<0:\n",
        "  print(f'{x} is negative')\n",
        "else:\n",
        "  print(f'{x} is neither negative nor positive')"
      ],
      "execution_count": 1,
      "outputs": [
        {
          "output_type": "stream",
          "name": "stdout",
          "text": [
            "Enter A Number : 5\n",
            "5 is positive\n"
          ]
        }
      ]
    },
    {
      "cell_type": "markdown",
      "metadata": {
        "id": "aWziLa7WbpZA"
      },
      "source": [
        "**Q1:** Complete the following code below so that: \n",
        "* if the user input is greater than goal_number prompt 'Guess is higher!'\n",
        "* if user input is smaller than goal_number prompt 'Guess is lower!'\n",
        "* if user input is equal to the goal_number prompt 'Congratulations you guessed it right!'\n",
        "\n",
        "**A1** Replace ??? with code in the code cell below"
      ]
    },
    {
      "cell_type": "code",
      "metadata": {
        "id": "5KA09GE0a7_d",
        "colab": {
          "base_uri": "https://localhost:8080/"
        },
        "outputId": "57ae105a-452a-4d00-ed65-a7b5bc46446e"
      },
      "source": [
        "# A1: fill in ???\n",
        "from random import randint\n",
        "goal_number = randint(1,101)\n",
        "x = int(input('Guess your random number : '))\n",
        "\n",
        "assert x in range(1, 101), 'YOUR INPUT MUST BE BETWEEN 1 AND 100 INCLUSIVE'\n",
        "\n",
        "#A1 Enter your code below \n",
        "# If user input is greater than goal_number prompt 'Guess is higher!'\n",
        "# If user input is smaller than goal_number prompt 'Guess is lower!'\n",
        "# If user input is equal to the goal_number prompt 'Congratulations you guessed it right!'\n",
        "\n",
        "if x<goal_number:\n",
        "  print('Guess is higher!')\n",
        "elif x>goal_number:\n",
        "  print('Guess is lower!')\n",
        "else:\n",
        "  print('Congratulations you guessed it right!')"
      ],
      "execution_count": 2,
      "outputs": [
        {
          "output_type": "stream",
          "name": "stdout",
          "text": [
            "Guess your random number : 5\n",
            "Guess is higher!\n"
          ]
        }
      ]
    },
    {
      "cell_type": "markdown",
      "metadata": {
        "id": "cB1TvPM7gsHR"
      },
      "source": [
        "# while loop\n",
        "  "
      ]
    },
    {
      "cell_type": "markdown",
      "metadata": {
        "id": "LYG20xKP0C-_"
      },
      "source": [
        "Following is a random math expression generator Just study this code and don't worry about it. We just need it for some math game we are going to make  "
      ]
    },
    {
      "cell_type": "code",
      "metadata": {
        "id": "vgcaSt2Dgtey",
        "colab": {
          "base_uri": "https://localhost:8080/"
        },
        "outputId": "aa197a6b-a46f-4d61-ec42-949bc329b37e"
      },
      "source": [
        "from time import time\n",
        "import random\n",
        "random.seed()\n",
        "\n",
        "# Generate random symbol\n",
        "def symbol():\n",
        "  return random.choice(['+', '-', '*'])\n",
        "\n",
        "def symbol_():\n",
        "  return random.choice(['','-'])\n",
        "\n",
        "# Generate random number from 0 to 10\n",
        "def num():\n",
        "  return random.randint(0,10)\n",
        "\n",
        "rand_exp = f'{symbol_()} {num()} {symbol()} {num()} {symbol()} {num()} {symbol()} {num()}'\n",
        "print(f'rand_exp : {rand_exp}') \n",
        "print(f'solution : {rand_exp} = {eval(rand_exp)}') #We can Evaluate this statement"
      ],
      "execution_count": 3,
      "outputs": [
        {
          "output_type": "stream",
          "name": "stdout",
          "text": [
            "rand_exp : - 8 + 8 + 10 * 1\n",
            "solution : - 8 + 8 + 10 * 1 = 10\n"
          ]
        }
      ]
    },
    {
      "cell_type": "markdown",
      "metadata": {
        "id": "jt3U1GML0C_A"
      },
      "source": [
        "Now with the help of above we will design a math-machine-game.Basically you have to keep calculating the value of a mathematical expression correctly.  \n",
        "1) For every question you are give ten seconds.  \n",
        "2) The more questions you answer correctly and the faster, the higher your score.   \n",
        "3) Your total score is the total time you saved out of each ten-second window.  \n",
        "4) If you answer a qustion wrong game will end.  \n",
        "5) If time is runs out the game will end.  \n",
        "\n",
        "\n",
        "This is basically a tutorial to make a very simple game.  \n",
        "You will be using this same idea to make a game that includes guessing a number  "
      ]
    },
    {
      "cell_type": "code",
      "metadata": {
        "id": "UFgP9z8nlnbU",
        "colab": {
          "base_uri": "https://localhost:8080/"
        },
        "outputId": "e8fdf673-fd25-44c0-e57b-d32bb51adc1e"
      },
      "source": [
        "def math_machine_game():\n",
        "  score = 0\n",
        "  total_time = 10\n",
        "\n",
        "  while(True):\n",
        "    rand_exp = f'{symbol_()} {num()} {symbol()} {num()} {symbol()} {num()} {symbol()} {num()}'\n",
        "    real_value = eval(rand_exp)\n",
        "    timenow = time() #getting current time\n",
        "\n",
        "    value = int(input(f'{rand_exp} = '))\n",
        "    time_elapsed = int(time() - timenow) #just need this to calculate how many secods passed\n",
        "    intime = time_elapsed < total_time #is this on time??\n",
        "    print(f'time elapsed = {time_elapsed}')\n",
        "    print(f'-'*10)\n",
        "    if intime:\n",
        "      print(f'Great On Time')\n",
        "      if real_value == value:\n",
        "        score += int(total_time - time_elapsed)\n",
        "        print(f'Good one you got this right')\n",
        "        print(f'Your score is {score}')\n",
        "        print(f'-'*10)\n",
        "        pass\n",
        "        #continue # What does continue does here? \n",
        "      else:\n",
        "        print(f'Sorry the correct answer is {real_value}')\n",
        "        print(f'-'*10)\n",
        "        break # What does break does here?\n",
        "    else:\n",
        "      print(f'Sorry time expired')\n",
        "      print(f'-'*10)\n",
        "      break # What does break does here.\n",
        "\n",
        "  print(f'Final Score is {score}')\n",
        "\n",
        "math_machine_game()"
      ],
      "execution_count": 4,
      "outputs": [
        {
          "output_type": "stream",
          "name": "stdout",
          "text": [
            " 10 + 8 * 9 * 0 = 5\n",
            "time elapsed = 0\n",
            "----------\n",
            "Great On Time\n",
            "Sorry the correct answer is 10\n",
            "----------\n",
            "Final Score is 0\n"
          ]
        }
      ]
    },
    {
      "cell_type": "markdown",
      "metadata": {
        "id": "v-aFxbXfSdpA"
      },
      "source": [
        "Go to View -> Toggle Line Number (shift L) if you cannot see the line numbers\n",
        "\n",
        "**Q2** Respond to the following 3 questions related to the code snippet above \n",
        "\n",
        "1. What is the use of ```continue``` in line 22 in the code above?\n",
        "\n",
        "  _Continue restarts the code at the while statement and starts the loop over again and makes it where the compiler doesn't interact with any of the code after it._\n",
        "\n",
        "2. What happens if we replace ```continue``` (line 22) with ```pass``` statement?\n",
        "\n",
        " _The code work as if nothing had changed and the pass statement essentially was ignored by the compiler. So the code continued on as if nothing were there._ \n",
        "\n",
        "3. What is the use of ```break``` command on lines 26 and 30.    \n",
        "\n",
        "  _Without the break commands the code will contniue to run indefinitely. So their purpose is to break the current cycle and exit the loop and go to the begining of the while loop._\n",
        "\n",
        "HINT: replace the code, run the cell and explain the outcome "
      ]
    },
    {
      "cell_type": "markdown",
      "metadata": {
        "id": "IIntd-qp7EBV"
      },
      "source": [
        "## FUNCTIONAL PROGRAMMING"
      ]
    },
    {
      "cell_type": "markdown",
      "metadata": {
        "id": "is6Q9Fmg0C_D"
      },
      "source": [
        "[lambda operation]: A lambda function is an anynymous function. It simply takes some input, processes it and returns it  \n",
        "You can call it as a one line function as well  \n",
        "\n",
        "Example: a lambda function that takes a,b -> adds them and returns the sume  "
      ]
    },
    {
      "cell_type": "code",
      "metadata": {
        "id": "ol4lZgCv6NKQ",
        "colab": {
          "base_uri": "https://localhost:8080/"
        },
        "outputId": "2101d62e-2f05-46a7-be1b-e132c14d616d"
      },
      "source": [
        "#lambda\n",
        "sumthem = lambda a,b:a+b\n",
        "print(f'sumthem(2,3) = {sumthem(2,3)}')\n",
        "\n",
        "squareit = lambda a:a**2\n",
        "print(f'squareit(2) = {squareit(2)}')"
      ],
      "execution_count": 5,
      "outputs": [
        {
          "output_type": "stream",
          "name": "stdout",
          "text": [
            "sumthem(2,3) = 5\n",
            "squareit(2) = 4\n"
          ]
        }
      ]
    },
    {
      "cell_type": "markdown",
      "metadata": {
        "id": "AwvPRL9F0C_E"
      },
      "source": [
        "It is not advised to use lambda every time, there are specific uses of lambda operations  \n",
        "To understand this lets discuss another powerful concept called as map  \n",
        "\n",
        "For a list x = [1,3,5,6,7], if I want to find a square of each element, i can use for loop or lambda operator: "
      ]
    },
    {
      "cell_type": "code",
      "metadata": {
        "id": "vsmDEEI60C_E",
        "colab": {
          "base_uri": "https://localhost:8080/"
        },
        "outputId": "ccaec2fc-50f1-4a48-8d3f-c5c4d51f1259"
      },
      "source": [
        "#For loop \n",
        "x = [1,3,5,6,7]\n",
        "xsquare = []\n",
        "for xi in x:\n",
        "  xsquare.append(xi**2)\n",
        "print(f'x = {x}')\n",
        "print(f'xsquare = {xsquare}')\n",
        "\n",
        "# Well there is a pythonic way to do this, lets use map\n",
        "\n",
        "squarewithmap = map(lambda a:a**2, x)\n",
        "print(f'squarewithmap = {squarewithmap}')"
      ],
      "execution_count": 6,
      "outputs": [
        {
          "output_type": "stream",
          "name": "stdout",
          "text": [
            "x = [1, 3, 5, 6, 7]\n",
            "xsquare = [1, 9, 25, 36, 49]\n",
            "squarewithmap = <map object at 0x7f39f80a0a10>\n"
          ]
        }
      ]
    },
    {
      "cell_type": "markdown",
      "metadata": {
        "id": "kzBMtk2f0C_F"
      },
      "source": [
        "But that will print map object, you need to convert this into list. You can cast by list(mapobject)"
      ]
    },
    {
      "cell_type": "code",
      "metadata": {
        "id": "-quGXPTV0C_F",
        "colab": {
          "base_uri": "https://localhost:8080/"
        },
        "outputId": "3162d172-867d-40b3-d793-ec8577c817e3"
      },
      "source": [
        "#lambda\n",
        "squarewithmap = list(map(lambda a:a**2, x))\n",
        "print(f'squarewithmap = {squarewithmap}')\n",
        "# Or,\n",
        "squarewithmap = [*map(lambda a:a**2, x)]\n",
        "print(f'squarewithmap = {squarewithmap}')"
      ],
      "execution_count": 7,
      "outputs": [
        {
          "output_type": "stream",
          "name": "stdout",
          "text": [
            "squarewithmap = [1, 9, 25, 36, 49]\n",
            "squarewithmap = [1, 9, 25, 36, 49]\n"
          ]
        }
      ]
    },
    {
      "cell_type": "markdown",
      "metadata": {
        "id": "bi1FGMRT0C_F"
      },
      "source": [
        "Another important thing is 'filter'. Lets say we want to filter out odd numbers from x.   \n",
        "We can do this by taking only even numbers "
      ]
    },
    {
      "cell_type": "code",
      "metadata": {
        "id": "Lnz1kOWI0C_G",
        "colab": {
          "base_uri": "https://localhost:8080/"
        },
        "outputId": "ddcf8478-41ef-4d75-dac8-011d87c3ce8e"
      },
      "source": [
        "filtered = [*filter(lambda x:x%2==0,x)]\n",
        "print(f'filtered = {filtered}')\n",
        "\n",
        "# There are many other functional aspects, we suggest you to visit the documentation to learn cool stuff\n",
        "# I would love to add those, but already assignment is too long"
      ],
      "execution_count": 8,
      "outputs": [
        {
          "output_type": "stream",
          "name": "stdout",
          "text": [
            "filtered = [6]\n"
          ]
        }
      ]
    },
    {
      "cell_type": "markdown",
      "metadata": {
        "id": "tLgwe00m9un8"
      },
      "source": [
        "**Q3** Fill out two fuctional programming examples in the following code cell. \n",
        "\n",
        "**A3** Replace ? in the code below "
      ]
    },
    {
      "cell_type": "code",
      "metadata": {
        "id": "frQPIlth-sP4",
        "colab": {
          "base_uri": "https://localhost:8080/"
        },
        "outputId": "81f657bd-322b-4949-e8fb-8d8e6d0c903d"
      },
      "source": [
        "#Task 1: Add argument a, b, and c and return the result\n",
        "sum3 = lambda a, b, c: a + b + c \n",
        "print(f'sum3(1, 2, 3) = {sum3(1, 2, 3)}')\n",
        "\n",
        "#Task 2: Return True if the input augument is odd number\n",
        "isOdd = lambda x: x%2\n",
        "print(f'15 is an odd number : {isOdd(15)}')\n"
      ],
      "execution_count": 9,
      "outputs": [
        {
          "output_type": "stream",
          "name": "stdout",
          "text": [
            "sum3(1, 2, 3) = 6\n",
            "15 is an odd number : 1\n"
          ]
        }
      ]
    },
    {
      "cell_type": "markdown",
      "metadata": {
        "id": "Xaeevxa8HyMX"
      },
      "source": [
        "## PANDAS"
      ]
    },
    {
      "cell_type": "markdown",
      "metadata": {
        "id": "_lTzTBr-0C_H"
      },
      "source": [
        "[Pandas](https://pandas.pydata.org/docs/pandas.pdf) is a python library to deal with tabular data. \n",
        "First, we create artificial tabular data using python [faker](https://faker.readthedocs.io/en/master/) python module. \n",
        "\n",
        "If ```faker``` package is not installed, use \n",
        "```conda install faker``` in commandline"
      ]
    },
    {
      "cell_type": "code",
      "metadata": {
        "colab": {
          "base_uri": "https://localhost:8080/"
        },
        "id": "r2gxuvflUZto",
        "outputId": "03a11175-fa6f-4ccf-81b0-fe405f55b235"
      },
      "source": [
        "%pip install Faker"
      ],
      "execution_count": 10,
      "outputs": [
        {
          "output_type": "stream",
          "name": "stdout",
          "text": [
            "Requirement already satisfied: Faker in /usr/local/lib/python3.7/dist-packages (8.13.2)\n",
            "Requirement already satisfied: text-unidecode==1.3 in /usr/local/lib/python3.7/dist-packages (from Faker) (1.3)\n",
            "Requirement already satisfied: python-dateutil>=2.4 in /usr/local/lib/python3.7/dist-packages (from Faker) (2.8.2)\n",
            "Requirement already satisfied: six>=1.5 in /usr/local/lib/python3.7/dist-packages (from python-dateutil>=2.4->Faker) (1.15.0)\n"
          ]
        }
      ]
    },
    {
      "cell_type": "code",
      "metadata": {
        "id": "usirwjRxIdK3"
      },
      "source": [
        "# Lets use faker\n",
        "from faker import Faker\n",
        "import random\n",
        "random.seed()\n",
        "fake = Faker()\n",
        "\n",
        "#  Lets create some random data of size 100\n",
        "data = {'name' : [fake.name() for _ in range(100)],\n",
        "        'company' : [fake.company() for _ in range(100)],\n",
        "        'salary' : [random.randrange(50000,1000000,10000) for _ in range(100)],\n",
        "        'address' : [fake.address() for _ in range(100)]}\n"
      ],
      "execution_count": 11,
      "outputs": []
    },
    {
      "cell_type": "code",
      "metadata": {
        "id": "LWCS5IvZIs9q",
        "colab": {
          "base_uri": "https://localhost:8080/"
        },
        "outputId": "7c3334fe-895b-486e-b791-c1ba6df3d348"
      },
      "source": [
        "print(data) # See our data"
      ],
      "execution_count": 12,
      "outputs": [
        {
          "output_type": "stream",
          "name": "stdout",
          "text": [
            "{'name': ['Linda Solis', 'Patrick Bolton', 'Jacqueline Moyer', 'Michael Buck', 'Benjamin Morris', 'Seth Davies', 'Joseph Bailey', 'Molly Barnes', 'Jesse Brown', 'Margaret Sosa', 'Lauren Jenkins', 'Dean Williams', 'Paula Michael', 'Mark Stewart', 'Jason Allen', 'Annette White', 'Chad Elliott', 'Dr. Suzanne Lester', 'Brooke Tate', 'Anthony Lewis', 'Aimee Wright', 'Eric Bailey', 'Diana Little', 'Jennifer Bradley', 'Brianna Jensen', 'Dr. Christina Newman DVM', 'Rebecca Martinez', 'Daniel Walker', 'Pamela Simmons', 'Keith Lucas', 'Joseph Floyd', 'Heather Garcia', 'James Townsend', 'Jennifer West', 'Grant Trujillo', 'Sharon Martinez', 'Amanda Acevedo', 'Andrea Ruiz', 'Benjamin Thomas', 'John Mccormick', 'Tammy Rios', 'Erin Ryan', 'David Wells', 'Daniel Villarreal', 'David Evans', 'Brittany Kelly', 'William Cole', 'Gregory Manning', 'Eric Hunt', 'Christopher Alexander', 'Melanie Garcia', 'Megan Sparks', 'Juan Martinez', 'Kara Scott', 'Deborah Jackson', 'Sean Sanchez', 'Jesse Allen', 'Karen Russo', 'Christopher Davis', 'Paul Morgan', 'Michael Tapia', 'Jeffrey Howard', 'Abigail Peterson', 'Jacqueline Francis', 'Debra Hall', 'Emily Drake', 'Christina Fitzpatrick', 'Jack Grant', 'Yvonne Stone', 'Kevin Edwards', 'Mr. Richard Bush PhD', 'Amy Williams', 'Nathaniel Michael', 'Alexandria Howard', 'Michael Freeman', 'Michelle Carter', 'Eric Rodriguez', 'Paul Harris', 'Dennis Lopez', 'Megan Evans', 'Erin Padilla', 'Christopher Young', 'Rebecca Hickman', 'Joshua Perkins', 'Gary Dennis', 'Jim Wright', 'Troy Bailey', 'Russell Wright', 'John Thompson', 'Natalie Webb', 'Pamela Carter', 'David Vincent', 'Russell Pope', 'Amber Thomas DDS', 'Brenda Mendez', 'Nancy Andrade', 'Lisa Harrington', 'Gina Christensen', 'Jessica Ray', 'Emily Cochran'], 'company': ['Durham LLC', 'King-Walker', 'Rowe, Andersen and Gonzales', 'Peterson Group', 'Haney-House', 'Morrow Inc', 'Smith-Poole', 'Fisher, Lewis and Mcguire', 'Waters-Schneider', 'Jackson-West', 'Anderson-Spencer', 'Williams, Hoffman and Lane', 'Ward Ltd', 'Brown, Beck and Compton', 'Mccarthy, Williams and Castillo', 'Rodriguez, Schneider and White', 'Krause LLC', 'Smith-Richardson', 'Rich and Sons', 'Powers PLC', 'Lindsey PLC', 'Smith, Garcia and Henry', 'Mills, Price and Horn', 'Schneider-Gonzalez', 'Stevenson Group', 'Spencer, Brown and Roberts', 'Lopez-Patterson', 'Johnson-Silva', 'Porter-Porter', 'Yang, Patel and Grant', 'Cruz Inc', 'Thomas Ltd', 'Gonzalez Inc', 'Crawford-Knox', 'Osborne, Fox and Turner', 'Gonzales Inc', 'Butler, Reyes and Grimes', 'Ferguson, Sullivan and Dean', 'Allen-Barnes', 'Snyder-Aguilar', 'Rogers-Cline', 'West, Patterson and Farley', 'Allen, Crane and Flores', 'Harris, Owens and Swanson', 'Vasquez PLC', 'Reyes, Kerr and Booth', 'Reed and Sons', 'Henderson-Knight', 'Parker, Bishop and Branch', 'Leonard LLC', 'Frazier-Martin', 'Nelson Inc', 'Lindsey, Arnold and Cole', 'Baker-Elliott', 'Wells, Roberts and Lamb', 'Hogan and Sons', 'Evans, Johnson and Thornton', 'Rich-Summers', 'Graves-Nguyen', 'Jenkins-Mckay', 'Deleon PLC', 'Green-Moore', 'Nguyen-Riddle', 'Gonzalez-Nelson', 'Brandt, Simpson and Tapia', 'Day, Holland and Harris', 'Green Ltd', 'Howell, Mckee and Smith', 'Hernandez, Thomas and Edwards', 'Reyes, Kennedy and Crawford', 'Elliott Ltd', 'White, Dawson and Parks', 'Smith, Duncan and Douglas', 'Coleman-Alvarado', 'Ryan, Collins and Cooke', 'Mahoney, Gray and Maxwell', 'Campbell-Munoz', 'Zhang-Peck', 'Cooper, Rivas and Parsons', 'Collins-Jackson', 'Obrien-Tate', 'Gibson, Wolfe and Kim', 'Anderson-Bennett', 'Munoz-Hill', 'Wheeler Ltd', 'Montgomery, Kelly and Morris', 'Clarke-Haynes', 'Whitehead and Sons', 'Miller PLC', 'Rice LLC', 'Murphy Inc', 'Hall, Arnold and Freeman', 'Evans-Tucker', 'Johnson, Smith and Walton', 'Miller LLC', 'Bonilla Group', 'Vasquez, Keller and Lang', 'Taylor PLC', 'Larsen, Burke and Stewart', 'Jones LLC'], 'salary': [380000, 750000, 70000, 460000, 470000, 110000, 80000, 420000, 960000, 260000, 180000, 140000, 630000, 710000, 920000, 330000, 850000, 660000, 560000, 450000, 570000, 200000, 140000, 920000, 870000, 710000, 200000, 210000, 160000, 920000, 270000, 520000, 610000, 450000, 50000, 830000, 520000, 180000, 750000, 770000, 670000, 500000, 350000, 440000, 60000, 960000, 150000, 210000, 850000, 190000, 430000, 420000, 380000, 760000, 130000, 730000, 890000, 80000, 360000, 490000, 240000, 100000, 440000, 610000, 440000, 740000, 80000, 780000, 560000, 670000, 950000, 850000, 200000, 930000, 980000, 650000, 850000, 440000, 350000, 580000, 540000, 820000, 900000, 880000, 980000, 630000, 100000, 130000, 920000, 570000, 450000, 620000, 360000, 550000, 250000, 890000, 400000, 480000, 110000, 540000], 'address': ['903 Sara Branch Suite 536\\nBradfordport, ID 93254', '3275 Hayes Mission\\nNorth Mitchell, HI 15882', '63800 Mcgee Light\\nHarveyshire, TN 24156', '1187 Barton Dale\\nMeganhaven, DC 64802', '42746 James Fields Suite 778\\nNew Deborah, IA 85514', '1963 Christopher Mountains\\nOwenschester, MA 01391', '38322 Manuel Plaza\\nJonathanside, OH 53345', '4310 Bruce Forges\\nEmilyview, LA 51241', '96458 Martinez Hill\\nWrightside, WY 43403', '68198 Douglas Landing Suite 904\\nBrittanystad, VT 07500', '295 Brandon Circle\\nVictoriachester, ID 68506', '89090 Cindy Lock\\nEast Anthonyton, WV 81958', '032 Moore Rest Apt. 034\\nJasonland, AK 64819', '69272 Jesse Club\\nNorth Katherine, WY 85307', '168 Eric Passage\\nNorth Jonathantown, IN 47905', '62682 Jimenez Via\\nKevintown, IA 44109', '443 Angela Village Suite 418\\nPort Johnbury, GA 18885', '1391 John Corner\\nJohnbury, ND 71782', '50806 Lewis Lake Suite 657\\nBrownhaven, SD 79026', '013 Gregory Points Suite 880\\nHaletown, WV 84928', '1856 Madison Drive Suite 327\\nLake Julie, OR 43803', '286 Garrett Walk\\nChristensenshire, TX 05182', '798 Gonzalez Springs\\nLake Megan, GA 61658', '4761 Estes Common Apt. 099\\nSharpberg, MD 84478', '108 Lance Stravenue\\nEast Brandonmouth, VT 20857', '8150 Cheryl Stravenue Suite 389\\nFloresfurt, MN 34014', 'USCGC Martinez\\nFPO AE 92489', 'Unit 1848 Box 6294\\nDPO AP 86784', '64940 Patrick Light Apt. 319\\nLake Emily, ID 41795', 'USCGC Haynes\\nFPO AP 36824', '907 Katherine Shore Apt. 726\\nMarkville, IA 35110', '074 Amanda Shoal Suite 743\\nBeckfurt, OR 15186', '3883 Steele Stream\\nLake Kennethbury, NC 94050', '538 Dylan Track Suite 308\\nJohnsonstad, IL 47471', '073 Mark Course\\nWest Laurenton, IL 75176', '6721 James Keys Apt. 146\\nEast Ann, NJ 68060', '4752 Spence Gateway Suite 051\\nSalasville, HI 04848', 'USCGC Ramos\\nFPO AE 08796', '0445 Austin Garden Suite 043\\nLindafort, AR 06431', '91346 Valdez Crossroad Suite 843\\nElizabethborough, ND 08110', '60890 Carter Isle\\nWest Andrewtown, AR 86774', '4818 Hampton Pine\\nMcguireport, OK 75136', '76079 Nicholas Streets\\nWest Lisa, AZ 65165', '45419 Edward Walks Apt. 347\\nSarahbury, FL 11801', '05274 Palmer Street\\nLake Troy, WV 05331', 'USCGC Rangel\\nFPO AA 65111', '33076 Brown Fords Apt. 611\\nMichaelmouth, DE 37330', '4357 Debra Ranch Suite 719\\nSouth Sharontown, IA 48426', '637 Michael Cliff Suite 229\\nNorth Vincentmouth, MS 49428', '3296 Terry Land Apt. 638\\nNew Kevin, ME 09185', '839 Brown Stream\\nRhondaland, CO 12576', '15431 Kimberly Heights Apt. 615\\nNorth Mistyview, AZ 45581', '1242 Patterson Junctions Apt. 103\\nDeniseside, AZ 51760', '640 Lewis Ways Apt. 830\\nThomasbury, IL 68405', '4944 Mcfarland Underpass Suite 996\\nEast Johntown, MI 63448', '1415 Jason Pine\\nLake Angela, WA 60649', '37738 Murphy Track Apt. 340\\nLake Sherri, KY 67818', '59034 George Dale Suite 659\\nNew Andres, NC 17100', '74219 Parsons Mews Suite 810\\nRichardborough, KY 13166', '5514 Allison Drive\\nPort Alicia, TX 77163', '228 Anne Forks Suite 632\\nSouth Nicholas, ND 34829', '6370 Castillo Hills\\nNorth Jacobville, WV 33466', '3985 Adam Passage\\nEast Courtneymouth, KS 77445', '51472 Jose Hills Apt. 677\\nEdwardmouth, CA 19901', '34435 Lawrence Square Apt. 647\\nPort Mary, HI 53382', '199 John Isle\\nNew Ashley, CO 93939', '724 Wright Cliffs\\nNew Katherine, TN 80988', '95133 Alexander Squares Apt. 603\\nLake Melaniehaven, WV 14014', '207 Anderson Inlet\\nParksborough, KY 77343', '8360 Amanda Lock\\nSouth Adamville, VT 52471', '9569 Bender Run Suite 923\\nHartshire, UT 08429', '13254 Rodgers Expressway\\nBrockport, NM 98458', '7344 Becker Meadows\\nAnaville, WY 29188', '0843 Allen Forges Apt. 463\\nRussellmouth, IN 55608', '074 Brown Crest Apt. 605\\nEast Kathrynchester, MD 28359', '797 Ward Dam Apt. 208\\nLake Justinstad, LA 56237', '151 Crystal Bridge Suite 696\\nWebsterside, OH 62096', '8459 Shea Pike Suite 534\\nWagnerborough, AZ 90651', '4816 Kyle Ranch\\nEllisview, FL 11564', '4226 Angela Summit\\nSmithchester, NY 78814', '0096 Cruz Tunnel\\nKristenland, IA 93581', '8615 West Camp Apt. 832\\nTimothyport, OK 49592', 'PSC 8119, Box 7687\\nAPO AP 61281', '759 Nicole Inlet Suite 694\\nNorth Rebecca, PA 11532', '7777 Fernando Point Suite 938\\nThomasfort, UT 89605', '68952 Daniel Way Suite 598\\nCarlsonberg, MN 55237', '34130 Howard Prairie Suite 710\\nEast Brandonside, VA 00550', '285 Angela Curve Apt. 751\\nNew Susanshire, AK 82736', '91352 Brittany Locks\\nNew Brucestad, MO 65618', '99214 Lawrence Mews\\nWest Danielletown, LA 85464', '2501 Sierra Ridge Suite 553\\nEricmouth, IN 58136', '931 Hopkins Forge\\nLake Jillhaven, NV 45632', '2537 Glen Port Apt. 317\\nNew Davidside, AR 98346', '1891 Roger Motorway\\nBreannahaven, WY 70524', '15229 Thomas Track\\nScottburgh, NM 27959', '71871 Brad Pines Apt. 139\\nLake Sandraland, PA 24825', '6074 Michelle Fall\\nMyersburgh, ND 09789', '474 Stone Walk Apt. 892\\nMichaelstad, RI 23846', '804 Richard Spring\\nDennismouth, GA 47929', '6552 Macdonald Oval Apt. 516\\nPort Elizabeth, NJ 95312']}\n"
          ]
        }
      ]
    },
    {
      "cell_type": "markdown",
      "metadata": {
        "id": "Uhdb8wRZ0C_J"
      },
      "source": [
        "### Well, now we can use panda dataframe to make this data more neat"
      ]
    },
    {
      "cell_type": "code",
      "metadata": {
        "id": "WOrV-AcMIzgM",
        "colab": {
          "base_uri": "https://localhost:8080/",
          "height": 419
        },
        "outputId": "6f8fd65f-f15c-4815-e59b-607257ada931"
      },
      "source": [
        "import pandas as pd\n",
        "df = pd.DataFrame(data = data, columns = data.keys())\n",
        "df"
      ],
      "execution_count": 13,
      "outputs": [
        {
          "output_type": "execute_result",
          "data": {
            "text/html": [
              "<div>\n",
              "<style scoped>\n",
              "    .dataframe tbody tr th:only-of-type {\n",
              "        vertical-align: middle;\n",
              "    }\n",
              "\n",
              "    .dataframe tbody tr th {\n",
              "        vertical-align: top;\n",
              "    }\n",
              "\n",
              "    .dataframe thead th {\n",
              "        text-align: right;\n",
              "    }\n",
              "</style>\n",
              "<table border=\"1\" class=\"dataframe\">\n",
              "  <thead>\n",
              "    <tr style=\"text-align: right;\">\n",
              "      <th></th>\n",
              "      <th>name</th>\n",
              "      <th>company</th>\n",
              "      <th>salary</th>\n",
              "      <th>address</th>\n",
              "    </tr>\n",
              "  </thead>\n",
              "  <tbody>\n",
              "    <tr>\n",
              "      <th>0</th>\n",
              "      <td>Linda Solis</td>\n",
              "      <td>Durham LLC</td>\n",
              "      <td>380000</td>\n",
              "      <td>903 Sara Branch Suite 536\\nBradfordport, ID 93254</td>\n",
              "    </tr>\n",
              "    <tr>\n",
              "      <th>1</th>\n",
              "      <td>Patrick Bolton</td>\n",
              "      <td>King-Walker</td>\n",
              "      <td>750000</td>\n",
              "      <td>3275 Hayes Mission\\nNorth Mitchell, HI 15882</td>\n",
              "    </tr>\n",
              "    <tr>\n",
              "      <th>2</th>\n",
              "      <td>Jacqueline Moyer</td>\n",
              "      <td>Rowe, Andersen and Gonzales</td>\n",
              "      <td>70000</td>\n",
              "      <td>63800 Mcgee Light\\nHarveyshire, TN 24156</td>\n",
              "    </tr>\n",
              "    <tr>\n",
              "      <th>3</th>\n",
              "      <td>Michael Buck</td>\n",
              "      <td>Peterson Group</td>\n",
              "      <td>460000</td>\n",
              "      <td>1187 Barton Dale\\nMeganhaven, DC 64802</td>\n",
              "    </tr>\n",
              "    <tr>\n",
              "      <th>4</th>\n",
              "      <td>Benjamin Morris</td>\n",
              "      <td>Haney-House</td>\n",
              "      <td>470000</td>\n",
              "      <td>42746 James Fields Suite 778\\nNew Deborah, IA ...</td>\n",
              "    </tr>\n",
              "    <tr>\n",
              "      <th>...</th>\n",
              "      <td>...</td>\n",
              "      <td>...</td>\n",
              "      <td>...</td>\n",
              "      <td>...</td>\n",
              "    </tr>\n",
              "    <tr>\n",
              "      <th>95</th>\n",
              "      <td>Nancy Andrade</td>\n",
              "      <td>Bonilla Group</td>\n",
              "      <td>890000</td>\n",
              "      <td>71871 Brad Pines Apt. 139\\nLake Sandraland, PA...</td>\n",
              "    </tr>\n",
              "    <tr>\n",
              "      <th>96</th>\n",
              "      <td>Lisa Harrington</td>\n",
              "      <td>Vasquez, Keller and Lang</td>\n",
              "      <td>400000</td>\n",
              "      <td>6074 Michelle Fall\\nMyersburgh, ND 09789</td>\n",
              "    </tr>\n",
              "    <tr>\n",
              "      <th>97</th>\n",
              "      <td>Gina Christensen</td>\n",
              "      <td>Taylor PLC</td>\n",
              "      <td>480000</td>\n",
              "      <td>474 Stone Walk Apt. 892\\nMichaelstad, RI 23846</td>\n",
              "    </tr>\n",
              "    <tr>\n",
              "      <th>98</th>\n",
              "      <td>Jessica Ray</td>\n",
              "      <td>Larsen, Burke and Stewart</td>\n",
              "      <td>110000</td>\n",
              "      <td>804 Richard Spring\\nDennismouth, GA 47929</td>\n",
              "    </tr>\n",
              "    <tr>\n",
              "      <th>99</th>\n",
              "      <td>Emily Cochran</td>\n",
              "      <td>Jones LLC</td>\n",
              "      <td>540000</td>\n",
              "      <td>6552 Macdonald Oval Apt. 516\\nPort Elizabeth, ...</td>\n",
              "    </tr>\n",
              "  </tbody>\n",
              "</table>\n",
              "<p>100 rows × 4 columns</p>\n",
              "</div>"
            ],
            "text/plain": [
              "                name  ...                                            address\n",
              "0        Linda Solis  ...  903 Sara Branch Suite 536\\nBradfordport, ID 93254\n",
              "1     Patrick Bolton  ...       3275 Hayes Mission\\nNorth Mitchell, HI 15882\n",
              "2   Jacqueline Moyer  ...           63800 Mcgee Light\\nHarveyshire, TN 24156\n",
              "3       Michael Buck  ...             1187 Barton Dale\\nMeganhaven, DC 64802\n",
              "4    Benjamin Morris  ...  42746 James Fields Suite 778\\nNew Deborah, IA ...\n",
              "..               ...  ...                                                ...\n",
              "95     Nancy Andrade  ...  71871 Brad Pines Apt. 139\\nLake Sandraland, PA...\n",
              "96   Lisa Harrington  ...           6074 Michelle Fall\\nMyersburgh, ND 09789\n",
              "97  Gina Christensen  ...     474 Stone Walk Apt. 892\\nMichaelstad, RI 23846\n",
              "98       Jessica Ray  ...          804 Richard Spring\\nDennismouth, GA 47929\n",
              "99     Emily Cochran  ...  6552 Macdonald Oval Apt. 516\\nPort Elizabeth, ...\n",
              "\n",
              "[100 rows x 4 columns]"
            ]
          },
          "metadata": {},
          "execution_count": 13
        }
      ]
    },
    {
      "cell_type": "code",
      "metadata": {
        "id": "5oydGZMVJBxj",
        "colab": {
          "base_uri": "https://localhost:8080/",
          "height": 297
        },
        "outputId": "3fcdd629-bacc-478e-9a78-fdfd2898717f"
      },
      "source": [
        "df.describe() # Interesting things about this data frame is we can see the summary of data"
      ],
      "execution_count": 14,
      "outputs": [
        {
          "output_type": "execute_result",
          "data": {
            "text/html": [
              "<div>\n",
              "<style scoped>\n",
              "    .dataframe tbody tr th:only-of-type {\n",
              "        vertical-align: middle;\n",
              "    }\n",
              "\n",
              "    .dataframe tbody tr th {\n",
              "        vertical-align: top;\n",
              "    }\n",
              "\n",
              "    .dataframe thead th {\n",
              "        text-align: right;\n",
              "    }\n",
              "</style>\n",
              "<table border=\"1\" class=\"dataframe\">\n",
              "  <thead>\n",
              "    <tr style=\"text-align: right;\">\n",
              "      <th></th>\n",
              "      <th>salary</th>\n",
              "    </tr>\n",
              "  </thead>\n",
              "  <tbody>\n",
              "    <tr>\n",
              "      <th>count</th>\n",
              "      <td>100.000000</td>\n",
              "    </tr>\n",
              "    <tr>\n",
              "      <th>mean</th>\n",
              "      <td>508500.000000</td>\n",
              "    </tr>\n",
              "    <tr>\n",
              "      <th>std</th>\n",
              "      <td>281537.535399</td>\n",
              "    </tr>\n",
              "    <tr>\n",
              "      <th>min</th>\n",
              "      <td>50000.000000</td>\n",
              "    </tr>\n",
              "    <tr>\n",
              "      <th>25%</th>\n",
              "      <td>247500.000000</td>\n",
              "    </tr>\n",
              "    <tr>\n",
              "      <th>50%</th>\n",
              "      <td>495000.000000</td>\n",
              "    </tr>\n",
              "    <tr>\n",
              "      <th>75%</th>\n",
              "      <td>750000.000000</td>\n",
              "    </tr>\n",
              "    <tr>\n",
              "      <th>max</th>\n",
              "      <td>980000.000000</td>\n",
              "    </tr>\n",
              "  </tbody>\n",
              "</table>\n",
              "</div>"
            ],
            "text/plain": [
              "              salary\n",
              "count     100.000000\n",
              "mean   508500.000000\n",
              "std    281537.535399\n",
              "min     50000.000000\n",
              "25%    247500.000000\n",
              "50%    495000.000000\n",
              "75%    750000.000000\n",
              "max    980000.000000"
            ]
          },
          "metadata": {},
          "execution_count": 14
        }
      ]
    },
    {
      "cell_type": "markdown",
      "metadata": {
        "id": "qifzqDQr0C_K"
      },
      "source": [
        "So since salary is only a column with numeric values, we get only salary statistics  \n",
        "You can access each column by following two ways  \n",
        "Lets access salary  "
      ]
    },
    {
      "cell_type": "code",
      "metadata": {
        "id": "0BZVOiPNJyex",
        "colab": {
          "base_uri": "https://localhost:8080/"
        },
        "outputId": "fd58f36a-8e6b-44cc-dfa0-10318963b92d"
      },
      "source": [
        "\n",
        "df.salary"
      ],
      "execution_count": 15,
      "outputs": [
        {
          "output_type": "execute_result",
          "data": {
            "text/plain": [
              "0     380000\n",
              "1     750000\n",
              "2      70000\n",
              "3     460000\n",
              "4     470000\n",
              "       ...  \n",
              "95    890000\n",
              "96    400000\n",
              "97    480000\n",
              "98    110000\n",
              "99    540000\n",
              "Name: salary, Length: 100, dtype: int64"
            ]
          },
          "metadata": {},
          "execution_count": 15
        }
      ]
    },
    {
      "cell_type": "code",
      "metadata": {
        "id": "UiypF01hJ77M",
        "colab": {
          "base_uri": "https://localhost:8080/"
        },
        "outputId": "a54a7bb3-1757-47cf-a6c2-caec6582713e"
      },
      "source": [
        "df['salary'] # Similarly another way "
      ],
      "execution_count": 16,
      "outputs": [
        {
          "output_type": "execute_result",
          "data": {
            "text/plain": [
              "0     380000\n",
              "1     750000\n",
              "2      70000\n",
              "3     460000\n",
              "4     470000\n",
              "       ...  \n",
              "95    890000\n",
              "96    400000\n",
              "97    480000\n",
              "98    110000\n",
              "99    540000\n",
              "Name: salary, Length: 100, dtype: int64"
            ]
          },
          "metadata": {},
          "execution_count": 16
        }
      ]
    },
    {
      "cell_type": "markdown",
      "metadata": {
        "id": "f9SMpDVF0C_L"
      },
      "source": [
        "For further more indexing of data frame please review panda documentation  \n",
        "Now lets do some interesting stuff, lets create a column that has an information about if that person salary is above 500k  "
      ]
    },
    {
      "cell_type": "code",
      "metadata": {
        "id": "N9eoyzhaKJot",
        "colab": {
          "base_uri": "https://localhost:8080/",
          "height": 204
        },
        "outputId": "0c6e7f9b-ee15-4a3f-8799-51b83c64063d"
      },
      "source": [
        "df['above500k'] = df.salary > 500000\n",
        "\n",
        "df.head() # Now lets review our dataframe"
      ],
      "execution_count": 17,
      "outputs": [
        {
          "output_type": "execute_result",
          "data": {
            "text/html": [
              "<div>\n",
              "<style scoped>\n",
              "    .dataframe tbody tr th:only-of-type {\n",
              "        vertical-align: middle;\n",
              "    }\n",
              "\n",
              "    .dataframe tbody tr th {\n",
              "        vertical-align: top;\n",
              "    }\n",
              "\n",
              "    .dataframe thead th {\n",
              "        text-align: right;\n",
              "    }\n",
              "</style>\n",
              "<table border=\"1\" class=\"dataframe\">\n",
              "  <thead>\n",
              "    <tr style=\"text-align: right;\">\n",
              "      <th></th>\n",
              "      <th>name</th>\n",
              "      <th>company</th>\n",
              "      <th>salary</th>\n",
              "      <th>address</th>\n",
              "      <th>above500k</th>\n",
              "    </tr>\n",
              "  </thead>\n",
              "  <tbody>\n",
              "    <tr>\n",
              "      <th>0</th>\n",
              "      <td>Linda Solis</td>\n",
              "      <td>Durham LLC</td>\n",
              "      <td>380000</td>\n",
              "      <td>903 Sara Branch Suite 536\\nBradfordport, ID 93254</td>\n",
              "      <td>False</td>\n",
              "    </tr>\n",
              "    <tr>\n",
              "      <th>1</th>\n",
              "      <td>Patrick Bolton</td>\n",
              "      <td>King-Walker</td>\n",
              "      <td>750000</td>\n",
              "      <td>3275 Hayes Mission\\nNorth Mitchell, HI 15882</td>\n",
              "      <td>True</td>\n",
              "    </tr>\n",
              "    <tr>\n",
              "      <th>2</th>\n",
              "      <td>Jacqueline Moyer</td>\n",
              "      <td>Rowe, Andersen and Gonzales</td>\n",
              "      <td>70000</td>\n",
              "      <td>63800 Mcgee Light\\nHarveyshire, TN 24156</td>\n",
              "      <td>False</td>\n",
              "    </tr>\n",
              "    <tr>\n",
              "      <th>3</th>\n",
              "      <td>Michael Buck</td>\n",
              "      <td>Peterson Group</td>\n",
              "      <td>460000</td>\n",
              "      <td>1187 Barton Dale\\nMeganhaven, DC 64802</td>\n",
              "      <td>False</td>\n",
              "    </tr>\n",
              "    <tr>\n",
              "      <th>4</th>\n",
              "      <td>Benjamin Morris</td>\n",
              "      <td>Haney-House</td>\n",
              "      <td>470000</td>\n",
              "      <td>42746 James Fields Suite 778\\nNew Deborah, IA ...</td>\n",
              "      <td>False</td>\n",
              "    </tr>\n",
              "  </tbody>\n",
              "</table>\n",
              "</div>"
            ],
            "text/plain": [
              "               name  ... above500k\n",
              "0       Linda Solis  ...     False\n",
              "1    Patrick Bolton  ...      True\n",
              "2  Jacqueline Moyer  ...     False\n",
              "3      Michael Buck  ...     False\n",
              "4   Benjamin Morris  ...     False\n",
              "\n",
              "[5 rows x 5 columns]"
            ]
          },
          "metadata": {},
          "execution_count": 17
        }
      ]
    },
    {
      "cell_type": "markdown",
      "metadata": {
        "id": "JaWEfKmq0C_L"
      },
      "source": [
        "Now lets say we wan't to do even more complicated stuff  \n",
        "We want to add a status column that has following information  \n",
        "If salary is between 0 to 500k we will write '0k-500k USD' else we will write '500k-1M USD' in 'status' column  \n",
        "This can be done easily  "
      ]
    },
    {
      "cell_type": "code",
      "metadata": {
        "id": "pgh2QjbnOExD",
        "colab": {
          "base_uri": "https://localhost:8080/",
          "height": 289
        },
        "outputId": "4063815b-cee6-4857-a0cf-d072390e799a"
      },
      "source": [
        "df['status'] = df.salary.apply(lambda x:'0k-500k USD' if x in range(0,500000) else '500k-1M USD')\n",
        "\n",
        "# Now lets see our data frame\n",
        "df.head()"
      ],
      "execution_count": 18,
      "outputs": [
        {
          "output_type": "execute_result",
          "data": {
            "text/html": [
              "<div>\n",
              "<style scoped>\n",
              "    .dataframe tbody tr th:only-of-type {\n",
              "        vertical-align: middle;\n",
              "    }\n",
              "\n",
              "    .dataframe tbody tr th {\n",
              "        vertical-align: top;\n",
              "    }\n",
              "\n",
              "    .dataframe thead th {\n",
              "        text-align: right;\n",
              "    }\n",
              "</style>\n",
              "<table border=\"1\" class=\"dataframe\">\n",
              "  <thead>\n",
              "    <tr style=\"text-align: right;\">\n",
              "      <th></th>\n",
              "      <th>name</th>\n",
              "      <th>company</th>\n",
              "      <th>salary</th>\n",
              "      <th>address</th>\n",
              "      <th>above500k</th>\n",
              "      <th>status</th>\n",
              "    </tr>\n",
              "  </thead>\n",
              "  <tbody>\n",
              "    <tr>\n",
              "      <th>0</th>\n",
              "      <td>Linda Solis</td>\n",
              "      <td>Durham LLC</td>\n",
              "      <td>380000</td>\n",
              "      <td>903 Sara Branch Suite 536\\nBradfordport, ID 93254</td>\n",
              "      <td>False</td>\n",
              "      <td>0k-500k USD</td>\n",
              "    </tr>\n",
              "    <tr>\n",
              "      <th>1</th>\n",
              "      <td>Patrick Bolton</td>\n",
              "      <td>King-Walker</td>\n",
              "      <td>750000</td>\n",
              "      <td>3275 Hayes Mission\\nNorth Mitchell, HI 15882</td>\n",
              "      <td>True</td>\n",
              "      <td>500k-1M USD</td>\n",
              "    </tr>\n",
              "    <tr>\n",
              "      <th>2</th>\n",
              "      <td>Jacqueline Moyer</td>\n",
              "      <td>Rowe, Andersen and Gonzales</td>\n",
              "      <td>70000</td>\n",
              "      <td>63800 Mcgee Light\\nHarveyshire, TN 24156</td>\n",
              "      <td>False</td>\n",
              "      <td>0k-500k USD</td>\n",
              "    </tr>\n",
              "    <tr>\n",
              "      <th>3</th>\n",
              "      <td>Michael Buck</td>\n",
              "      <td>Peterson Group</td>\n",
              "      <td>460000</td>\n",
              "      <td>1187 Barton Dale\\nMeganhaven, DC 64802</td>\n",
              "      <td>False</td>\n",
              "      <td>0k-500k USD</td>\n",
              "    </tr>\n",
              "    <tr>\n",
              "      <th>4</th>\n",
              "      <td>Benjamin Morris</td>\n",
              "      <td>Haney-House</td>\n",
              "      <td>470000</td>\n",
              "      <td>42746 James Fields Suite 778\\nNew Deborah, IA ...</td>\n",
              "      <td>False</td>\n",
              "      <td>0k-500k USD</td>\n",
              "    </tr>\n",
              "  </tbody>\n",
              "</table>\n",
              "</div>"
            ],
            "text/plain": [
              "               name                      company  ...  above500k       status\n",
              "0       Linda Solis                   Durham LLC  ...      False  0k-500k USD\n",
              "1    Patrick Bolton                  King-Walker  ...       True  500k-1M USD\n",
              "2  Jacqueline Moyer  Rowe, Andersen and Gonzales  ...      False  0k-500k USD\n",
              "3      Michael Buck               Peterson Group  ...      False  0k-500k USD\n",
              "4   Benjamin Morris                  Haney-House  ...      False  0k-500k USD\n",
              "\n",
              "[5 rows x 6 columns]"
            ]
          },
          "metadata": {},
          "execution_count": 18
        }
      ]
    },
    {
      "cell_type": "markdown",
      "metadata": {
        "id": "VuddK2uT0C_M"
      },
      "source": [
        "Now Lets say we wan't to save our data frame in csv format  \n",
        "We can do so by following steps  "
      ]
    },
    {
      "cell_type": "code",
      "metadata": {
        "id": "K1iCldU-KL-o"
      },
      "source": [
        "\n",
        "df.to_csv('fakedata.csv', index = None) #I am not preserving index here"
      ],
      "execution_count": 19,
      "outputs": []
    },
    {
      "cell_type": "code",
      "metadata": {
        "id": "JbEygJhDKaYL",
        "colab": {
          "base_uri": "https://localhost:8080/"
        },
        "outputId": "43a7242b-9784-486b-c18a-070116e80925"
      },
      "source": [
        "# Lets see if we have saved the data frame \n",
        "%ls"
      ],
      "execution_count": 20,
      "outputs": [
        {
          "output_type": "stream",
          "name": "stdout",
          "text": [
            "fakedata.csv  rdu-weather-history.csv  \u001b[0m\u001b[01;34msample_data\u001b[0m/  weather.csv\n"
          ]
        }
      ]
    },
    {
      "cell_type": "code",
      "metadata": {
        "id": "F03AckLBKwUF",
        "colab": {
          "base_uri": "https://localhost:8080/",
          "height": 289
        },
        "outputId": "052cfeeb-0549-4b91-f4cd-3b0b45b63f0d"
      },
      "source": [
        "# Now we can read this data frame as well\n",
        "newdf = pd.read_csv('fakedata.csv')\n",
        "newdf.head()"
      ],
      "execution_count": 21,
      "outputs": [
        {
          "output_type": "execute_result",
          "data": {
            "text/html": [
              "<div>\n",
              "<style scoped>\n",
              "    .dataframe tbody tr th:only-of-type {\n",
              "        vertical-align: middle;\n",
              "    }\n",
              "\n",
              "    .dataframe tbody tr th {\n",
              "        vertical-align: top;\n",
              "    }\n",
              "\n",
              "    .dataframe thead th {\n",
              "        text-align: right;\n",
              "    }\n",
              "</style>\n",
              "<table border=\"1\" class=\"dataframe\">\n",
              "  <thead>\n",
              "    <tr style=\"text-align: right;\">\n",
              "      <th></th>\n",
              "      <th>name</th>\n",
              "      <th>company</th>\n",
              "      <th>salary</th>\n",
              "      <th>address</th>\n",
              "      <th>above500k</th>\n",
              "      <th>status</th>\n",
              "    </tr>\n",
              "  </thead>\n",
              "  <tbody>\n",
              "    <tr>\n",
              "      <th>0</th>\n",
              "      <td>Linda Solis</td>\n",
              "      <td>Durham LLC</td>\n",
              "      <td>380000</td>\n",
              "      <td>903 Sara Branch Suite 536\\nBradfordport, ID 93254</td>\n",
              "      <td>False</td>\n",
              "      <td>0k-500k USD</td>\n",
              "    </tr>\n",
              "    <tr>\n",
              "      <th>1</th>\n",
              "      <td>Patrick Bolton</td>\n",
              "      <td>King-Walker</td>\n",
              "      <td>750000</td>\n",
              "      <td>3275 Hayes Mission\\nNorth Mitchell, HI 15882</td>\n",
              "      <td>True</td>\n",
              "      <td>500k-1M USD</td>\n",
              "    </tr>\n",
              "    <tr>\n",
              "      <th>2</th>\n",
              "      <td>Jacqueline Moyer</td>\n",
              "      <td>Rowe, Andersen and Gonzales</td>\n",
              "      <td>70000</td>\n",
              "      <td>63800 Mcgee Light\\nHarveyshire, TN 24156</td>\n",
              "      <td>False</td>\n",
              "      <td>0k-500k USD</td>\n",
              "    </tr>\n",
              "    <tr>\n",
              "      <th>3</th>\n",
              "      <td>Michael Buck</td>\n",
              "      <td>Peterson Group</td>\n",
              "      <td>460000</td>\n",
              "      <td>1187 Barton Dale\\nMeganhaven, DC 64802</td>\n",
              "      <td>False</td>\n",
              "      <td>0k-500k USD</td>\n",
              "    </tr>\n",
              "    <tr>\n",
              "      <th>4</th>\n",
              "      <td>Benjamin Morris</td>\n",
              "      <td>Haney-House</td>\n",
              "      <td>470000</td>\n",
              "      <td>42746 James Fields Suite 778\\nNew Deborah, IA ...</td>\n",
              "      <td>False</td>\n",
              "      <td>0k-500k USD</td>\n",
              "    </tr>\n",
              "  </tbody>\n",
              "</table>\n",
              "</div>"
            ],
            "text/plain": [
              "               name                      company  ...  above500k       status\n",
              "0       Linda Solis                   Durham LLC  ...      False  0k-500k USD\n",
              "1    Patrick Bolton                  King-Walker  ...       True  500k-1M USD\n",
              "2  Jacqueline Moyer  Rowe, Andersen and Gonzales  ...      False  0k-500k USD\n",
              "3      Michael Buck               Peterson Group  ...      False  0k-500k USD\n",
              "4   Benjamin Morris                  Haney-House  ...      False  0k-500k USD\n",
              "\n",
              "[5 rows x 6 columns]"
            ]
          },
          "metadata": {},
          "execution_count": 21
        }
      ]
    },
    {
      "cell_type": "markdown",
      "metadata": {
        "id": "KkXBU99R0C_N"
      },
      "source": [
        "### Well there are many more stuff to learn in panda data frame  \n",
        "But for now you will be doing something similar above  \n",
        "Following exercise will give you some advance concept in panda dataframe.  \n",
        "you will be asked few things to code at last.  "
      ]
    },
    {
      "cell_type": "markdown",
      "metadata": {
        "id": "WR10aDNE0C_O"
      },
      "source": [
        "### First lets download the data set\n",
        "### https://data.townofcary.org/api/v2/catalog/datasets/rdu-weather-history/exports/csv"
      ]
    },
    {
      "cell_type": "code",
      "metadata": {
        "id": "nwHvmfCYQS9W",
        "colab": {
          "base_uri": "https://localhost:8080/"
        },
        "outputId": "d532ba1e-9e9f-4b0d-d626-5b6d0f14c4d5"
      },
      "source": [
        "import pandas as pd\n",
        "df = pd.read_csv('rdu-weather-history.csv', sep = ';')\n",
        "# Lets see the size of our data\n",
        "df.shape"
      ],
      "execution_count": 22,
      "outputs": [
        {
          "output_type": "execute_result",
          "data": {
            "text/plain": [
              "(4377, 28)"
            ]
          },
          "metadata": {},
          "execution_count": 22
        }
      ]
    },
    {
      "cell_type": "code",
      "metadata": {
        "id": "tKCCP_mEQVmF",
        "colab": {
          "base_uri": "https://localhost:8080/",
          "height": 309
        },
        "outputId": "d81ada27-ca2b-48e4-9c55-687e83a7cc84"
      },
      "source": [
        "df.head()"
      ],
      "execution_count": 23,
      "outputs": [
        {
          "output_type": "execute_result",
          "data": {
            "text/html": [
              "<div>\n",
              "<style scoped>\n",
              "    .dataframe tbody tr th:only-of-type {\n",
              "        vertical-align: middle;\n",
              "    }\n",
              "\n",
              "    .dataframe tbody tr th {\n",
              "        vertical-align: top;\n",
              "    }\n",
              "\n",
              "    .dataframe thead th {\n",
              "        text-align: right;\n",
              "    }\n",
              "</style>\n",
              "<table border=\"1\" class=\"dataframe\">\n",
              "  <thead>\n",
              "    <tr style=\"text-align: right;\">\n",
              "      <th></th>\n",
              "      <th>date</th>\n",
              "      <th>temperaturemin</th>\n",
              "      <th>temperaturemax</th>\n",
              "      <th>precipitation</th>\n",
              "      <th>snowfall</th>\n",
              "      <th>snowdepth</th>\n",
              "      <th>avgwindspeed</th>\n",
              "      <th>fastest2minwinddir</th>\n",
              "      <th>fastest2minwindspeed</th>\n",
              "      <th>fastest5secwinddir</th>\n",
              "      <th>fastest5secwindspeed</th>\n",
              "      <th>fog</th>\n",
              "      <th>fogheavy</th>\n",
              "      <th>mist</th>\n",
              "      <th>rain</th>\n",
              "      <th>fogground</th>\n",
              "      <th>ice</th>\n",
              "      <th>glaze</th>\n",
              "      <th>drizzle</th>\n",
              "      <th>snow</th>\n",
              "      <th>freezingrain</th>\n",
              "      <th>smokehaze</th>\n",
              "      <th>thunder</th>\n",
              "      <th>highwind</th>\n",
              "      <th>hail</th>\n",
              "      <th>blowingsnow</th>\n",
              "      <th>dust</th>\n",
              "      <th>freezingfog</th>\n",
              "    </tr>\n",
              "  </thead>\n",
              "  <tbody>\n",
              "    <tr>\n",
              "      <th>0</th>\n",
              "      <td>2009-01-01</td>\n",
              "      <td>23</td>\n",
              "      <td>42</td>\n",
              "      <td>0.00</td>\n",
              "      <td>0.0</td>\n",
              "      <td>0.0</td>\n",
              "      <td>3.80</td>\n",
              "      <td>50</td>\n",
              "      <td>12.1</td>\n",
              "      <td>NaN</td>\n",
              "      <td>NaN</td>\n",
              "      <td>NaN</td>\n",
              "      <td>NaN</td>\n",
              "      <td>NaN</td>\n",
              "      <td>NaN</td>\n",
              "      <td>NaN</td>\n",
              "      <td>NaN</td>\n",
              "      <td>NaN</td>\n",
              "      <td>NaN</td>\n",
              "      <td>NaN</td>\n",
              "      <td>NaN</td>\n",
              "      <td>NaN</td>\n",
              "      <td>NaN</td>\n",
              "      <td>NaN</td>\n",
              "      <td>NaN</td>\n",
              "      <td>NaN</td>\n",
              "      <td>NaN</td>\n",
              "      <td>NaN</td>\n",
              "    </tr>\n",
              "    <tr>\n",
              "      <th>1</th>\n",
              "      <td>2009-01-03</td>\n",
              "      <td>32</td>\n",
              "      <td>58</td>\n",
              "      <td>0.00</td>\n",
              "      <td>0.0</td>\n",
              "      <td>0.0</td>\n",
              "      <td>2.01</td>\n",
              "      <td>240</td>\n",
              "      <td>8.1</td>\n",
              "      <td>NaN</td>\n",
              "      <td>NaN</td>\n",
              "      <td>Present</td>\n",
              "      <td>Present</td>\n",
              "      <td>Present</td>\n",
              "      <td>NaN</td>\n",
              "      <td>NaN</td>\n",
              "      <td>NaN</td>\n",
              "      <td>NaN</td>\n",
              "      <td>NaN</td>\n",
              "      <td>NaN</td>\n",
              "      <td>NaN</td>\n",
              "      <td>NaN</td>\n",
              "      <td>NaN</td>\n",
              "      <td>NaN</td>\n",
              "      <td>NaN</td>\n",
              "      <td>Present</td>\n",
              "      <td>NaN</td>\n",
              "      <td>NaN</td>\n",
              "    </tr>\n",
              "    <tr>\n",
              "      <th>2</th>\n",
              "      <td>2009-01-04</td>\n",
              "      <td>43</td>\n",
              "      <td>56</td>\n",
              "      <td>0.62</td>\n",
              "      <td>0.0</td>\n",
              "      <td>0.0</td>\n",
              "      <td>4.03</td>\n",
              "      <td>230</td>\n",
              "      <td>12.1</td>\n",
              "      <td>NaN</td>\n",
              "      <td>NaN</td>\n",
              "      <td>Present</td>\n",
              "      <td>NaN</td>\n",
              "      <td>Present</td>\n",
              "      <td>Present</td>\n",
              "      <td>NaN</td>\n",
              "      <td>NaN</td>\n",
              "      <td>NaN</td>\n",
              "      <td>Present</td>\n",
              "      <td>NaN</td>\n",
              "      <td>NaN</td>\n",
              "      <td>NaN</td>\n",
              "      <td>NaN</td>\n",
              "      <td>NaN</td>\n",
              "      <td>Present</td>\n",
              "      <td>NaN</td>\n",
              "      <td>NaN</td>\n",
              "      <td>NaN</td>\n",
              "    </tr>\n",
              "    <tr>\n",
              "      <th>3</th>\n",
              "      <td>2009-01-07</td>\n",
              "      <td>41</td>\n",
              "      <td>68</td>\n",
              "      <td>0.16</td>\n",
              "      <td>0.0</td>\n",
              "      <td>0.0</td>\n",
              "      <td>18.34</td>\n",
              "      <td>240</td>\n",
              "      <td>42.9</td>\n",
              "      <td>NaN</td>\n",
              "      <td>NaN</td>\n",
              "      <td>Present</td>\n",
              "      <td>Present</td>\n",
              "      <td>Present</td>\n",
              "      <td>Present</td>\n",
              "      <td>NaN</td>\n",
              "      <td>NaN</td>\n",
              "      <td>NaN</td>\n",
              "      <td>NaN</td>\n",
              "      <td>NaN</td>\n",
              "      <td>NaN</td>\n",
              "      <td>NaN</td>\n",
              "      <td>NaN</td>\n",
              "      <td>NaN</td>\n",
              "      <td>Present</td>\n",
              "      <td>NaN</td>\n",
              "      <td>NaN</td>\n",
              "      <td>NaN</td>\n",
              "    </tr>\n",
              "    <tr>\n",
              "      <th>4</th>\n",
              "      <td>2009-01-14</td>\n",
              "      <td>28</td>\n",
              "      <td>46</td>\n",
              "      <td>0.00</td>\n",
              "      <td>0.0</td>\n",
              "      <td>0.0</td>\n",
              "      <td>5.82</td>\n",
              "      <td>210</td>\n",
              "      <td>12.1</td>\n",
              "      <td>NaN</td>\n",
              "      <td>NaN</td>\n",
              "      <td>NaN</td>\n",
              "      <td>NaN</td>\n",
              "      <td>NaN</td>\n",
              "      <td>NaN</td>\n",
              "      <td>NaN</td>\n",
              "      <td>NaN</td>\n",
              "      <td>NaN</td>\n",
              "      <td>NaN</td>\n",
              "      <td>NaN</td>\n",
              "      <td>NaN</td>\n",
              "      <td>NaN</td>\n",
              "      <td>NaN</td>\n",
              "      <td>NaN</td>\n",
              "      <td>NaN</td>\n",
              "      <td>NaN</td>\n",
              "      <td>NaN</td>\n",
              "      <td>NaN</td>\n",
              "    </tr>\n",
              "  </tbody>\n",
              "</table>\n",
              "</div>"
            ],
            "text/plain": [
              "         date  temperaturemin  temperaturemax  ...  blowingsnow  dust  freezingfog\n",
              "0  2009-01-01              23              42  ...          NaN   NaN          NaN\n",
              "1  2009-01-03              32              58  ...      Present   NaN          NaN\n",
              "2  2009-01-04              43              56  ...          NaN   NaN          NaN\n",
              "3  2009-01-07              41              68  ...          NaN   NaN          NaN\n",
              "4  2009-01-14              28              46  ...          NaN   NaN          NaN\n",
              "\n",
              "[5 rows x 28 columns]"
            ]
          },
          "metadata": {},
          "execution_count": 23
        }
      ]
    },
    {
      "cell_type": "markdown",
      "metadata": {
        "id": "jTF7x0_u0C_O"
      },
      "source": [
        "Well this is a public data. There might be many missing values.  \n",
        "Lets see these missing values  "
      ]
    },
    {
      "cell_type": "code",
      "metadata": {
        "id": "QJ1HLBTeTGVE",
        "colab": {
          "base_uri": "https://localhost:8080/"
        },
        "outputId": "9fad31af-8a18-4bc3-9b03-509c7b8f5881"
      },
      "source": [
        "df.isna().sum()"
      ],
      "execution_count": 24,
      "outputs": [
        {
          "output_type": "execute_result",
          "data": {
            "text/plain": [
              "date                       0\n",
              "temperaturemin             0\n",
              "temperaturemax             0\n",
              "precipitation              0\n",
              "snowfall                   2\n",
              "snowdepth                 25\n",
              "avgwindspeed               0\n",
              "fastest2minwinddir         0\n",
              "fastest2minwindspeed       0\n",
              "fastest5secwinddir      4377\n",
              "fastest5secwindspeed    4377\n",
              "fog                     2477\n",
              "fogheavy                4133\n",
              "mist                    3874\n",
              "rain                    3776\n",
              "fogground               4368\n",
              "ice                     4335\n",
              "glaze                   4361\n",
              "drizzle                 4210\n",
              "snow                    4343\n",
              "freezingrain            4375\n",
              "smokehaze               4150\n",
              "thunder                 3841\n",
              "highwind                4376\n",
              "hail                    4142\n",
              "blowingsnow             4337\n",
              "dust                    4341\n",
              "freezingfog             4375\n",
              "dtype: int64"
            ]
          },
          "metadata": {},
          "execution_count": 24
        }
      ]
    },
    {
      "cell_type": "code",
      "metadata": {
        "id": "unXPA5BiR58H",
        "colab": {
          "base_uri": "https://localhost:8080/"
        },
        "outputId": "0bf35500-e194-4a54-c36b-f61837817af5"
      },
      "source": [
        "df.columns # Lets see columns of our data"
      ],
      "execution_count": 25,
      "outputs": [
        {
          "output_type": "execute_result",
          "data": {
            "text/plain": [
              "Index(['date', 'temperaturemin', 'temperaturemax', 'precipitation', 'snowfall',\n",
              "       'snowdepth', 'avgwindspeed', 'fastest2minwinddir',\n",
              "       'fastest2minwindspeed', 'fastest5secwinddir', 'fastest5secwindspeed',\n",
              "       'fog', 'fogheavy', 'mist', 'rain', 'fogground', 'ice', 'glaze',\n",
              "       'drizzle', 'snow', 'freezingrain', 'smokehaze', 'thunder', 'highwind',\n",
              "       'hail', 'blowingsnow', 'dust', 'freezingfog'],\n",
              "      dtype='object')"
            ]
          },
          "metadata": {},
          "execution_count": 25
        }
      ]
    },
    {
      "cell_type": "markdown",
      "metadata": {
        "id": "HBXAh0_Y0C_P"
      },
      "source": [
        "### One important thing to notice here is following columns \n",
        "\n",
        "'fog', 'fogheavy', 'mist', 'rain', 'fogground', 'ice', 'glaze',\n",
        "'drizzle', 'snow', 'freezingrain', 'smokehaze', 'thunder', 'highwind',\n",
        "'hail', 'blowingsnow', 'dust', 'freezingfog'\n",
        "\n",
        "These columns are weather information, it will be lot more easier to see these values in one single column called weather. So we can do this by following code, observe closely what we are doing."
      ]
    },
    {
      "cell_type": "code",
      "metadata": {
        "id": "9_ulxDeX0C_P"
      },
      "source": [
        "tidydf = pd.melt(df,['date', 'temperaturemin', 'temperaturemax', 'precipitation', 'snowfall',\n",
        "       'snowdepth', 'avgwindspeed', 'fastest2minwinddir',\n",
        "       'fastest2minwindspeed', 'fastest5secwinddir', 'fastest5secwindspeed'],var_name=\"weather\",value_name=\"status\")"
      ],
      "execution_count": 26,
      "outputs": []
    },
    {
      "cell_type": "code",
      "metadata": {
        "id": "zjlU1HWJSD5q",
        "colab": {
          "base_uri": "https://localhost:8080/",
          "height": 309
        },
        "outputId": "bd06f18d-f1b6-4b03-9cc2-b54197daf557"
      },
      "source": [
        "tidydf.head()"
      ],
      "execution_count": 27,
      "outputs": [
        {
          "output_type": "execute_result",
          "data": {
            "text/html": [
              "<div>\n",
              "<style scoped>\n",
              "    .dataframe tbody tr th:only-of-type {\n",
              "        vertical-align: middle;\n",
              "    }\n",
              "\n",
              "    .dataframe tbody tr th {\n",
              "        vertical-align: top;\n",
              "    }\n",
              "\n",
              "    .dataframe thead th {\n",
              "        text-align: right;\n",
              "    }\n",
              "</style>\n",
              "<table border=\"1\" class=\"dataframe\">\n",
              "  <thead>\n",
              "    <tr style=\"text-align: right;\">\n",
              "      <th></th>\n",
              "      <th>date</th>\n",
              "      <th>temperaturemin</th>\n",
              "      <th>temperaturemax</th>\n",
              "      <th>precipitation</th>\n",
              "      <th>snowfall</th>\n",
              "      <th>snowdepth</th>\n",
              "      <th>avgwindspeed</th>\n",
              "      <th>fastest2minwinddir</th>\n",
              "      <th>fastest2minwindspeed</th>\n",
              "      <th>fastest5secwinddir</th>\n",
              "      <th>fastest5secwindspeed</th>\n",
              "      <th>weather</th>\n",
              "      <th>status</th>\n",
              "    </tr>\n",
              "  </thead>\n",
              "  <tbody>\n",
              "    <tr>\n",
              "      <th>0</th>\n",
              "      <td>2009-01-01</td>\n",
              "      <td>23</td>\n",
              "      <td>42</td>\n",
              "      <td>0.00</td>\n",
              "      <td>0.0</td>\n",
              "      <td>0.0</td>\n",
              "      <td>3.80</td>\n",
              "      <td>50</td>\n",
              "      <td>12.1</td>\n",
              "      <td>NaN</td>\n",
              "      <td>NaN</td>\n",
              "      <td>fog</td>\n",
              "      <td>NaN</td>\n",
              "    </tr>\n",
              "    <tr>\n",
              "      <th>1</th>\n",
              "      <td>2009-01-03</td>\n",
              "      <td>32</td>\n",
              "      <td>58</td>\n",
              "      <td>0.00</td>\n",
              "      <td>0.0</td>\n",
              "      <td>0.0</td>\n",
              "      <td>2.01</td>\n",
              "      <td>240</td>\n",
              "      <td>8.1</td>\n",
              "      <td>NaN</td>\n",
              "      <td>NaN</td>\n",
              "      <td>fog</td>\n",
              "      <td>Present</td>\n",
              "    </tr>\n",
              "    <tr>\n",
              "      <th>2</th>\n",
              "      <td>2009-01-04</td>\n",
              "      <td>43</td>\n",
              "      <td>56</td>\n",
              "      <td>0.62</td>\n",
              "      <td>0.0</td>\n",
              "      <td>0.0</td>\n",
              "      <td>4.03</td>\n",
              "      <td>230</td>\n",
              "      <td>12.1</td>\n",
              "      <td>NaN</td>\n",
              "      <td>NaN</td>\n",
              "      <td>fog</td>\n",
              "      <td>Present</td>\n",
              "    </tr>\n",
              "    <tr>\n",
              "      <th>3</th>\n",
              "      <td>2009-01-07</td>\n",
              "      <td>41</td>\n",
              "      <td>68</td>\n",
              "      <td>0.16</td>\n",
              "      <td>0.0</td>\n",
              "      <td>0.0</td>\n",
              "      <td>18.34</td>\n",
              "      <td>240</td>\n",
              "      <td>42.9</td>\n",
              "      <td>NaN</td>\n",
              "      <td>NaN</td>\n",
              "      <td>fog</td>\n",
              "      <td>Present</td>\n",
              "    </tr>\n",
              "    <tr>\n",
              "      <th>4</th>\n",
              "      <td>2009-01-14</td>\n",
              "      <td>28</td>\n",
              "      <td>46</td>\n",
              "      <td>0.00</td>\n",
              "      <td>0.0</td>\n",
              "      <td>0.0</td>\n",
              "      <td>5.82</td>\n",
              "      <td>210</td>\n",
              "      <td>12.1</td>\n",
              "      <td>NaN</td>\n",
              "      <td>NaN</td>\n",
              "      <td>fog</td>\n",
              "      <td>NaN</td>\n",
              "    </tr>\n",
              "  </tbody>\n",
              "</table>\n",
              "</div>"
            ],
            "text/plain": [
              "         date  temperaturemin  ...  weather   status\n",
              "0  2009-01-01              23  ...      fog      NaN\n",
              "1  2009-01-03              32  ...      fog  Present\n",
              "2  2009-01-04              43  ...      fog  Present\n",
              "3  2009-01-07              41  ...      fog  Present\n",
              "4  2009-01-14              28  ...      fog      NaN\n",
              "\n",
              "[5 rows x 13 columns]"
            ]
          },
          "metadata": {},
          "execution_count": 27
        }
      ]
    },
    {
      "cell_type": "markdown",
      "metadata": {
        "id": "ggZwC19-0C_Q"
      },
      "source": [
        "### Now we don't need rows that has status 'No' so we will only select rows with 'Yes' status. Moreover, now we don't  need status column any more so lets drop that column as well"
      ]
    },
    {
      "cell_type": "code",
      "metadata": {
        "id": "3BEf7dbaSJUv",
        "colab": {
          "base_uri": "https://localhost:8080/",
          "height": 309
        },
        "outputId": "2350ac7e-dea5-4ab9-9baf-788c03d299bc"
      },
      "source": [
        "\n",
        "df = tidydf[tidydf.status == 'Present']\n",
        "df = df.drop(columns = ['status'])\n",
        "df.head()"
      ],
      "execution_count": 28,
      "outputs": [
        {
          "output_type": "execute_result",
          "data": {
            "text/html": [
              "<div>\n",
              "<style scoped>\n",
              "    .dataframe tbody tr th:only-of-type {\n",
              "        vertical-align: middle;\n",
              "    }\n",
              "\n",
              "    .dataframe tbody tr th {\n",
              "        vertical-align: top;\n",
              "    }\n",
              "\n",
              "    .dataframe thead th {\n",
              "        text-align: right;\n",
              "    }\n",
              "</style>\n",
              "<table border=\"1\" class=\"dataframe\">\n",
              "  <thead>\n",
              "    <tr style=\"text-align: right;\">\n",
              "      <th></th>\n",
              "      <th>date</th>\n",
              "      <th>temperaturemin</th>\n",
              "      <th>temperaturemax</th>\n",
              "      <th>precipitation</th>\n",
              "      <th>snowfall</th>\n",
              "      <th>snowdepth</th>\n",
              "      <th>avgwindspeed</th>\n",
              "      <th>fastest2minwinddir</th>\n",
              "      <th>fastest2minwindspeed</th>\n",
              "      <th>fastest5secwinddir</th>\n",
              "      <th>fastest5secwindspeed</th>\n",
              "      <th>weather</th>\n",
              "    </tr>\n",
              "  </thead>\n",
              "  <tbody>\n",
              "    <tr>\n",
              "      <th>1</th>\n",
              "      <td>2009-01-03</td>\n",
              "      <td>32</td>\n",
              "      <td>58</td>\n",
              "      <td>0.00</td>\n",
              "      <td>0.0</td>\n",
              "      <td>0.0</td>\n",
              "      <td>2.01</td>\n",
              "      <td>240</td>\n",
              "      <td>8.1</td>\n",
              "      <td>NaN</td>\n",
              "      <td>NaN</td>\n",
              "      <td>fog</td>\n",
              "    </tr>\n",
              "    <tr>\n",
              "      <th>2</th>\n",
              "      <td>2009-01-04</td>\n",
              "      <td>43</td>\n",
              "      <td>56</td>\n",
              "      <td>0.62</td>\n",
              "      <td>0.0</td>\n",
              "      <td>0.0</td>\n",
              "      <td>4.03</td>\n",
              "      <td>230</td>\n",
              "      <td>12.1</td>\n",
              "      <td>NaN</td>\n",
              "      <td>NaN</td>\n",
              "      <td>fog</td>\n",
              "    </tr>\n",
              "    <tr>\n",
              "      <th>3</th>\n",
              "      <td>2009-01-07</td>\n",
              "      <td>41</td>\n",
              "      <td>68</td>\n",
              "      <td>0.16</td>\n",
              "      <td>0.0</td>\n",
              "      <td>0.0</td>\n",
              "      <td>18.34</td>\n",
              "      <td>240</td>\n",
              "      <td>42.9</td>\n",
              "      <td>NaN</td>\n",
              "      <td>NaN</td>\n",
              "      <td>fog</td>\n",
              "    </tr>\n",
              "    <tr>\n",
              "      <th>6</th>\n",
              "      <td>2009-01-30</td>\n",
              "      <td>28</td>\n",
              "      <td>50</td>\n",
              "      <td>0.00</td>\n",
              "      <td>0.0</td>\n",
              "      <td>0.0</td>\n",
              "      <td>4.70</td>\n",
              "      <td>290</td>\n",
              "      <td>17.0</td>\n",
              "      <td>NaN</td>\n",
              "      <td>NaN</td>\n",
              "      <td>fog</td>\n",
              "    </tr>\n",
              "    <tr>\n",
              "      <th>7</th>\n",
              "      <td>2009-02-03</td>\n",
              "      <td>32</td>\n",
              "      <td>46</td>\n",
              "      <td>0.15</td>\n",
              "      <td>0.0</td>\n",
              "      <td>0.0</td>\n",
              "      <td>7.61</td>\n",
              "      <td>290</td>\n",
              "      <td>16.1</td>\n",
              "      <td>NaN</td>\n",
              "      <td>NaN</td>\n",
              "      <td>fog</td>\n",
              "    </tr>\n",
              "  </tbody>\n",
              "</table>\n",
              "</div>"
            ],
            "text/plain": [
              "         date  temperaturemin  ...  fastest5secwindspeed  weather\n",
              "1  2009-01-03              32  ...                   NaN      fog\n",
              "2  2009-01-04              43  ...                   NaN      fog\n",
              "3  2009-01-07              41  ...                   NaN      fog\n",
              "6  2009-01-30              28  ...                   NaN      fog\n",
              "7  2009-02-03              32  ...                   NaN      fog\n",
              "\n",
              "[5 rows x 12 columns]"
            ]
          },
          "metadata": {},
          "execution_count": 28
        }
      ]
    },
    {
      "cell_type": "code",
      "metadata": {
        "id": "bwGz0jR4S3_4",
        "colab": {
          "base_uri": "https://localhost:8080/",
          "height": 317
        },
        "outputId": "1b5e6946-93e5-49bb-e5ab-45bd614b26a6"
      },
      "source": [
        "# Now lets describe this data\n",
        "\n",
        "df.describe()"
      ],
      "execution_count": 29,
      "outputs": [
        {
          "output_type": "execute_result",
          "data": {
            "text/html": [
              "<div>\n",
              "<style scoped>\n",
              "    .dataframe tbody tr th:only-of-type {\n",
              "        vertical-align: middle;\n",
              "    }\n",
              "\n",
              "    .dataframe tbody tr th {\n",
              "        vertical-align: top;\n",
              "    }\n",
              "\n",
              "    .dataframe thead th {\n",
              "        text-align: right;\n",
              "    }\n",
              "</style>\n",
              "<table border=\"1\" class=\"dataframe\">\n",
              "  <thead>\n",
              "    <tr style=\"text-align: right;\">\n",
              "      <th></th>\n",
              "      <th>temperaturemin</th>\n",
              "      <th>temperaturemax</th>\n",
              "      <th>precipitation</th>\n",
              "      <th>snowfall</th>\n",
              "      <th>snowdepth</th>\n",
              "      <th>avgwindspeed</th>\n",
              "      <th>fastest2minwinddir</th>\n",
              "      <th>fastest2minwindspeed</th>\n",
              "      <th>fastest5secwinddir</th>\n",
              "      <th>fastest5secwindspeed</th>\n",
              "    </tr>\n",
              "  </thead>\n",
              "  <tbody>\n",
              "    <tr>\n",
              "      <th>count</th>\n",
              "      <td>4595.000000</td>\n",
              "      <td>4595.000000</td>\n",
              "      <td>4595.000000</td>\n",
              "      <td>4595.000000</td>\n",
              "      <td>4572.000000</td>\n",
              "      <td>4595.000000</td>\n",
              "      <td>4595.000000</td>\n",
              "      <td>4595.000000</td>\n",
              "      <td>0.0</td>\n",
              "      <td>0.0</td>\n",
              "    </tr>\n",
              "    <tr>\n",
              "      <th>mean</th>\n",
              "      <td>54.486398</td>\n",
              "      <td>72.810229</td>\n",
              "      <td>0.276603</td>\n",
              "      <td>0.042503</td>\n",
              "      <td>0.030621</td>\n",
              "      <td>6.075976</td>\n",
              "      <td>164.970620</td>\n",
              "      <td>16.858390</td>\n",
              "      <td>NaN</td>\n",
              "      <td>NaN</td>\n",
              "    </tr>\n",
              "    <tr>\n",
              "      <th>std</th>\n",
              "      <td>15.218435</td>\n",
              "      <td>16.970579</td>\n",
              "      <td>0.454832</td>\n",
              "      <td>0.372524</td>\n",
              "      <td>0.279306</td>\n",
              "      <td>3.049237</td>\n",
              "      <td>92.729226</td>\n",
              "      <td>5.982619</td>\n",
              "      <td>NaN</td>\n",
              "      <td>NaN</td>\n",
              "    </tr>\n",
              "    <tr>\n",
              "      <th>min</th>\n",
              "      <td>9.000000</td>\n",
              "      <td>27.000000</td>\n",
              "      <td>0.000000</td>\n",
              "      <td>0.000000</td>\n",
              "      <td>0.000000</td>\n",
              "      <td>0.000000</td>\n",
              "      <td>10.000000</td>\n",
              "      <td>4.900000</td>\n",
              "      <td>NaN</td>\n",
              "      <td>NaN</td>\n",
              "    </tr>\n",
              "    <tr>\n",
              "      <th>25%</th>\n",
              "      <td>41.000000</td>\n",
              "      <td>61.000000</td>\n",
              "      <td>0.000000</td>\n",
              "      <td>0.000000</td>\n",
              "      <td>0.000000</td>\n",
              "      <td>3.800000</td>\n",
              "      <td>70.000000</td>\n",
              "      <td>13.000000</td>\n",
              "      <td>NaN</td>\n",
              "      <td>NaN</td>\n",
              "    </tr>\n",
              "    <tr>\n",
              "      <th>50%</th>\n",
              "      <td>57.000000</td>\n",
              "      <td>76.000000</td>\n",
              "      <td>0.080000</td>\n",
              "      <td>0.000000</td>\n",
              "      <td>0.000000</td>\n",
              "      <td>5.590000</td>\n",
              "      <td>190.000000</td>\n",
              "      <td>16.100000</td>\n",
              "      <td>NaN</td>\n",
              "      <td>NaN</td>\n",
              "    </tr>\n",
              "    <tr>\n",
              "      <th>75%</th>\n",
              "      <td>68.000000</td>\n",
              "      <td>87.000000</td>\n",
              "      <td>0.370000</td>\n",
              "      <td>0.000000</td>\n",
              "      <td>0.000000</td>\n",
              "      <td>7.610000</td>\n",
              "      <td>230.000000</td>\n",
              "      <td>21.000000</td>\n",
              "      <td>NaN</td>\n",
              "      <td>NaN</td>\n",
              "    </tr>\n",
              "    <tr>\n",
              "      <th>max</th>\n",
              "      <td>79.000000</td>\n",
              "      <td>105.000000</td>\n",
              "      <td>6.450000</td>\n",
              "      <td>7.000000</td>\n",
              "      <td>4.000000</td>\n",
              "      <td>20.360000</td>\n",
              "      <td>360.000000</td>\n",
              "      <td>44.100000</td>\n",
              "      <td>NaN</td>\n",
              "      <td>NaN</td>\n",
              "    </tr>\n",
              "  </tbody>\n",
              "</table>\n",
              "</div>"
            ],
            "text/plain": [
              "       temperaturemin  temperaturemax  ...  fastest5secwinddir  fastest5secwindspeed\n",
              "count     4595.000000     4595.000000  ...                 0.0                   0.0\n",
              "mean        54.486398       72.810229  ...                 NaN                   NaN\n",
              "std         15.218435       16.970579  ...                 NaN                   NaN\n",
              "min          9.000000       27.000000  ...                 NaN                   NaN\n",
              "25%         41.000000       61.000000  ...                 NaN                   NaN\n",
              "50%         57.000000       76.000000  ...                 NaN                   NaN\n",
              "75%         68.000000       87.000000  ...                 NaN                   NaN\n",
              "max         79.000000      105.000000  ...                 NaN                   NaN\n",
              "\n",
              "[8 rows x 10 columns]"
            ]
          },
          "metadata": {},
          "execution_count": 29
        }
      ]
    },
    {
      "cell_type": "markdown",
      "metadata": {
        "id": "dxWrEOL9WdGH"
      },
      "source": [
        "**Q5** Write the code below so that \n",
        "1. Get rid of the following columns in df: 'fastest2minwinddir','fastest2minwindspeed','fastest5secwinddir','fastest5secwindspeed'\n",
        "2. Calculate and add 'avgtemperature' column (Note : avgtemperature is an average of temperaturemin and temperaturemax)\n",
        "3. After completing 2. get rid of two columns 'temperaturemin','temperaturemax'\n",
        "\n",
        "**A5** Write code in the cell below"
      ]
    },
    {
      "cell_type": "code",
      "metadata": {
        "id": "nhVYFFNmVEQQ",
        "colab": {
          "base_uri": "https://localhost:8080/",
          "height": 204
        },
        "outputId": "a663b7a9-91a1-41e5-b24f-706405a36fed"
      },
      "source": [
        "#A5 Task1:\n",
        "\n",
        "# Code goes below\n",
        "df = df.drop(columns = ['fastest2minwinddir','fastest2minwindspeed','fastest5secwinddir','fastest5secwindspeed'])\n",
        "# Print the head of the data\n",
        "df.head()\n",
        "#A5 Task2:\n",
        "\n",
        "# Code goes below\n",
        "avg =  df['temperaturemin'] + df['temperaturemax']\n",
        "avg = avg/2\n",
        "df['avgtemperature'] = avg\n",
        "\n",
        "\n",
        "# Print the head of the data\n",
        "df.head()\n",
        "\n",
        "#A5 Task3: \n",
        "\n",
        "# Code goes below\n",
        "df = df.drop(columns = ['temperaturemin','temperaturemax'])\n",
        "\n",
        "# Print the head of the data\n",
        "df.head()\n",
        "\n"
      ],
      "execution_count": 30,
      "outputs": [
        {
          "output_type": "execute_result",
          "data": {
            "text/html": [
              "<div>\n",
              "<style scoped>\n",
              "    .dataframe tbody tr th:only-of-type {\n",
              "        vertical-align: middle;\n",
              "    }\n",
              "\n",
              "    .dataframe tbody tr th {\n",
              "        vertical-align: top;\n",
              "    }\n",
              "\n",
              "    .dataframe thead th {\n",
              "        text-align: right;\n",
              "    }\n",
              "</style>\n",
              "<table border=\"1\" class=\"dataframe\">\n",
              "  <thead>\n",
              "    <tr style=\"text-align: right;\">\n",
              "      <th></th>\n",
              "      <th>date</th>\n",
              "      <th>precipitation</th>\n",
              "      <th>snowfall</th>\n",
              "      <th>snowdepth</th>\n",
              "      <th>avgwindspeed</th>\n",
              "      <th>weather</th>\n",
              "      <th>avgtemperature</th>\n",
              "    </tr>\n",
              "  </thead>\n",
              "  <tbody>\n",
              "    <tr>\n",
              "      <th>1</th>\n",
              "      <td>2009-01-03</td>\n",
              "      <td>0.00</td>\n",
              "      <td>0.0</td>\n",
              "      <td>0.0</td>\n",
              "      <td>2.01</td>\n",
              "      <td>fog</td>\n",
              "      <td>45.0</td>\n",
              "    </tr>\n",
              "    <tr>\n",
              "      <th>2</th>\n",
              "      <td>2009-01-04</td>\n",
              "      <td>0.62</td>\n",
              "      <td>0.0</td>\n",
              "      <td>0.0</td>\n",
              "      <td>4.03</td>\n",
              "      <td>fog</td>\n",
              "      <td>49.5</td>\n",
              "    </tr>\n",
              "    <tr>\n",
              "      <th>3</th>\n",
              "      <td>2009-01-07</td>\n",
              "      <td>0.16</td>\n",
              "      <td>0.0</td>\n",
              "      <td>0.0</td>\n",
              "      <td>18.34</td>\n",
              "      <td>fog</td>\n",
              "      <td>54.5</td>\n",
              "    </tr>\n",
              "    <tr>\n",
              "      <th>6</th>\n",
              "      <td>2009-01-30</td>\n",
              "      <td>0.00</td>\n",
              "      <td>0.0</td>\n",
              "      <td>0.0</td>\n",
              "      <td>4.70</td>\n",
              "      <td>fog</td>\n",
              "      <td>39.0</td>\n",
              "    </tr>\n",
              "    <tr>\n",
              "      <th>7</th>\n",
              "      <td>2009-02-03</td>\n",
              "      <td>0.15</td>\n",
              "      <td>0.0</td>\n",
              "      <td>0.0</td>\n",
              "      <td>7.61</td>\n",
              "      <td>fog</td>\n",
              "      <td>39.0</td>\n",
              "    </tr>\n",
              "  </tbody>\n",
              "</table>\n",
              "</div>"
            ],
            "text/plain": [
              "         date  precipitation  snowfall  ...  avgwindspeed  weather avgtemperature\n",
              "1  2009-01-03           0.00       0.0  ...          2.01      fog           45.0\n",
              "2  2009-01-04           0.62       0.0  ...          4.03      fog           49.5\n",
              "3  2009-01-07           0.16       0.0  ...         18.34      fog           54.5\n",
              "6  2009-01-30           0.00       0.0  ...          4.70      fog           39.0\n",
              "7  2009-02-03           0.15       0.0  ...          7.61      fog           39.0\n",
              "\n",
              "[5 rows x 7 columns]"
            ]
          },
          "metadata": {},
          "execution_count": 30
        }
      ]
    },
    {
      "cell_type": "markdown",
      "metadata": {
        "id": "Vc5mfxOC0C_S"
      },
      "source": [
        "**Q6** Write the code below so that \n",
        "1. calculate average of all the 'avgtemperature' in resulting A5 df\n",
        "   * **Note you can calculate average like this : df['columname'].mean() or df.columname.mean()**) \n",
        "2. Add a new column called as 'avgtemperature_comaprision'\n",
        "  * Note: if 'avgtemperature' is less than 'avgtemp' fill with 'less than global average', and if it is greater fill with 'more than global average'  \n",
        "3. Now save the dataset without index, give a name 'weather.csv'\n",
        "**A6** Write code in the cell below\n"
      ]
    },
    {
      "cell_type": "code",
      "metadata": {
        "id": "cSQjh29JewKN",
        "colab": {
          "base_uri": "https://localhost:8080/",
          "height": 309
        },
        "outputId": "862eda10-2da0-40a2-dc1a-50657956d881"
      },
      "source": [
        "#A6 Task1\n",
        "\n",
        "# Code goes below\n",
        "avgtemp = df['avgtemperature'].mean()\n",
        "df.loc[df['avgtemperature'] < avgtemp, 'avgtemperature_comparision'] = 'less than global average'\n",
        "df.loc[df['avgtemperature'] > avgtemp, 'avgtemperature_comparision'] = 'more than global average'\n",
        "\n",
        "#a6 Task 2:\n",
        "\n",
        "#Your code goes here\n",
        "\n",
        "df.to_csv('weather.csv', index = None) \n",
        "\n",
        "# Print head of your data\n",
        "df.head()\n"
      ],
      "execution_count": 52,
      "outputs": [
        {
          "output_type": "execute_result",
          "data": {
            "text/html": [
              "<div>\n",
              "<style scoped>\n",
              "    .dataframe tbody tr th:only-of-type {\n",
              "        vertical-align: middle;\n",
              "    }\n",
              "\n",
              "    .dataframe tbody tr th {\n",
              "        vertical-align: top;\n",
              "    }\n",
              "\n",
              "    .dataframe thead th {\n",
              "        text-align: right;\n",
              "    }\n",
              "</style>\n",
              "<table border=\"1\" class=\"dataframe\">\n",
              "  <thead>\n",
              "    <tr style=\"text-align: right;\">\n",
              "      <th></th>\n",
              "      <th>date</th>\n",
              "      <th>precipitation</th>\n",
              "      <th>snowfall</th>\n",
              "      <th>snowdepth</th>\n",
              "      <th>avgwindspeed</th>\n",
              "      <th>weather</th>\n",
              "      <th>avgtemperature</th>\n",
              "      <th>avgtemperature_comparision</th>\n",
              "    </tr>\n",
              "  </thead>\n",
              "  <tbody>\n",
              "    <tr>\n",
              "      <th>1</th>\n",
              "      <td>2009-01-03</td>\n",
              "      <td>0.00</td>\n",
              "      <td>0.0</td>\n",
              "      <td>0.0</td>\n",
              "      <td>2.01</td>\n",
              "      <td>fog</td>\n",
              "      <td>45.0</td>\n",
              "      <td>less than global average</td>\n",
              "    </tr>\n",
              "    <tr>\n",
              "      <th>2</th>\n",
              "      <td>2009-01-04</td>\n",
              "      <td>0.62</td>\n",
              "      <td>0.0</td>\n",
              "      <td>0.0</td>\n",
              "      <td>4.03</td>\n",
              "      <td>fog</td>\n",
              "      <td>49.5</td>\n",
              "      <td>less than global average</td>\n",
              "    </tr>\n",
              "    <tr>\n",
              "      <th>3</th>\n",
              "      <td>2009-01-07</td>\n",
              "      <td>0.16</td>\n",
              "      <td>0.0</td>\n",
              "      <td>0.0</td>\n",
              "      <td>18.34</td>\n",
              "      <td>fog</td>\n",
              "      <td>54.5</td>\n",
              "      <td>less than global average</td>\n",
              "    </tr>\n",
              "    <tr>\n",
              "      <th>6</th>\n",
              "      <td>2009-01-30</td>\n",
              "      <td>0.00</td>\n",
              "      <td>0.0</td>\n",
              "      <td>0.0</td>\n",
              "      <td>4.70</td>\n",
              "      <td>fog</td>\n",
              "      <td>39.0</td>\n",
              "      <td>less than global average</td>\n",
              "    </tr>\n",
              "    <tr>\n",
              "      <th>7</th>\n",
              "      <td>2009-02-03</td>\n",
              "      <td>0.15</td>\n",
              "      <td>0.0</td>\n",
              "      <td>0.0</td>\n",
              "      <td>7.61</td>\n",
              "      <td>fog</td>\n",
              "      <td>39.0</td>\n",
              "      <td>less than global average</td>\n",
              "    </tr>\n",
              "  </tbody>\n",
              "</table>\n",
              "</div>"
            ],
            "text/plain": [
              "         date  precipitation  ...  avgtemperature  avgtemperature_comparision\n",
              "1  2009-01-03           0.00  ...            45.0    less than global average\n",
              "2  2009-01-04           0.62  ...            49.5    less than global average\n",
              "3  2009-01-07           0.16  ...            54.5    less than global average\n",
              "6  2009-01-30           0.00  ...            39.0    less than global average\n",
              "7  2009-02-03           0.15  ...            39.0    less than global average\n",
              "\n",
              "[5 rows x 8 columns]"
            ]
          },
          "metadata": {},
          "execution_count": 52
        }
      ]
    },
    {
      "cell_type": "markdown",
      "metadata": {
        "id": "3OqKH0Qf0C_T"
      },
      "source": [
        "## Visualization\n",
        "[Matplotlib](https://matplotlib.org/tutorials/index.html) and [Seaborn](https://seaborn.pydata.org/examples/index.html) are popular and very useful visualization libraries. "
      ]
    },
    {
      "cell_type": "code",
      "metadata": {
        "id": "kxKaqoIE0C_T"
      },
      "source": [
        "import seaborn as sns\n",
        "# Load an example dataset\n",
        "tips = sns.load_dataset(\"tips\")\n"
      ],
      "execution_count": 32,
      "outputs": []
    },
    {
      "cell_type": "code",
      "metadata": {
        "id": "sSRxv71r0C_U",
        "colab": {
          "base_uri": "https://localhost:8080/",
          "height": 387
        },
        "outputId": "abcdf237-6f8b-45d3-e751-99f395face74"
      },
      "source": [
        "# Create a visualization\n",
        "sns.relplot(\n",
        "    data=tips,\n",
        "    x=\"total_bill\", y=\"tip\", col=\"time\",\n",
        "    hue=\"smoker\", style=\"smoker\", size=\"size\",\n",
        ")"
      ],
      "execution_count": 33,
      "outputs": [
        {
          "output_type": "execute_result",
          "data": {
            "text/plain": [
              "<seaborn.axisgrid.FacetGrid at 0x7f39f73dfa10>"
            ]
          },
          "metadata": {},
          "execution_count": 33
        },
        {
          "output_type": "display_data",
          "data": {
            "image/png": "[encoded data removed]",
            "text/plain": [
              "<Figure size 772.5x360 with 2 Axes>"
            ]
          },
          "metadata": {
            "needs_background": "light"
          }
        }
      ]
    },
    {
      "cell_type": "code",
      "metadata": {
        "id": "3gxKlN1K0C_U",
        "colab": {
          "base_uri": "https://localhost:8080/",
          "height": 204
        },
        "outputId": "be18ab7a-94bd-4e61-dabf-8a0d6ea83102"
      },
      "source": [
        "tips.head(5)"
      ],
      "execution_count": 34,
      "outputs": [
        {
          "output_type": "execute_result",
          "data": {
            "text/html": [
              "<div>\n",
              "<style scoped>\n",
              "    .dataframe tbody tr th:only-of-type {\n",
              "        vertical-align: middle;\n",
              "    }\n",
              "\n",
              "    .dataframe tbody tr th {\n",
              "        vertical-align: top;\n",
              "    }\n",
              "\n",
              "    .dataframe thead th {\n",
              "        text-align: right;\n",
              "    }\n",
              "</style>\n",
              "<table border=\"1\" class=\"dataframe\">\n",
              "  <thead>\n",
              "    <tr style=\"text-align: right;\">\n",
              "      <th></th>\n",
              "      <th>total_bill</th>\n",
              "      <th>tip</th>\n",
              "      <th>sex</th>\n",
              "      <th>smoker</th>\n",
              "      <th>day</th>\n",
              "      <th>time</th>\n",
              "      <th>size</th>\n",
              "    </tr>\n",
              "  </thead>\n",
              "  <tbody>\n",
              "    <tr>\n",
              "      <th>0</th>\n",
              "      <td>16.99</td>\n",
              "      <td>1.01</td>\n",
              "      <td>Female</td>\n",
              "      <td>No</td>\n",
              "      <td>Sun</td>\n",
              "      <td>Dinner</td>\n",
              "      <td>2</td>\n",
              "    </tr>\n",
              "    <tr>\n",
              "      <th>1</th>\n",
              "      <td>10.34</td>\n",
              "      <td>1.66</td>\n",
              "      <td>Male</td>\n",
              "      <td>No</td>\n",
              "      <td>Sun</td>\n",
              "      <td>Dinner</td>\n",
              "      <td>3</td>\n",
              "    </tr>\n",
              "    <tr>\n",
              "      <th>2</th>\n",
              "      <td>21.01</td>\n",
              "      <td>3.50</td>\n",
              "      <td>Male</td>\n",
              "      <td>No</td>\n",
              "      <td>Sun</td>\n",
              "      <td>Dinner</td>\n",
              "      <td>3</td>\n",
              "    </tr>\n",
              "    <tr>\n",
              "      <th>3</th>\n",
              "      <td>23.68</td>\n",
              "      <td>3.31</td>\n",
              "      <td>Male</td>\n",
              "      <td>No</td>\n",
              "      <td>Sun</td>\n",
              "      <td>Dinner</td>\n",
              "      <td>2</td>\n",
              "    </tr>\n",
              "    <tr>\n",
              "      <th>4</th>\n",
              "      <td>24.59</td>\n",
              "      <td>3.61</td>\n",
              "      <td>Female</td>\n",
              "      <td>No</td>\n",
              "      <td>Sun</td>\n",
              "      <td>Dinner</td>\n",
              "      <td>4</td>\n",
              "    </tr>\n",
              "  </tbody>\n",
              "</table>\n",
              "</div>"
            ],
            "text/plain": [
              "   total_bill   tip     sex smoker  day    time  size\n",
              "0       16.99  1.01  Female     No  Sun  Dinner     2\n",
              "1       10.34  1.66    Male     No  Sun  Dinner     3\n",
              "2       21.01  3.50    Male     No  Sun  Dinner     3\n",
              "3       23.68  3.31    Male     No  Sun  Dinner     2\n",
              "4       24.59  3.61  Female     No  Sun  Dinner     4"
            ]
          },
          "metadata": {},
          "execution_count": 34
        }
      ]
    },
    {
      "cell_type": "markdown",
      "metadata": {
        "id": "Qj2DhcIg0C_U"
      },
      "source": [
        "**Q7**  Use sns.catplot() to visualize the relation between total_bill and sex.\n",
        "* The x-axis will represent sex\n",
        "* The y-axis will represent the total_bill. \n",
        "\n",
        "**A7** Fill in the code cell below "
      ]
    },
    {
      "cell_type": "code",
      "metadata": {
        "id": "U37asgac0C_V",
        "colab": {
          "base_uri": "https://localhost:8080/",
          "height": 386
        },
        "outputId": "1907f524-f48c-41f5-d083-5b6945a9f6ed"
      },
      "source": [
        "#your code goes here\n",
        "\n",
        "sns.catplot(\n",
        "    data=tips,\n",
        "    x=\"sex\", y= \"total_bill\"\n",
        ")"
      ],
      "execution_count": 35,
      "outputs": [
        {
          "output_type": "execute_result",
          "data": {
            "text/plain": [
              "<seaborn.axisgrid.FacetGrid at 0x7f39e8e9c210>"
            ]
          },
          "metadata": {},
          "execution_count": 35
        },
        {
          "output_type": "display_data",
          "data": {
            "image/png": "[encoded data removed]",
            "text/plain": [
              "<Figure size 360x360 with 1 Axes>"
            ]
          },
          "metadata": {
            "needs_background": "light"
          }
        }
      ]
    },
    {
      "cell_type": "markdown",
      "metadata": {
        "id": "9uxnklZp0C_V"
      },
      "source": [
        "**Q8**  Use sns.scatterplot() to visualize the relation between total_bill and tip.      \n",
        "* The x-axis will represent total_bill\n",
        "* The y-axis will represent the tip. \n",
        "\n",
        "**A8** below"
      ]
    },
    {
      "cell_type": "code",
      "metadata": {
        "id": "nvWXOkQZ0C_W",
        "colab": {
          "base_uri": "https://localhost:8080/",
          "height": 297
        },
        "outputId": "8b3abc13-952d-4dce-b71c-e4acaba9f520"
      },
      "source": [
        "#your code goes here\n",
        "sns.scatterplot( x = \"total_bill\", y = \"tip\", data=tips)"
      ],
      "execution_count": 36,
      "outputs": [
        {
          "output_type": "execute_result",
          "data": {
            "text/plain": [
              "<matplotlib.axes._subplots.AxesSubplot at 0x7f39df85e110>"
            ]
          },
          "metadata": {},
          "execution_count": 36
        },
        {
          "output_type": "display_data",
          "data": {
            "image/png": "[encoded data removed]",
            "text/plain": [
              "<Figure size 432x288 with 1 Axes>"
            ]
          },
          "metadata": {
            "needs_background": "light"
          }
        }
      ]
    }
  ]
}