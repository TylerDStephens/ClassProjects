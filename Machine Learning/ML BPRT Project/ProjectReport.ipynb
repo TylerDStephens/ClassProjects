{
  "nbformat": 4,
  "nbformat_minor": 0,
  "metadata": {
    "colab": {
      "name": "ProjectReport.ipynb",
      "provenance": []
    },
    "kernelspec": {
      "name": "python3",
      "display_name": "Python 3"
    },
    "language_info": {
      "name": "python"
    }
  },
  "cells": [
    {
      "cell_type": "markdown",
      "metadata": {
        "id": "KMCJrGLWS6Nk"
      },
      "source": [
        "# Project Report\n",
        "**Tyler Stephens** \n",
        "\n",
        "\n",
        "**Abstract** : What have we done since the original project proposal? We first set up two separate Feature Selection python programs dealing with the separate District level ISD data and another one dealing with each individual Highschool in the State of Texas. \n",
        "\n",
        "## Introduction\n",
        "\n",
        "**Goals** : Use the given dataset to evaluate the value of Title 1 school designation. By using these main predictors we plan on being to evaluate wether or not the given school qualifies as a Title one school district.\n",
        "Free lunch students: those eligible to participate in the Free Lunch Program (i.e., those with family incomes below 130 percent of the poverty level or who are directly certified) \n",
        "\n",
        "Reduced-price lunch students: those eligible to participate in the Reduced-Price Lunch Program (i.e., those with family incomes between 130 and 185 percent of the poverty level) \n",
        "\n",
        "Free and reduced-price lunch students: the total of free lunch students and reduced-price lunch students. \n",
        "\n",
        "Title 1: Schools in which children from low-income families make up at least 40 percent of enrollment are eligible to use Title I funds to operate schoolwide programs that serve all children in the school in order to raise the achievement of the lowest-achieving students. \n",
        "\n",
        "\n",
        "With the District level we wanted to see how the different expenditure and revenue of each school district correlated with the various minority students and to see if there was a correlation with the school’s size and student population.\n",
        "\n",
        "With the Individual Highschool level we wanted to see how the various races of the students correlated with the number of students receiving free lunch with could indicate that school is a poverty-stricken school. Secondly, we wanted to see if the school’s location and Student size had any correlation with average number of students receiving free lunches.\n",
        "\n",
        "After setting up both and looking at the correlation chart for the district level Feature section we realized that there was too much bias in the data and not much actual information that was useful for determine whether said district was in the poverty threshold, so we decided to drop the district and continue on squarely with the Individual Texas Highschool data.\n",
        "\n",
        "Once we moved on, we determined that the best indicators through the data selection would be the populations of Hispanic students, Caucasian students, and African American students with the other indicator being Free Lunches per Total Students which is the percentage of free lunches given out per the total number of students in a given school.\n",
        "\n",
        "That’s not to say that these indicators may not change because as we get access to more data in the years closer to today we may be able to find better indicators in the datasets that are better for predicting whether or not a school is title 1 eligible.\n",
        "\n"
      ]
    }
  ]
}