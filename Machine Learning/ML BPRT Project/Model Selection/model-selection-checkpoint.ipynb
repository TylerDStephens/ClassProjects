{
 "cells": [
  {
   "cell_type": "code",
   "execution_count": 1,
   "id": "2b1d232d",
   "metadata": {},
   "outputs": [],
   "source": [
    "import pandas as pd\n",
    "import numpy as np"
   ]
  },
  {
   "cell_type": "code",
   "execution_count": 2,
   "id": "f0126ae7",
   "metadata": {},
   "outputs": [],
   "source": [
    "df1 = pd.read_csv('2015-16.csv')"
   ]
  },
  {
   "cell_type": "code",
   "execution_count": 3,
   "id": "e76cdd4b",
   "metadata": {},
   "outputs": [
    {
     "data": {
      "text/plain": [
       "(100570, 27)"
      ]
     },
     "execution_count": 3,
     "metadata": {},
     "output_type": "execute_result"
    }
   ],
   "source": [
    "df1.shape"
   ]
  },
  {
   "cell_type": "code",
   "execution_count": 4,
   "id": "c9d29899",
   "metadata": {},
   "outputs": [],
   "source": [
    "df2 = pd.read_csv('2016-17.csv')"
   ]
  },
  {
   "cell_type": "code",
   "execution_count": 5,
   "id": "2c7f60de",
   "metadata": {},
   "outputs": [
    {
     "data": {
      "text/plain": [
       "(99860, 30)"
      ]
     },
     "execution_count": 5,
     "metadata": {},
     "output_type": "execute_result"
    }
   ],
   "source": [
    "df2.shape"
   ]
  },
  {
   "cell_type": "code",
   "execution_count": 6,
   "id": "83739fbe",
   "metadata": {},
   "outputs": [],
   "source": [
    "df3 = pd.read_csv('2017-18.csv')"
   ]
  },
  {
   "cell_type": "code",
   "execution_count": 7,
   "id": "42e11efd",
   "metadata": {},
   "outputs": [
    {
     "data": {
      "text/plain": [
       "(99355, 30)"
      ]
     },
     "execution_count": 7,
     "metadata": {},
     "output_type": "execute_result"
    }
   ],
   "source": [
    "df3.shape"
   ]
  },
  {
   "cell_type": "code",
   "execution_count": 8,
   "id": "c445790f",
   "metadata": {},
   "outputs": [],
   "source": [
    "df4 = pd.read_csv('2018-19.csv')"
   ]
  },
  {
   "cell_type": "code",
   "execution_count": 9,
   "id": "7a486e6b",
   "metadata": {},
   "outputs": [
    {
     "data": {
      "text/plain": [
       "(99617, 29)"
      ]
     },
     "execution_count": 9,
     "metadata": {},
     "output_type": "execute_result"
    }
   ],
   "source": [
    "df4.shape"
   ]
  },
  {
   "cell_type": "code",
   "execution_count": 10,
   "id": "8d5c97e5",
   "metadata": {},
   "outputs": [
    {
     "data": {
      "text/plain": [
       "Index(['School Name', 'State Name [Public School] Latest available year',\n",
       "       'School ID - NCES Assigned [Public School] Latest available year',\n",
       "       'State Abbr [Public School] Latest available year',\n",
       "       'County Name [Public School] 2015-16',\n",
       "       'Charter School [Public School] 2015-16',\n",
       "       'Magnet School [Public School] 2015-16',\n",
       "       'Urban-centric Locale [Public School] 2015-16',\n",
       "       'School-wide Title I [Public School] 2015-16',\n",
       "       'Title I Eligible School [Public School] 2015-16',\n",
       "       'National School Lunch Program [Public School] 2015-16',\n",
       "       'Total Students All Grades (Excludes AE) [Public School] 2015-16',\n",
       "       'Free Lunch Eligible [Public School] 2015-16',\n",
       "       'Reduced-price Lunch Eligible Students [Public School] 2015-16',\n",
       "       'Free and Reduced Lunch Students [Public School] 2015-16',\n",
       "       'Male Students [Public School] 2015-16',\n",
       "       'Female Students [Public School] 2015-16',\n",
       "       'American Indian/Alaska Native Students [Public School] 2015-16',\n",
       "       'Asian or Asian/Pacific Islander Students [Public School] 2015-16',\n",
       "       'Hispanic Students [Public School] 2015-16',\n",
       "       'Black or African American Students [Public School] 2015-16',\n",
       "       'White Students [Public School] 2015-16',\n",
       "       'Nat. Hawaiian or Other Pacific Isl. Students [Public School] 2015-16',\n",
       "       'Two or More Races Students [Public School] 2015-16',\n",
       "       'Total Race/Ethnicity [Public School] 2015-16',\n",
       "       'Full-Time Equivalent (FTE) Teachers [Public School] 2015-16',\n",
       "       'Pupil/Teacher Ratio [Public School] 2015-16'],\n",
       "      dtype='object')"
      ]
     },
     "execution_count": 10,
     "metadata": {},
     "output_type": "execute_result"
    }
   ],
   "source": [
    "df1.columns"
   ]
  },
  {
   "cell_type": "code",
   "execution_count": 11,
   "id": "7fb9bf4f",
   "metadata": {},
   "outputs": [],
   "source": [
    "df1.drop( columns = ['National School Lunch Program [Public School] 2015-16',\n",
    "                     'Nat. Hawaiian or Other Pacific Isl. Students [Public School] 2015-16',\n",
    "                     'Two or More Races Students [Public School] 2015-16',\n",
    "                     \n",
    "                    ], inplace = True)\n",
    "\n",
    "df2.drop( columns = ['Shared Time School [Public School] 2016-17',\n",
    "                     'Title I School Status [Public School] 2016-17',\n",
    "                     'National School Lunch Program [Public School] 2016-17',\n",
    "                     'Nat. Hawaiian or Other Pacific Isl. Students [Public School] 2016-17',\n",
    "                     'Two or More Races Students [Public School] 2016-17',\n",
    "                     'Direct Certification [Public School] 2016-17'\n",
    "                    ], inplace = True)\n",
    "\n",
    "df3.drop( columns = ['Shared Time School [Public School] 2017-18',\n",
    "                     'Title I School Status [Public School] 2017-18',\n",
    "                     'National School Lunch Program [Public School] 2017-18',\n",
    "                     'Nat. Hawaiian or Other Pacific Isl. Students [Public School] 2017-18',\n",
    "                     'Two or More Races Students [Public School] 2017-18',\n",
    "                     'Direct Certification [Public School] 2017-18'\n",
    "                    ], inplace = True)\n",
    "\n",
    "df4.drop( columns = ['Title I School Status [Public School] 2018-19',\n",
    "                     'National School Lunch Program [Public School] 2018-19',\n",
    "                     'Nat. Hawaiian or Other Pacific Isl. Students [Public School] 2018-19',\n",
    "                     'Two or More Races Students [Public School] 2018-19',\n",
    "                     'Direct Certification [Public School] 2018-19'\n",
    "                    ], inplace = True)"
   ]
  },
  {
   "cell_type": "code",
   "execution_count": 12,
   "id": "288d7ff7",
   "metadata": {},
   "outputs": [
    {
     "data": {
      "text/plain": [
       "Index(['School Name', 'State Name [Public School] Latest available year',\n",
       "       'School ID - NCES Assigned [Public School] Latest available year',\n",
       "       'State Abbr [Public School] Latest available year',\n",
       "       'County Name [Public School] 2016-17',\n",
       "       'Charter School [Public School] 2016-17',\n",
       "       'Magnet School [Public School] 2016-17',\n",
       "       'Urban-centric Locale [Public School] 2016-17',\n",
       "       'School-wide Title I [Public School] 2016-17',\n",
       "       'Title I Eligible School [Public School] 2016-17',\n",
       "       'Total Students All Grades (Excludes AE) [Public School] 2016-17',\n",
       "       'Free Lunch Eligible [Public School] 2016-17',\n",
       "       'Reduced-price Lunch Eligible Students [Public School] 2016-17',\n",
       "       'Free and Reduced Lunch Students [Public School] 2016-17',\n",
       "       'Male Students [Public School] 2016-17',\n",
       "       'Female Students [Public School] 2016-17',\n",
       "       'American Indian/Alaska Native Students [Public School] 2016-17',\n",
       "       'Asian or Asian/Pacific Islander Students [Public School] 2016-17',\n",
       "       'Hispanic Students [Public School] 2016-17',\n",
       "       'Black or African American Students [Public School] 2016-17',\n",
       "       'White Students [Public School] 2016-17',\n",
       "       'Total Race/Ethnicity [Public School] 2016-17',\n",
       "       'Full-Time Equivalent (FTE) Teachers [Public School] 2016-17',\n",
       "       'Pupil/Teacher Ratio [Public School] 2016-17'],\n",
       "      dtype='object')"
      ]
     },
     "execution_count": 12,
     "metadata": {},
     "output_type": "execute_result"
    }
   ],
   "source": [
    "df2.columns"
   ]
  },
  {
   "cell_type": "code",
   "execution_count": 13,
   "id": "a287e2b4",
   "metadata": {},
   "outputs": [
    {
     "data": {
      "text/plain": [
       "Index(['School Name', 'State Name [Public School] Latest available year',\n",
       "       'School ID - NCES Assigned [Public School] Latest available year',\n",
       "       'State Abbr [Public School] Latest available year',\n",
       "       'County Name [Public School] 2017-18',\n",
       "       'Charter School [Public School] 2017-18',\n",
       "       'Magnet School [Public School] 2017-18',\n",
       "       'Urban-centric Locale [Public School] 2017-18',\n",
       "       'School-wide Title I [Public School] 2017-18',\n",
       "       'Title I Eligible School [Public School] 2017-18',\n",
       "       'Total Students All Grades (Excludes AE) [Public School] 2017-18',\n",
       "       'Free Lunch Eligible [Public School] 2017-18',\n",
       "       'Reduced-price Lunch Eligible Students [Public School] 2017-18',\n",
       "       'Free and Reduced Lunch Students [Public School] 2017-18',\n",
       "       'Male Students [Public School] 2017-18',\n",
       "       'Female Students [Public School] 2017-18',\n",
       "       'American Indian/Alaska Native Students [Public School] 2017-18',\n",
       "       'Asian or Asian/Pacific Islander Students [Public School] 2017-18',\n",
       "       'Hispanic Students [Public School] 2017-18',\n",
       "       'Black or African American Students [Public School] 2017-18',\n",
       "       'White Students [Public School] 2017-18',\n",
       "       'Total Race/Ethnicity [Public School] 2017-18',\n",
       "       'Full-Time Equivalent (FTE) Teachers [Public School] 2017-18',\n",
       "       'Pupil/Teacher Ratio [Public School] 2017-18'],\n",
       "      dtype='object')"
      ]
     },
     "execution_count": 13,
     "metadata": {},
     "output_type": "execute_result"
    }
   ],
   "source": [
    "df3.columns"
   ]
  },
  {
   "cell_type": "code",
   "execution_count": 14,
   "id": "612b7643",
   "metadata": {},
   "outputs": [
    {
     "data": {
      "text/plain": [
       "Index(['School Name', 'State Name [Public School] Latest available year',\n",
       "       'School ID - NCES Assigned [Public School] Latest available year',\n",
       "       'State Abbr [Public School] Latest available year',\n",
       "       'County Name [Public School] 2018-19',\n",
       "       'Charter School [Public School] 2018-19',\n",
       "       'Magnet School [Public School] 2018-19',\n",
       "       'Urban-centric Locale [Public School] 2018-19',\n",
       "       'School-wide Title I [Public School] 2018-19',\n",
       "       'Title I Eligible School [Public School] 2018-19',\n",
       "       'Total Students All Grades (Excludes AE) [Public School] 2018-19',\n",
       "       'Free Lunch Eligible [Public School] 2018-19',\n",
       "       'Reduced-price Lunch Eligible Students [Public School] 2018-19',\n",
       "       'Free and Reduced Lunch Students [Public School] 2018-19',\n",
       "       'Male Students [Public School] 2018-19',\n",
       "       'Female Students [Public School] 2018-19',\n",
       "       'American Indian/Alaska Native Students [Public School] 2018-19',\n",
       "       'Asian or Asian/Pacific Islander Students [Public School] 2018-19',\n",
       "       'Hispanic Students [Public School] 2018-19',\n",
       "       'Black or African American Students [Public School] 2018-19',\n",
       "       'White Students [Public School] 2018-19',\n",
       "       'Total Race/Ethnicity [Public School] 2018-19',\n",
       "       'Full-Time Equivalent (FTE) Teachers [Public School] 2018-19',\n",
       "       'Pupil/Teacher Ratio [Public School] 2018-19'],\n",
       "      dtype='object')"
      ]
     },
     "execution_count": 14,
     "metadata": {},
     "output_type": "execute_result"
    }
   ],
   "source": [
    "df4.columns"
   ]
  },
  {
   "cell_type": "code",
   "execution_count": null,
   "id": "79eea3c5",
   "metadata": {},
   "outputs": [],
   "source": []
  },
  {
   "cell_type": "code",
   "execution_count": null,
   "id": "4f13c9ad",
   "metadata": {},
   "outputs": [],
   "source": []
  },
  {
   "cell_type": "code",
   "execution_count": 15,
   "id": "1b79d7cd",
   "metadata": {},
   "outputs": [],
   "source": [
    "df1 = df1.rename( columns = {\n",
    "       'School Name' : 'SCHOOL', \n",
    "        'State Name [Public School] Latest available year' : 'STATE',\n",
    "       'State Abbr [Public School] Latest available year' : 'ABBR',\n",
    "       'School ID - NCES Assigned [Public School] Latest available year' : 'ID',\n",
    "       'County Name [Public School] 2015-16' : 'COUNTY',\n",
    "       'Charter School [Public School] 2015-16' : 'CHARTER',\n",
    "       'Magnet School [Public School] 2015-16' : 'MAGNET',\n",
    "       'Urban-centric Locale [Public School] 2015-16' : 'LOCALE',\n",
    "       'School-wide Title I [Public School] 2015-16' : 'TITLE I',\n",
    "       'Title I Eligible School [Public School] 2015-16' : 'TITLE I ELIGIBLE',\n",
    "       'Total Students All Grades (Excludes AE) [Public School] 2015-16' : 'TOTAL STUDENTS',\n",
    "       'Free Lunch Eligible [Public School] 2015-16' : 'FREE LUNCH ELIGIBLE' ,\n",
    "       'Reduced-price Lunch Eligible Students [Public School] 2015-16' : 'REDUCED PRICE LUNCH ELIGIBLE',\n",
    "       'Free and Reduced Lunch Students [Public School] 2015-16' : 'FREE AND REDUCED LUNCH ELIGIBLE',\n",
    "       'Male Students [Public School] 2015-16' : 'MALE STUDENTS',\n",
    "       'Female Students [Public School] 2015-16' : 'FEMALE STUDENTS',\n",
    "       'American Indian/Alaska Native Students [Public School] 2015-16' : 'AMERICAN INDIAN',\n",
    "       'Asian or Asian/Pacific Islander Students [Public School] 2015-16' : 'ASIAN',\n",
    "       'Hispanic Students [Public School] 2015-16' : 'HISPANIC',\n",
    "       'Black or African American Students [Public School] 2015-16' : 'BLACK',\n",
    "       'White Students [Public School] 2015-16' : 'WHITE',\n",
    "       'Total Race/Ethnicity [Public School] 2015-16' : 'TOTAL RACE/ETHINICITY',\n",
    "       'Full-Time Equivalent (FTE) Teachers [Public School] 2015-16' : 'FTE TEACHERS',\n",
    "       'Pupil/Teacher Ratio [Public School] 2015-16' : 'PUPIL-TEACHER RATIO'\n",
    "})"
   ]
  },
  {
   "cell_type": "code",
   "execution_count": 16,
   "id": "02c3f2b2",
   "metadata": {
    "scrolled": true
   },
   "outputs": [
    {
     "data": {
      "text/plain": [
       "Index(['School Name', 'State Name [Public School] Latest available year',\n",
       "       'School ID - NCES Assigned [Public School] Latest available year',\n",
       "       'State Abbr [Public School] Latest available year',\n",
       "       'County Name [Public School] 2016-17',\n",
       "       'Charter School [Public School] 2016-17',\n",
       "       'Magnet School [Public School] 2016-17',\n",
       "       'Urban-centric Locale [Public School] 2016-17',\n",
       "       'School-wide Title I [Public School] 2016-17',\n",
       "       'Title I Eligible School [Public School] 2016-17',\n",
       "       'Total Students All Grades (Excludes AE) [Public School] 2016-17',\n",
       "       'Free Lunch Eligible [Public School] 2016-17',\n",
       "       'Reduced-price Lunch Eligible Students [Public School] 2016-17',\n",
       "       'Free and Reduced Lunch Students [Public School] 2016-17',\n",
       "       'Male Students [Public School] 2016-17',\n",
       "       'Female Students [Public School] 2016-17',\n",
       "       'American Indian/Alaska Native Students [Public School] 2016-17',\n",
       "       'Asian or Asian/Pacific Islander Students [Public School] 2016-17',\n",
       "       'Hispanic Students [Public School] 2016-17',\n",
       "       'Black or African American Students [Public School] 2016-17',\n",
       "       'White Students [Public School] 2016-17',\n",
       "       'Total Race/Ethnicity [Public School] 2016-17',\n",
       "       'Full-Time Equivalent (FTE) Teachers [Public School] 2016-17',\n",
       "       'Pupil/Teacher Ratio [Public School] 2016-17'],\n",
       "      dtype='object')"
      ]
     },
     "execution_count": 16,
     "metadata": {},
     "output_type": "execute_result"
    }
   ],
   "source": [
    "df2.columns"
   ]
  },
  {
   "cell_type": "code",
   "execution_count": 17,
   "id": "f3ba143f",
   "metadata": {},
   "outputs": [],
   "source": [
    "df2 = df2.rename( columns = {\n",
    "        'School Name' : 'SCHOOL', \n",
    "        'State Name [Public School] Latest available year' : 'STATE',\n",
    "       'State Abbr [Public School] Latest available year' : 'ABBR',\n",
    "       'School ID - NCES Assigned [Public School] Latest available year' : 'ID',\n",
    "       'County Name [Public School] 2016-17' : 'COUNTY',\n",
    "       'Charter School [Public School] 2016-17' : 'CHARTER',\n",
    "       'Magnet School [Public School] 2016-17' : 'MAGNET',\n",
    "       'Urban-centric Locale [Public School] 2016-17' : 'LOCALE',\n",
    "       'School-wide Title I [Public School] 2016-17' : 'TITLE I',\n",
    "       'Title I Eligible School [Public School] 2016-17' : 'TITLE I ELIGIBLE',\n",
    "       'Total Students All Grades (Excludes AE) [Public School] 2016-17' : 'TOTAL STUDENTS',\n",
    "       'Free Lunch Eligible [Public School] 2016-17' : 'FREE LUNCH ELIGIBLE' ,\n",
    "       'Reduced-price Lunch Eligible Students [Public School] 2016-17' : 'REDUCED PRICE LUNCH ELIGIBLE',\n",
    "       'Free and Reduced Lunch Students [Public School] 2016-17' : 'FREE AND REDUCED LUNCH ELIGIBLE',\n",
    "       'Male Students [Public School] 2016-17' : 'MALE STUDENTS',\n",
    "       'Female Students [Public School] 2016-17' : 'FEMALE STUDENTS',\n",
    "       'American Indian/Alaska Native Students [Public School] 2016-17' : 'AMERICAN INDIAN',\n",
    "       'Asian or Asian/Pacific Islander Students [Public School] 2016-17' : 'ASIAN',\n",
    "       'Hispanic Students [Public School] 2016-17' : 'HISPANIC',\n",
    "       'Black or African American Students [Public School] 2016-17' : 'BLACK',\n",
    "       'White Students [Public School] 2016-17' : 'WHITE',\n",
    "       'Total Race/Ethnicity [Public School] 2016-17' : 'TOTAL RACE/ETHINICITY',\n",
    "       'Full-Time Equivalent (FTE) Teachers [Public School] 2016-17' : 'FTE TEACHERS',\n",
    "       'Pupil/Teacher Ratio [Public School] 2016-17' : 'PUPIL-TEACHER RATIO'\n",
    "\n",
    "})"
   ]
  },
  {
   "cell_type": "code",
   "execution_count": 18,
   "id": "b1769616",
   "metadata": {},
   "outputs": [],
   "source": [
    "df3 = df3.rename( columns = {\n",
    "    'School Name' : 'SCHOOL', \n",
    "        'State Name [Public School] Latest available year' : 'STATE',\n",
    "       'State Abbr [Public School] Latest available year' : 'ABBR',\n",
    "       'School ID - NCES Assigned [Public School] Latest available year' : 'ID',\n",
    "       'County Name [Public School] 2017-18' : 'COUNTY',\n",
    "       'Charter School [Public School] 2017-18' : 'CHARTER',\n",
    "       'Magnet School [Public School] 2017-18' : 'MAGNET',\n",
    "       'Urban-centric Locale [Public School] 2017-18' : 'LOCALE',\n",
    "       'School-wide Title I [Public School] 2017-18' : 'TITLE I',\n",
    "       'Title I Eligible School [Public School] 2017-18' : 'TITLE I ELIGIBLE',\n",
    "       'Total Students All Grades (Excludes AE) [Public School] 2017-18' : 'TOTAL STUDENTS',\n",
    "       'Free Lunch Eligible [Public School] 2017-18' : 'FREE LUNCH ELIGIBLE' ,\n",
    "       'Reduced-price Lunch Eligible Students [Public School] 2017-18' : 'REDUCED PRICE LUNCH ELIGIBLE',\n",
    "       'Free and Reduced Lunch Students [Public School] 2017-18' : 'FREE AND REDUCED LUNCH ELIGIBLE',\n",
    "       'Male Students [Public School] 2017-18' : 'MALE STUDENTS',\n",
    "       'Female Students [Public School] 2017-18' : 'FEMALE STUDENTS',\n",
    "       'American Indian/Alaska Native Students [Public School] 2017-18' : 'AMERICAN INDIAN',\n",
    "       'Asian or Asian/Pacific Islander Students [Public School] 2017-18' : 'ASIAN',\n",
    "       'Hispanic Students [Public School] 2017-18' : 'HISPANIC',\n",
    "       'Black or African American Students [Public School] 2017-18' : 'BLACK',\n",
    "       'White Students [Public School] 2017-18' : 'WHITE',\n",
    "       'Total Race/Ethnicity [Public School] 2017-18' : 'TOTAL RACE/ETHINICITY',\n",
    "       'Full-Time Equivalent (FTE) Teachers [Public School] 2017-18' : 'FTE TEACHERS',\n",
    "       'Pupil/Teacher Ratio [Public School] 2017-18' : 'PUPIL-TEACHER RATIO'\n",
    "})"
   ]
  },
  {
   "cell_type": "code",
   "execution_count": 19,
   "id": "9643c6e8",
   "metadata": {},
   "outputs": [],
   "source": [
    "df4 = df4.rename( columns = {\n",
    "    'School Name' : 'SCHOOL', \n",
    "        'State Name [Public School] Latest available year' : 'STATE',\n",
    "       'State Abbr [Public School] Latest available year' : 'ABBR',\n",
    "       'School ID - NCES Assigned [Public School] Latest available year' : 'ID',\n",
    "       'County Name [Public School] 2018-19' : 'COUNTY',\n",
    "       'Charter School [Public School] 2018-19' : 'CHARTER',\n",
    "       'Magnet School [Public School] 2018-19' : 'MAGNET',\n",
    "       'Urban-centric Locale [Public School] 2018-19' : 'LOCALE',\n",
    "       'School-wide Title I [Public School] 2018-19' : 'TITLE I',\n",
    "       'Title I Eligible School [Public School] 2018-19' : 'TITLE I ELIGIBLE',\n",
    "       'Total Students All Grades (Excludes AE) [Public School] 2018-19' : 'TOTAL STUDENTS',\n",
    "       'Free Lunch Eligible [Public School] 2018-19' : 'FREE LUNCH ELIGIBLE' ,\n",
    "       'Reduced-price Lunch Eligible Students [Public School] 2018-19' : 'REDUCED PRICE LUNCH ELIGIBLE',\n",
    "       'Free and Reduced Lunch Students [Public School] 2018-19' : 'FREE AND REDUCED LUNCH ELIGIBLE',\n",
    "       'Male Students [Public School] 2018-19' : 'MALE STUDENTS',\n",
    "       'Female Students [Public School] 2018-19' : 'FEMALE STUDENTS',\n",
    "       'American Indian/Alaska Native Students [Public School] 2018-19' : 'AMERICAN INDIAN',\n",
    "       'Asian or Asian/Pacific Islander Students [Public School] 2018-19' : 'ASIAN',\n",
    "       'Hispanic Students [Public School] 2018-19' : 'HISPANIC',\n",
    "       'Black or African American Students [Public School] 2018-19' : 'BLACK',\n",
    "       'White Students [Public School] 2018-19' : 'WHITE',\n",
    "       'Total Race/Ethnicity [Public School] 2018-19' : 'TOTAL RACE/ETHINICITY',\n",
    "       'Full-Time Equivalent (FTE) Teachers [Public School] 2018-19' : 'FTE TEACHERS',\n",
    "       'Pupil/Teacher Ratio [Public School] 2018-19' : 'PUPIL-TEACHER RATIO'\n",
    "\n",
    "})"
   ]
  },
  {
   "cell_type": "code",
   "execution_count": 20,
   "id": "a67194b5",
   "metadata": {},
   "outputs": [],
   "source": [
    "#df = pd.concat([df1, df2, df3, df4], ignore_index = True)"
   ]
  },
  {
   "cell_type": "code",
   "execution_count": 21,
   "id": "c59f3954",
   "metadata": {},
   "outputs": [
    {
     "data": {
      "text/plain": [
       "(100570, 24)"
      ]
     },
     "execution_count": 21,
     "metadata": {},
     "output_type": "execute_result"
    }
   ],
   "source": [
    "df1.shape"
   ]
  },
  {
   "cell_type": "code",
   "execution_count": 22,
   "id": "1d0d9092",
   "metadata": {},
   "outputs": [
    {
     "data": {
      "text/plain": [
       "(99860, 24)"
      ]
     },
     "execution_count": 22,
     "metadata": {},
     "output_type": "execute_result"
    }
   ],
   "source": [
    "df2.shape"
   ]
  },
  {
   "cell_type": "code",
   "execution_count": 23,
   "id": "a293f771",
   "metadata": {},
   "outputs": [
    {
     "data": {
      "text/plain": [
       "(99355, 24)"
      ]
     },
     "execution_count": 23,
     "metadata": {},
     "output_type": "execute_result"
    }
   ],
   "source": [
    "df3.shape"
   ]
  },
  {
   "cell_type": "code",
   "execution_count": 24,
   "id": "264d599c",
   "metadata": {},
   "outputs": [
    {
     "data": {
      "text/plain": [
       "(99617, 24)"
      ]
     },
     "execution_count": 24,
     "metadata": {},
     "output_type": "execute_result"
    }
   ],
   "source": [
    "df4.shape"
   ]
  },
  {
   "cell_type": "code",
   "execution_count": 25,
   "id": "4f079fe3",
   "metadata": {},
   "outputs": [],
   "source": [
    "df = pd.concat([df1, df2, df3, df4], ignore_index = True)"
   ]
  },
  {
   "cell_type": "code",
   "execution_count": 26,
   "id": "0f464f89",
   "metadata": {},
   "outputs": [
    {
     "data": {
      "text/html": [
       "<div>\n",
       "<style scoped>\n",
       "    .dataframe tbody tr th:only-of-type {\n",
       "        vertical-align: middle;\n",
       "    }\n",
       "\n",
       "    .dataframe tbody tr th {\n",
       "        vertical-align: top;\n",
       "    }\n",
       "\n",
       "    .dataframe thead th {\n",
       "        text-align: right;\n",
       "    }\n",
       "</style>\n",
       "<table border=\"1\" class=\"dataframe\">\n",
       "  <thead>\n",
       "    <tr style=\"text-align: right;\">\n",
       "      <th></th>\n",
       "      <th>SCHOOL</th>\n",
       "      <th>STATE</th>\n",
       "      <th>ID</th>\n",
       "      <th>ABBR</th>\n",
       "      <th>COUNTY</th>\n",
       "      <th>CHARTER</th>\n",
       "      <th>MAGNET</th>\n",
       "      <th>LOCALE</th>\n",
       "      <th>TITLE I</th>\n",
       "      <th>TITLE I ELIGIBLE</th>\n",
       "      <th>...</th>\n",
       "      <th>MALE STUDENTS</th>\n",
       "      <th>FEMALE STUDENTS</th>\n",
       "      <th>AMERICAN INDIAN</th>\n",
       "      <th>ASIAN</th>\n",
       "      <th>HISPANIC</th>\n",
       "      <th>BLACK</th>\n",
       "      <th>WHITE</th>\n",
       "      <th>TOTAL RACE/ETHINICITY</th>\n",
       "      <th>FTE TEACHERS</th>\n",
       "      <th>PUPIL-TEACHER RATIO</th>\n",
       "    </tr>\n",
       "  </thead>\n",
       "  <tbody>\n",
       "    <tr>\n",
       "      <th>0</th>\n",
       "      <td>1 LT CHARLES W. WHITCOMB SCHOOL</td>\n",
       "      <td>Massachusetts</td>\n",
       "      <td>2.507320e+11</td>\n",
       "      <td>MA</td>\n",
       "      <td>Middlesex County</td>\n",
       "      <td>2-No</td>\n",
       "      <td>2-No</td>\n",
       "      <td>21-Suburb: Large</td>\n",
       "      <td>1-Yes</td>\n",
       "      <td>1-Yes</td>\n",
       "      <td>...</td>\n",
       "      <td>687</td>\n",
       "      <td>611</td>\n",
       "      <td>1</td>\n",
       "      <td>34</td>\n",
       "      <td>540</td>\n",
       "      <td>38</td>\n",
       "      <td>648</td>\n",
       "      <td>1298.0</td>\n",
       "      <td>112.82</td>\n",
       "      <td>11.51</td>\n",
       "    </tr>\n",
       "    <tr>\n",
       "      <th>1</th>\n",
       "      <td>10TH STREET SCHOOL</td>\n",
       "      <td>Washington</td>\n",
       "      <td>5.304860e+11</td>\n",
       "      <td>WA</td>\n",
       "      <td>Snohomish County</td>\n",
       "      <td>2-No</td>\n",
       "      <td>–</td>\n",
       "      <td>22-Suburb: Mid-size</td>\n",
       "      <td>1-Yes</td>\n",
       "      <td>1-Yes</td>\n",
       "      <td>...</td>\n",
       "      <td>77</td>\n",
       "      <td>94</td>\n",
       "      <td>8</td>\n",
       "      <td>5</td>\n",
       "      <td>20</td>\n",
       "      <td>1</td>\n",
       "      <td>122</td>\n",
       "      <td>171.0</td>\n",
       "      <td>7.3</td>\n",
       "      <td>23.42</td>\n",
       "    </tr>\n",
       "    <tr>\n",
       "      <th>2</th>\n",
       "      <td>112 ALC INDEPENDENT STUDY</td>\n",
       "      <td>Minnesota</td>\n",
       "      <td>2.708190e+11</td>\n",
       "      <td>MN</td>\n",
       "      <td>Carver County</td>\n",
       "      <td>2-No</td>\n",
       "      <td>2-No</td>\n",
       "      <td>21-Suburb: Large</td>\n",
       "      <td>†</td>\n",
       "      <td>2-No</td>\n",
       "      <td>...</td>\n",
       "      <td>24</td>\n",
       "      <td>10</td>\n",
       "      <td>0</td>\n",
       "      <td>1</td>\n",
       "      <td>10</td>\n",
       "      <td>0</td>\n",
       "      <td>22</td>\n",
       "      <td>34.0</td>\n",
       "      <td>–</td>\n",
       "      <td>–</td>\n",
       "    </tr>\n",
       "    <tr>\n",
       "      <th>3</th>\n",
       "      <td>112 ALC MIDDLE SCHOOL</td>\n",
       "      <td>Minnesota</td>\n",
       "      <td>2.708190e+11</td>\n",
       "      <td>MN</td>\n",
       "      <td>Carver County</td>\n",
       "      <td>2-No</td>\n",
       "      <td>2-No</td>\n",
       "      <td>21-Suburb: Large</td>\n",
       "      <td>†</td>\n",
       "      <td>2-No</td>\n",
       "      <td>...</td>\n",
       "      <td>65</td>\n",
       "      <td>65</td>\n",
       "      <td>0</td>\n",
       "      <td>5</td>\n",
       "      <td>32</td>\n",
       "      <td>8</td>\n",
       "      <td>82</td>\n",
       "      <td>130.0</td>\n",
       "      <td>2.7</td>\n",
       "      <td>48.15</td>\n",
       "    </tr>\n",
       "    <tr>\n",
       "      <th>4</th>\n",
       "      <td>12TH STREET ELEMENTARY</td>\n",
       "      <td>Michigan</td>\n",
       "      <td>2.628950e+11</td>\n",
       "      <td>MI</td>\n",
       "      <td>Kalamazoo County</td>\n",
       "      <td>2-No</td>\n",
       "      <td>2-No</td>\n",
       "      <td>13-City: Small</td>\n",
       "      <td>†</td>\n",
       "      <td>2-No</td>\n",
       "      <td>...</td>\n",
       "      <td>292</td>\n",
       "      <td>302</td>\n",
       "      <td>0</td>\n",
       "      <td>68</td>\n",
       "      <td>27</td>\n",
       "      <td>48</td>\n",
       "      <td>406</td>\n",
       "      <td>594.0</td>\n",
       "      <td>31.5</td>\n",
       "      <td>18.86</td>\n",
       "    </tr>\n",
       "  </tbody>\n",
       "</table>\n",
       "<p>5 rows × 24 columns</p>\n",
       "</div>"
      ],
      "text/plain": [
       "                            SCHOOL          STATE            ID ABBR  \\\n",
       "0  1 LT CHARLES W. WHITCOMB SCHOOL  Massachusetts  2.507320e+11  MA    \n",
       "1               10TH STREET SCHOOL     Washington  5.304860e+11  WA    \n",
       "2        112 ALC INDEPENDENT STUDY      Minnesota  2.708190e+11  MN    \n",
       "3            112 ALC MIDDLE SCHOOL      Minnesota  2.708190e+11  MN    \n",
       "4           12TH STREET ELEMENTARY       Michigan  2.628950e+11  MI    \n",
       "\n",
       "             COUNTY CHARTER MAGNET               LOCALE TITLE I  \\\n",
       "0  Middlesex County    2-No   2-No     21-Suburb: Large   1-Yes   \n",
       "1  Snohomish County    2-No      –  22-Suburb: Mid-size   1-Yes   \n",
       "2     Carver County    2-No   2-No     21-Suburb: Large       †   \n",
       "3     Carver County    2-No   2-No     21-Suburb: Large       †   \n",
       "4  Kalamazoo County    2-No   2-No       13-City: Small       †   \n",
       "\n",
       "  TITLE I ELIGIBLE  ... MALE STUDENTS FEMALE STUDENTS AMERICAN INDIAN ASIAN  \\\n",
       "0            1-Yes  ...           687             611               1    34   \n",
       "1            1-Yes  ...            77              94               8     5   \n",
       "2             2-No  ...            24              10               0     1   \n",
       "3             2-No  ...            65              65               0     5   \n",
       "4             2-No  ...           292             302               0    68   \n",
       "\n",
       "  HISPANIC BLACK WHITE TOTAL RACE/ETHINICITY FTE TEACHERS PUPIL-TEACHER RATIO  \n",
       "0      540    38   648                1298.0       112.82               11.51  \n",
       "1       20     1   122                 171.0          7.3               23.42  \n",
       "2       10     0    22                  34.0            –                   –  \n",
       "3       32     8    82                 130.0          2.7               48.15  \n",
       "4       27    48   406                 594.0         31.5               18.86  \n",
       "\n",
       "[5 rows x 24 columns]"
      ]
     },
     "execution_count": 26,
     "metadata": {},
     "output_type": "execute_result"
    }
   ],
   "source": [
    "df.head()"
   ]
  },
  {
   "cell_type": "code",
   "execution_count": 27,
   "id": "c709213c",
   "metadata": {},
   "outputs": [
    {
     "data": {
      "text/plain": [
       "(399402, 24)"
      ]
     },
     "execution_count": 27,
     "metadata": {},
     "output_type": "execute_result"
    }
   ],
   "source": [
    "df.shape"
   ]
  },
  {
   "cell_type": "code",
   "execution_count": 28,
   "id": "38f2b198",
   "metadata": {},
   "outputs": [],
   "source": [
    "##df.to_csv('model-selection-15-19.csv')"
   ]
  }
 ],
 "metadata": {
  "kernelspec": {
   "display_name": "Python 3 (ipykernel)",
   "language": "python",
   "name": "python3"
  },
  "language_info": {
   "codemirror_mode": {
    "name": "ipython",
    "version": 3
   },
   "file_extension": ".py",
   "mimetype": "text/x-python",
   "name": "python",
   "nbconvert_exporter": "python",
   "pygments_lexer": "ipython3",
   "version": "3.8.11"
  }
 },
 "nbformat": 4,
 "nbformat_minor": 5
}
