{
  "nbformat": 4,
  "nbformat_minor": 0,
  "metadata": {
    "colab": {
      "name": "HW7.ipynb",
      "provenance": [],
      "collapsed_sections": []
    },
    "interpreter": {
      "hash": "61092feec5071c5645c5e9fd8e6ed751662eaf3fad39a8c2be0e7ae1843d914b"
    },
    "kernelspec": {
      "display_name": "Python 3 (ipykernel)",
      "language": "python",
      "name": "python3"
    },
    "language_info": {
      "codemirror_mode": {
        "name": "ipython",
        "version": 3
      },
      "file_extension": ".py",
      "mimetype": "text/x-python",
      "name": "python",
      "nbconvert_exporter": "python",
      "pygments_lexer": "ipython3",
      "version": "3.8.11"
    }
  },
  "cells": [
    {
      "cell_type": "markdown",
      "metadata": {
        "id": "cUqCjlsxvGtT"
      },
      "source": [
        "# HW 7\n",
        "\n",
        "This assignment covers several aspects of Regularizations & Tree type Classifier. \n",
        "**DO NOT ERASE MARKDOWN CELLS AND INSTRUCTIONS IN YOUR HW submission**\n",
        "\n",
        "  * **Q** - QUESTION\n",
        "  * **A** - Where to input your answer\n",
        "\n",
        "## Instructions\n",
        "\n",
        "Keep the following in mind for all notebooks you develop:\n",
        "* Structure your notebook. \n",
        "* Use headings with meaningful levels in Markdown cells, and explain the questions each piece of code is to answer or the reason it is there.\n",
        "* Make sure your notebook can always be rerun from top to bottom.\n",
        "* Please start working on this assignment as soon as possible. If you are a beginner in Python this might take a long time. One of the objectives of this assignment is to help you learn python and scikit-learn package. \n",
        "* See [README.md](README.md) for homework submission instructions\n",
        "\n",
        "## Related Tutorials\n",
        "    \n",
        "* [Lasso Regression - L1 Regularization](https://scikit-learn.org/stable/modules/generated/sklearn.linear_model.LassoCV.html)\n",
        "\n",
        "* [Ridge Regression - L2 Regularization](https://scikit-learn.org/stable/modules/generated/sklearn.discriminant_analysis.LinearDiscriminantAnalysis.html)\n",
        "\n",
        "* [Random Forest](https://scikit-learn.org/stable/modules/generated/sklearn.ensemble.RandomForestClassifier.html#sklearn.ensemble.RandomForestClassifier)\n",
        "\n",
        "* [Metrics : Precision-Recall curve](https://scikit-learn.org/stable/auto_examples/model_selection/plot_precision_recall.html)"
      ]
    },
    {
      "cell_type": "markdown",
      "metadata": {
        "id": "HKGA07VdvGta"
      },
      "source": [
        "# Data Processing"
      ]
    },
    {
      "cell_type": "markdown",
      "metadata": {
        "id": "ia7sJ5ZOvGta"
      },
      "source": [
        "**Data** \n",
        "* Get the exploratory data and the folowing files from [link](https://archive.ics.uci.edu/ml/datasets/Breast+Cancer+Wisconsin+%28Diagnostic%29)\n",
        "* Save metadata and the original data from download [Link](https://archive.ics.uci.edu/ml/datasets/Breast+Cancer+Wisconsin+%28Diagnostic%29) to your local HW folder. \n",
        "* If you are using command line, the commands are:  \n",
        "```\n",
        ">> wget https://archive.ics.uci.edu/ml/machine-learning-databases/breast-cancer-wisconsin/breast-cancer-wisconsin.data\n",
        ">> wget https://archive.ics.uci.edu/ml/machine-learning-databases/breast-cancer-wisconsin/breast-cancer-wisconsin.names\n",
        "``` \n",
        "* wget instructions: \n",
        "  * dowload it from [link](https://eternallybored.org/misc/wget/) \n",
        "  * follow [steps](https://stackoverflow.com/questions/29113456/wget-not-recognized-as-internal-or-external-command)"
      ]
    },
    {
      "cell_type": "markdown",
      "metadata": {
        "id": "EsatY4MYvGtb"
      },
      "source": [
        "**Q1** Get training data from the dataframe\n",
        "1. Load breast-cancer-wisconsin.data into data frame\n",
        "2. Note: the data file does not contains column names, so include appropriate column names by exploring the metadata file\n",
        "3. Replace Non-Numeric values with 0\n",
        "4. Replace Class label ```2 with 0``` and ```4 with 1```\n",
        "4. Assign values of ```Class``` column to ```y```, note you have to use ```.values``` method\n",
        "5. Drop ```Class``` column from data frame,\n",
        "6. Assign df values to x\n",
        "7. Split dataset into train and test data use train_test_split with test_size = 0.2, stratify y and random_state = 1238\n",
        "\n",
        "**A1** Replace ??? with code in the code cell below"
      ]
    },
    {
      "cell_type": "code",
      "metadata": {
        "id": "MR0EkmdRvGtb",
        "colab": {
          "base_uri": "https://localhost:8080/"
        },
        "outputId": "9b55a61a-e571-4557-f9ee-676d2bb31c73"
      },
      "source": [
        "import numpy as np\n",
        "import pandas as pd\n",
        "from sklearn.model_selection import train_test_split\n",
        "from sklearn.linear_model import LogisticRegression\n",
        "\n",
        "#Read the breast-cancer-wisconsin.data file using the prropriate separator as input to read_csv()\n",
        "columns=['Sample Code Number', 'Clump Thickness', 'Uniformity of Cell Size', \n",
        "         'Uniformity of Cell Shape', 'Marginal Adhesion', 'Single Epithelial Cell Size'\n",
        "         'Bare Nuclei', 'Bland Chromatin', 'Normal Nucleoli', 'Mitoses', 'Class']\n",
        "df = pd.read_csv(\"breast-cancer-wisconsin.data\",names=columns, sep=',')\n",
        "\n",
        "#print the head\n",
        "print(df.head())\n",
        "\n",
        "\n",
        "# Replace Non numeric values with 0 \n",
        "#df = df.replace(np.nan, value=0)\n",
        "df = df.replace('?', value=0)\n",
        "\n",
        "#Replace the Class label values following above given instructions\n",
        "df['Class'].replace(2, 0)\n",
        "df['Class'].replace(4, 1)"
      ],
      "execution_count": 25,
      "outputs": [
        {
          "output_type": "stream",
          "name": "stdout",
          "text": [
            "         Sample Code Number  Clump Thickness  ...  Mitoses  Class\n",
            "1000025                   5                1  ...        1      2\n",
            "1002945                   5                4  ...        1      2\n",
            "1015425                   3                1  ...        1      2\n",
            "1016277                   6                8  ...        1      2\n",
            "1017023                   4                1  ...        1      2\n",
            "\n",
            "[5 rows x 10 columns]\n"
          ]
        },
        {
          "output_type": "execute_result",
          "data": {
            "text/plain": [
              "1000025    2\n",
              "1002945    2\n",
              "1015425    2\n",
              "1016277    2\n",
              "1017023    2\n",
              "          ..\n",
              "776715     2\n",
              "841769     2\n",
              "888820     1\n",
              "897471     1\n",
              "897471     1\n",
              "Name: Class, Length: 699, dtype: int64"
            ]
          },
          "metadata": {},
          "execution_count": 25
        }
      ]
    },
    {
      "cell_type": "code",
      "metadata": {
        "id": "2HJ35WD4vGtd",
        "colab": {
          "base_uri": "https://localhost:8080/"
        },
        "outputId": "948709a4-8d6a-4784-b79f-377c4de6c09a"
      },
      "source": [
        "# Assign values of ```Class``` column to y, note you have to use .values method\n",
        "y = df.Class.values\n",
        "# Drop 'Class' column from data frame,\n",
        "df.drop(columns=['Class'], inplace=True)\n",
        "# Assign df values to x\n",
        "x = df\n",
        "# View shape of x and y\n",
        "print(x.shape)\n",
        "print(y.shape)\n",
        "\n",
        "xtrain, xtest, ytrain, ytest = train_test_split(x,y, test_size = 0.2, random_state=1238, stratify=y)"
      ],
      "execution_count": 26,
      "outputs": [
        {
          "output_type": "stream",
          "name": "stdout",
          "text": [
            "(699, 9)\n",
            "(699,)\n"
          ]
        }
      ]
    },
    {
      "cell_type": "markdown",
      "metadata": {
        "id": "NsUM8-i_KhK1"
      },
      "source": [
        "# Model Regularization"
      ]
    },
    {
      "cell_type": "markdown",
      "metadata": {
        "id": "asfenA9yvGte"
      },
      "source": [
        "## Ridge Regularization/ Ridge Regression"
      ]
    },
    {
      "cell_type": "markdown",
      "metadata": {
        "id": "2S8CDNvlvGtf"
      },
      "source": [
        "**Q2** Train Ridge Regularization Model\n",
        "1. Create a Ridge Regularization Model using sklearn library, ```(See the documenttaion for details)```\n",
        "2. Fit the model with the train data\n",
        "3. Predict the values with the test data\n",
        "4. Print the coefficients of the model\n",
        "5. Calculate the test MSE \n",
        "6. Get the score from the model using test data\n",
        "7. Plot Precision-Recall Curve from the true & predicted test data\n",
        "\n",
        "**Note**\n",
        "* Here we generate an array of cost values ranging from very big to very small \n",
        "  * cost here is variable alpha: alpha is equivalent to lambda in the lesson 13. \n",
        " ![RidgeRegression](../figures/RidgeRegression.jpg) \n",
        "* Associated with each alpha value is a vector of ridge regression coefficients that we store in a matrix, with 100 rows (one for each value of alpha) and 10 columns (one for each predictor).  \n",
        "\n",
        "**A2** Replace ??? with code in the code cell below"
      ]
    },
    {
      "cell_type": "code",
      "metadata": {
        "id": "j3wGm7LnvGtg",
        "colab": {
          "base_uri": "https://localhost:8080/"
        },
        "outputId": "98a61a84-1c1b-4ca3-fa26-e77a2bc7bb7f"
      },
      "source": [
        "from sklearn.preprocessing import scale \n",
        "from sklearn.model_selection import train_test_split\n",
        "from sklearn.linear_model import Ridge, Lasso, RidgeCV, LassoCV\n",
        "from sklearn.metrics import mean_squared_error\n",
        "\n",
        "\n",
        "alphas = 10**np.linspace(10,-2,100)*0.5\n",
        "ridge = Ridge(normalize = True)\n",
        "coefs = []\n",
        "\n",
        "for a in alphas:\n",
        "    ridge.set_params(alpha = a)\n",
        "    ridge.fit(x,y)\n",
        "    coefs.append(ridge.coef_)\n",
        "    \n",
        "np.shape(coefs) \n",
        "\n",
        "pred1 = ridge.predict(xtest)      \n",
        "print(pd.Series(ridge.coef_, index = df.columns[0:11])) # Print coefficients\n",
        "mse = mean_squared_error(ytest, pred1)         # Calculate the test MSE\n",
        "print(\"Test mean squared error (MSE): {:.2f}\".format(mse))\n",
        "\n",
        "# print score\n",
        "print(ridge.score)"
      ],
      "execution_count": 27,
      "outputs": [
        {
          "output_type": "stream",
          "name": "stdout",
          "text": [
            "Sample Code Number                        0.063993\n",
            "Clump Thickness                           0.043881\n",
            "Uniformity of Cell Size                   0.034681\n",
            "Uniformity of Cell Shape                  0.011738\n",
            "Marginal Adhesion                         0.014764\n",
            "Single Epithelial Cell SizeBare Nuclei    0.091024\n",
            "Bland Chromatin                           0.041821\n",
            "Normal Nucleoli                           0.035267\n",
            "Mitoses                                   0.004837\n",
            "dtype: float64\n",
            "Test mean squared error (MSE): 0.13\n",
            "<bound method RegressorMixin.score of Ridge(alpha=0.005, copy_X=True, fit_intercept=True, max_iter=None,\n",
            "      normalize=True, random_state=None, solver='auto', tol=0.001)>\n"
          ]
        }
      ]
    },
    {
      "cell_type": "markdown",
      "metadata": {
        "id": "EcxmRzNYvGtg"
      },
      "source": [
        "### Precision-Recall Curve for Ridge1"
      ]
    },
    {
      "cell_type": "code",
      "metadata": {
        "id": "eFkxK5L2vGth",
        "colab": {
          "base_uri": "https://localhost:8080/",
          "height": 388
        },
        "outputId": "1f24cd87-eed5-4a4a-87ab-9d4ad70238f5"
      },
      "source": [
        "from sklearn.metrics import precision_recall_curve\n",
        "from sklearn.metrics import plot_confusion_matrix\n",
        "from sklearn.metrics import confusion_matrix\n",
        "from mlxtend.plotting import plot_confusion_matrix\n",
        "import matplotlib.pyplot as plt\n",
        "\n",
        "#pass necessary parameters to precision_recall_curve method\n",
        "precision, recall, thresholds = precision_recall_curve(ytest, pred1)\n",
        "\n",
        "# find threshold closest to zero\n",
        "close_zero = np.argmin(np.abs(thresholds))\n",
        "\n",
        "plt.plot(precision[close_zero], recall[close_zero], 'o', markersize=10,\n",
        "         label=\"threshold zero\", fillstyle=\"none\", c='k', mew=2)\n",
        "\n",
        "plt.plot(precision, recall, label=\"precision recall curve\")\n",
        "plt.xlabel(\"Precision\")\n",
        "plt.ylabel(\"Recall\")\n",
        "plt.legend(loc=\"best\")\n"
      ],
      "execution_count": 28,
      "outputs": [
        {
          "output_type": "error",
          "ename": "ValueError",
          "evalue": "ignored",
          "traceback": [
            "\u001b[0;31m---------------------------------------------------------------------------\u001b[0m",
            "\u001b[0;31mValueError\u001b[0m                                Traceback (most recent call last)",
            "\u001b[0;32m<ipython-input-28-722032ec2d69>\u001b[0m in \u001b[0;36m<module>\u001b[0;34m()\u001b[0m\n\u001b[1;32m      6\u001b[0m \u001b[0;34m\u001b[0m\u001b[0m\n\u001b[1;32m      7\u001b[0m \u001b[0;31m#pass necessary parameters to precision_recall_curve method\u001b[0m\u001b[0;34m\u001b[0m\u001b[0;34m\u001b[0m\u001b[0;34m\u001b[0m\u001b[0m\n\u001b[0;32m----> 8\u001b[0;31m \u001b[0mprecision\u001b[0m\u001b[0;34m,\u001b[0m \u001b[0mrecall\u001b[0m\u001b[0;34m,\u001b[0m \u001b[0mthresholds\u001b[0m \u001b[0;34m=\u001b[0m \u001b[0mprecision_recall_curve\u001b[0m\u001b[0;34m(\u001b[0m\u001b[0mytest\u001b[0m\u001b[0;34m,\u001b[0m \u001b[0mpred1\u001b[0m\u001b[0;34m)\u001b[0m\u001b[0;34m\u001b[0m\u001b[0;34m\u001b[0m\u001b[0m\n\u001b[0m\u001b[1;32m      9\u001b[0m \u001b[0;34m\u001b[0m\u001b[0m\n\u001b[1;32m     10\u001b[0m \u001b[0;31m# find threshold closest to zero\u001b[0m\u001b[0;34m\u001b[0m\u001b[0;34m\u001b[0m\u001b[0;34m\u001b[0m\u001b[0m\n",
            "\u001b[0;32m/usr/local/lib/python3.7/dist-packages/sklearn/metrics/_ranking.py\u001b[0m in \u001b[0;36mprecision_recall_curve\u001b[0;34m(y_true, probas_pred, pos_label, sample_weight)\u001b[0m\n\u001b[1;32m    671\u001b[0m     fps, tps, thresholds = _binary_clf_curve(y_true, probas_pred,\n\u001b[1;32m    672\u001b[0m                                              \u001b[0mpos_label\u001b[0m\u001b[0;34m=\u001b[0m\u001b[0mpos_label\u001b[0m\u001b[0;34m,\u001b[0m\u001b[0;34m\u001b[0m\u001b[0;34m\u001b[0m\u001b[0m\n\u001b[0;32m--> 673\u001b[0;31m                                              sample_weight=sample_weight)\n\u001b[0m\u001b[1;32m    674\u001b[0m \u001b[0;34m\u001b[0m\u001b[0m\n\u001b[1;32m    675\u001b[0m     \u001b[0mprecision\u001b[0m \u001b[0;34m=\u001b[0m \u001b[0mtps\u001b[0m \u001b[0;34m/\u001b[0m \u001b[0;34m(\u001b[0m\u001b[0mtps\u001b[0m \u001b[0;34m+\u001b[0m \u001b[0mfps\u001b[0m\u001b[0;34m)\u001b[0m\u001b[0;34m\u001b[0m\u001b[0;34m\u001b[0m\u001b[0m\n",
            "\u001b[0;32m/usr/local/lib/python3.7/dist-packages/sklearn/metrics/_ranking.py\u001b[0m in \u001b[0;36m_binary_clf_curve\u001b[0;34m(y_true, y_score, pos_label, sample_weight)\u001b[0m\n\u001b[1;32m    562\u001b[0m                          \u001b[0;34m\"take value in {{0, 1}} or {{-1, 1}} or \"\u001b[0m\u001b[0;34m\u001b[0m\u001b[0;34m\u001b[0m\u001b[0m\n\u001b[1;32m    563\u001b[0m                          \"pass pos_label explicitly.\".format(\n\u001b[0;32m--> 564\u001b[0;31m                              classes_repr=classes_repr))\n\u001b[0m\u001b[1;32m    565\u001b[0m     \u001b[0;32melif\u001b[0m \u001b[0mpos_label\u001b[0m \u001b[0;32mis\u001b[0m \u001b[0;32mNone\u001b[0m\u001b[0;34m:\u001b[0m\u001b[0;34m\u001b[0m\u001b[0;34m\u001b[0m\u001b[0m\n\u001b[1;32m    566\u001b[0m         \u001b[0mpos_label\u001b[0m \u001b[0;34m=\u001b[0m \u001b[0;36m1.\u001b[0m\u001b[0;34m\u001b[0m\u001b[0;34m\u001b[0m\u001b[0m\n",
            "\u001b[0;31mValueError\u001b[0m: y_true takes value in {2, 4} and pos_label is not specified: either make y_true take value in {0, 1} or {-1, 1} or pass pos_label explicitly."
          ]
        }
      ]
    },
    {
      "cell_type": "markdown",
      "metadata": {
        "id": "N3o8tYCVvGth"
      },
      "source": [
        "**Q3** Train Ridge Regression Model on the training set, and evaluate\n",
        "1. Now, Create a Ridge Regression passing ```alpha = 4, normalize = True to Ridge()```\n",
        "2. Fit the model with the train data\n",
        "3. Predict the values with the test data\n",
        "4. Print the coefficients of the model\n",
        "5. Calculate the test MSE \n",
        "6. Get the score from the model using test data\n",
        "7. Plot Precision-Recall Curve from the true & predicted test data\n",
        "\n",
        "**A3** Replace ??? with code in the code cell below"
      ]
    },
    {
      "cell_type": "code",
      "metadata": {
        "id": "OG0kBcwJvGth"
      },
      "source": [
        "ridge2 = Ridge(alpha = 4, normalize = True)\n",
        "ridge2.fit(xtrain, ytrain)\n",
        "pred2 = ridge2.predict(xtest)\n",
        "\n",
        "\n",
        "#print model coefficients      \n",
        "print(pd.Series(ridge2.coef_, index = df.columns[0:11])) \n",
        "\n",
        "mse = mean_squared_error(ytest, pred2)       \n",
        "print(\"Test mean squared error (MSE): {:.2f}\".format(mse))\n",
        "\n",
        "#print score\n",
        "print(ridge2.score)"
      ],
      "execution_count": null,
      "outputs": []
    },
    {
      "cell_type": "code",
      "metadata": {
        "id": "M7clGA_FvGti"
      },
      "source": [
        "#pass necessary parameters to precision_recall_curve method  \n",
        "precision, recall, thresholds = precision_recall_curve(ytest, pred3)\n",
        "\n",
        "# find threshold closest to zero\n",
        "close_zero = np.argmin(np.abs(thresholds))\n",
        "\n",
        "plt.plot(precision[close_zero], recall[close_zero], 'o', markersize=10,\n",
        "         label=\"threshold zero\", fillstyle=\"none\", c='k', mew=2)\n",
        "\n",
        "plt.plot(precision, recall, label=\"precision recall curve\")\n",
        "plt.xlabel(\"Precision\")\n",
        "plt.ylabel(\"Recall\")\n",
        "plt.legend(loc=\"best\")"
      ],
      "execution_count": null,
      "outputs": []
    },
    {
      "cell_type": "markdown",
      "metadata": {
        "id": "f6IqbN7bvGti"
      },
      "source": [
        "**Q4** Train Ridge Regression Model on the training set, and evaluate\n",
        "1. Now, Create a Ridge Regression passing ```alpha = 100, normalize = True to Ridge()```\n",
        "2. Fit the model with the train data\n",
        "3. Predict the values with the test data\n",
        "4. Print the coefficients of the model\n",
        "5. Calculate the test MSE \n",
        "6. Get the score from the model using test data\n",
        "7. Plot Precision-Recall Curve from the true & predicted test data\n",
        "\n",
        "**A4** Replace ??? with code in the code cell below"
      ]
    },
    {
      "cell_type": "code",
      "metadata": {
        "id": "I1mWG6uhvGti"
      },
      "source": [
        "ridge3 = Ridge(alpha = 100, normalize = True)\n",
        "ridge3.fit(xtrain, ytrain)             \n",
        "pred3 = ridge3.predict(xtest)  \n",
        "\n",
        "\n",
        "#print model coefficients      \n",
        "print(pd.Series(ridge3.coef_, index = df.columns[0:11])) \n",
        "\n",
        "mse = mean_squared_error(ytest, pred3)       \n",
        "print(\"Test mean squared error (MSE): {:.2f}\".format(mse))\n",
        "\n",
        "#print score\n",
        "print(ridge3.score)"
      ],
      "execution_count": null,
      "outputs": []
    },
    {
      "cell_type": "code",
      "metadata": {
        "id": "2II7q9AXvGtj"
      },
      "source": [
        "#pass necessary parameters to precision_recall_curve method  \n",
        "precision, recall, thresholds = precision_recall_curve(ytest, pred1)\n",
        "\n",
        "\n",
        "# find threshold closest to zero\n",
        "close_zero = np.argmin(np.abs(thresholds))\n",
        "\n",
        "plt.plot(precision[close_zero], recall[close_zero], 'o', markersize=10,\n",
        "         label=\"threshold zero\", fillstyle=\"none\", c='k', mew=2)\n",
        "\n",
        "plt.plot(precision, recall, label=\"precision recall curve\")\n",
        "plt.xlabel(\"Precision\")\n",
        "plt.ylabel(\"Recall\")\n",
        "plt.legend(loc=\"best\")"
      ],
      "execution_count": null,
      "outputs": []
    },
    {
      "cell_type": "markdown",
      "metadata": {
        "id": "o23kbDGavGtj"
      },
      "source": [
        "**Q5** Train Ridge Regression Model on the training set, and evaluate\n",
        "1. Now, Create a Ridge Regression passing ```alpha = 0, normalize = True to Ridge()```\n",
        "2. Fit the model with the train data\n",
        "3. Predict the values with the test data\n",
        "4. Print the coefficients of the model\n",
        "5. Calculate the test MSE \n",
        "6. Get the score from the model using test data\n",
        "7. Plot Precision-Recall Curve from the true & predicted test data\n",
        "\n",
        "**A5** Replace ??? with code in the code cell below"
      ]
    },
    {
      "cell_type": "code",
      "metadata": {
        "id": "6YB3fngrvGtj"
      },
      "source": [
        "ridge4 = Ridge(alpha = 0, normalize = True to Ridge())\n",
        "ridge4.fit(xtrain, ytrain)             \n",
        "pred4 = ridge4.predict(xtest)\n",
        "\n",
        "\n",
        "#print model coefficients      \n",
        "print(pd.Series(ridge4.coef_, index = df.columns[0:11])) \n",
        "\n",
        "mse = mean_squared_error(ytest, pred3)  \n",
        "print(\"Test mean squared error (MSE): {:.2f}\".format(mse))\n",
        "\n",
        "#print score\n",
        "print(ridge4.score)"
      ],
      "execution_count": null,
      "outputs": []
    },
    {
      "cell_type": "code",
      "metadata": {
        "id": "v-8Sg5LovGtk"
      },
      "source": [
        "#pass necessary parameters to precision_recall_curve method  \n",
        "precision, recall, thresholds = precision_recall_curve(ytest, pred4)\n",
        "\n",
        "# find threshold closest to zero\n",
        "close_zero = np.argmin(np.abs(thresholds))\n",
        "\n",
        "plt.plot(precision[close_zero], recall[close_zero], 'o', markersize=10,\n",
        "         label=\"threshold zero\", fillstyle=\"none\", c='k', mew=2)\n",
        "\n",
        "plt.plot(precision, recall, label=\"precision recall curve\")\n",
        "plt.xlabel(\"Precision\")\n",
        "plt.ylabel(\"Recall\")\n",
        "plt.legend(loc=\"best\")"
      ],
      "execution_count": null,
      "outputs": []
    },
    {
      "cell_type": "markdown",
      "metadata": {
        "id": "pKAVEEWWvGtk"
      },
      "source": [
        "**Q6** **Study the codes above and answer the following questions:***\n",
        "\n",
        "1. Why when passing alpha = 100, the coefficients become very small? \n",
        "2. Does alpha = 4 improve the MSE comparing to regular least squares?\n",
        "3. How the size of alphas affects MSE and the Score of the models? \n",
        "\n",
        "\n",
        "**A6** Your answers:\n",
        "\n",
        "1. Couldn't get it to work. Gonna be honest.\n",
        "\n",
        "2.\n",
        "\n",
        "3.\n"
      ]
    },
    {
      "cell_type": "markdown",
      "metadata": {
        "id": "XAd6CYamvGtl"
      },
      "source": [
        "# Lasso Regularization"
      ]
    },
    {
      "cell_type": "markdown",
      "metadata": {
        "id": "_on9mmANvGtl"
      },
      "source": [
        "**Q7 Create a Lasso Regression passing ```max_iter = 10000, normalize = True to Lasso()```**\n",
        "\n",
        "1. se the alphas from the 2nd question for setting parameters in Lasso\n",
        "2. Fit the model with the train data\n",
        "3. Predict the values with the test data\n",
        "4. Print the coefficients of the model\n",
        "5. Calculate the test MSE \n",
        "6. Get the score from the model using test data\n",
        "7. Plot Precision-Recall Curve from the true & predicted test data\n",
        "\n",
        "\n",
        "**A7** \n",
        "\n",
        "Replace ??? with code in the code cell below\n"
      ]
    },
    {
      "cell_type": "code",
      "metadata": {
        "id": "601Z4lGUvGtl"
      },
      "source": [
        "#Lasso regression\n",
        "lasso =Lasso(max_iter = 10000, normalize = True)\n",
        "coefs = []\n",
        "\n",
        "for a in alphas:\n",
        "    lasso.set_params(alpha=a)\n",
        "    lasso.fit(xtrain, ytrain)\n",
        "    coefs.append(lasso.coef_)\n",
        "\n",
        "np.shape(coefs) \n",
        "\n",
        "pred1_lasso = lasso.predict(xtest)       \n",
        "print(pd.Series(lasso.coef_, index = df.columns[0:11]))           # Print coefficients\n",
        "mse = mean_squared_error(ytest, pred1_lasso)            \n",
        "\n",
        "print(\"Test mean squared error (MSE): {:.2f}\".format(mse))\n",
        "\n",
        "#Print the score\n",
        "print(lasso.score)"
      ],
      "execution_count": null,
      "outputs": []
    },
    {
      "cell_type": "code",
      "metadata": {
        "id": "HKe1ZpnAvGtl"
      },
      "source": [
        "#pass necessary parameters to precision_recall_curve method  \n",
        "precision, recall, thresholds = precision_recall_curve(ytest, pred1_lasso)\n",
        "\n",
        "# find threshold closest to zero\n",
        "close_zero = np.argmin(np.abs(thresholds))\n",
        "\n",
        "plt.plot(precision[close_zero], recall[close_zero], 'o', markersize=10,\n",
        "         label=\"threshold zero\", fillstyle=\"none\", c='k', mew=2)\n",
        "\n",
        "plt.plot(precision, recall, label=\"precision recall curve\")\n",
        "plt.xlabel(\"Precision\")\n",
        "plt.ylabel(\"Recall\")\n",
        "plt.legend(loc=\"best\")"
      ],
      "execution_count": null,
      "outputs": []
    },
    {
      "cell_type": "markdown",
      "metadata": {
        "id": "D84zbbAQvGtm"
      },
      "source": [
        "\n",
        "**Q8 Observe the lasso.coef and ridge.coef, and discuss the findings below**\n",
        "\n",
        "\n",
        "**A8**  Your answer goes here: "
      ]
    }
  ]
}