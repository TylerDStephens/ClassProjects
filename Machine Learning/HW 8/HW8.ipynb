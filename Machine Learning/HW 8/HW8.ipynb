{
  "nbformat": 4,
  "nbformat_minor": 0,
  "metadata": {
    "colab": {
      "name": "HW8.ipynb",
      "provenance": [],
      "collapsed_sections": []
    },
    "interpreter": {
      "hash": "61092feec5071c5645c5e9fd8e6ed751662eaf3fad39a8c2be0e7ae1843d914b"
    },
    "kernelspec": {
      "display_name": "Python 3 (ipykernel)",
      "language": "python",
      "name": "python3"
    },
    "language_info": {
      "codemirror_mode": {
        "name": "ipython",
        "version": 3
      },
      "file_extension": ".py",
      "mimetype": "text/x-python",
      "name": "python",
      "nbconvert_exporter": "python",
      "pygments_lexer": "ipython3",
      "version": "3.8.12"
    }
  },
  "cells": [
    {
      "cell_type": "markdown",
      "metadata": {
        "id": "HEMZhqbKlfFW"
      },
      "source": [
        "# HW 8\n",
        "\n",
        "This assignment covers Comparision of Decision Trees and Support Vector Machine. \n",
        "**DO NOT ERASE MARKDOWN CELLS AND INSTRUCTIONS IN YOUR HW submission**\n",
        "\n",
        "  * **Q** - QUESTION\n",
        "  * **A** - Where to input your answer\n",
        "\n",
        "## Instructions\n",
        "\n",
        "Keep the following in mind for all notebooks you develop:\n",
        "* Structure your notebook. \n",
        "* Use headings with meaningful levels in Markdown cells, and explain the questions each piece of code is to answer or the reason it is there.\n",
        "* Make sure your notebook can always be rerun from top to bottom.\n",
        "* Please start working on this assignment as soon as possible. If you are a beginner in Python this might take a long time. One of the objectives of this assignment is to help you learn python and scikit-learn package. \n",
        "* See [README.md](README.md) for homework submission instructions\n",
        "\n",
        "## Related Tutorials\n",
        "    \n",
        "* [Decision Tree with KFold Cross Validation](https://scikit-learn.org/stable/modules/generated/sklearn.model_selection.cross_val_score.html)\n",
        "\n",
        "* [Decision Tree with Bagging](https://scikit-learn.org/stable/modules/generated/sklearn.ensemble.BaggingRegressor.html#sklearn.ensemble.BaggingRegressor)\n",
        "\n",
        "* [Support Vector Machine](https://towardsdatascience.com/support-vector-machine-introduction-to-machine-learning-algorithms-934a444fca47)\n"
      ]
    },
    {
      "cell_type": "markdown",
      "metadata": {
        "id": "y3atBePclfFf"
      },
      "source": [
        "# Data Processing"
      ]
    },
    {
      "cell_type": "markdown",
      "metadata": {
        "id": "AA2tway0lfFg"
      },
      "source": [
        "**Data** \n",
        "* Get the exploratory data from the git HW folder named ``HW8_data``.\n",
        "\n",
        "* If you are using command line, the command is:  \n",
        "```\n",
        ">> wget https://git.txstate.edu/ML/2021Fall/blob/master/HW/HW8_data.csv\n",
        "``` \n",
        "\n",
        "* wget instructions: \n",
        "  * dowload it from [link](https://eternallybored.org/misc/wget/) \n",
        "  * follow [steps](https://stackoverflow.com/questions/29113456/wget-not-recognized-as-internal-or-external-command)"
      ]
    },
    {
      "cell_type": "code",
      "metadata": {
        "colab": {
          "base_uri": "https://localhost:8080/"
        },
        "id": "EP_mAJzA7UEi",
        "outputId": "fe1147c1-24e4-429d-94ff-6e5658d763ac"
      },
      "source": [
        "!pip uninstall scikit-learn -y\n",
        "\n",
        "!pip install -U scikit-learn"
      ],
      "execution_count": 1,
      "outputs": [
        {
          "output_type": "stream",
          "name": "stdout",
          "text": [
            "Found existing installation: scikit-learn 1.0.1\n",
            "Uninstalling scikit-learn-1.0.1:\n",
            "  Successfully uninstalled scikit-learn-1.0.1\n",
            "Collecting scikit-learn\n",
            "  Using cached scikit_learn-1.0.1-cp37-cp37m-manylinux_2_12_x86_64.manylinux2010_x86_64.whl (23.2 MB)\n",
            "Requirement already satisfied: joblib>=0.11 in /usr/local/lib/python3.7/dist-packages (from scikit-learn) (1.0.1)\n",
            "Requirement already satisfied: numpy>=1.14.6 in /usr/local/lib/python3.7/dist-packages (from scikit-learn) (1.19.5)\n",
            "Requirement already satisfied: threadpoolctl>=2.0.0 in /usr/local/lib/python3.7/dist-packages (from scikit-learn) (3.0.0)\n",
            "Requirement already satisfied: scipy>=1.1.0 in /usr/local/lib/python3.7/dist-packages (from scikit-learn) (1.4.1)\n",
            "Installing collected packages: scikit-learn\n",
            "Successfully installed scikit-learn-1.0.1\n"
          ]
        }
      ]
    },
    {
      "cell_type": "markdown",
      "metadata": {
        "id": "wg8rkmBnlfFh"
      },
      "source": [
        "**Q1** Get training data from the dataframe\n",
        "1. Load HW8_data.csv into data frame\n",
        "2. Check if there is any NaN in the dataset\n",
        "3. Clean the dataset \n",
        "4. Assign values of ```target_class``` column to ```y```, note you have to use ```.values``` method\n",
        "5. Drop ```target_class``` column from data frame,\n",
        "6. Assign df values to x\n",
        "7. Split dataset into train and test data use train_test_split with test_size = 0.2, stratify y and random_state = 1238\n",
        "\n",
        "**A1** Replace ??? with code in the code cell below"
      ]
    },
    {
      "cell_type": "code",
      "metadata": {
        "colab": {
          "base_uri": "https://localhost:8080/"
        },
        "id": "dulo9F6clfFi",
        "outputId": "ad529b30-8eb8-408f-bfe5-ef1b824526aa"
      },
      "source": [
        "import numpy as np\n",
        "import pandas as pd\n",
        "from sklearn.model_selection import train_test_split\n",
        "from sklearn.linear_model import LogisticRegression\n",
        "\n",
        "#Read the data file using the prropriate separator as input to read_csv()\n",
        "\n",
        "df = pd.read_csv('HW8_data.csv')\n",
        "df.head(5)\n",
        "# check if there is NaN in the dataset\n",
        "df.isna().sum()\n",
        "\n",
        "#Drop NaNs if there is any\n",
        "df.dropna(inplace=True)\n",
        "\n",
        "# Count & Print number of entries for different class_target\n",
        "print(df.head(5))"
      ],
      "execution_count": 2,
      "outputs": [
        {
          "output_type": "stream",
          "name": "stdout",
          "text": [
            "    Mean of the integrated profile  ...  target_class\n",
            "0                       121.156250  ...           0.0\n",
            "1                        76.968750  ...           0.0\n",
            "2                       130.585938  ...           0.0\n",
            "4                        84.804688  ...           0.0\n",
            "7                       109.406250  ...           0.0\n",
            "\n",
            "[5 rows x 9 columns]\n"
          ]
        }
      ]
    },
    {
      "cell_type": "code",
      "metadata": {
        "colab": {
          "base_uri": "https://localhost:8080/"
        },
        "id": "35KwPVEBlfFk",
        "outputId": "32a87d01-6f67-446a-92a4-3708521364dd"
      },
      "source": [
        "# Assign values of ```target_class``` column to y, note you have to use .values method\n",
        "y = df.target_class.values\n",
        "# Drop 'targer_class' column from data frame,\n",
        "df.drop(columns=['target_class'], inplace=True)\n",
        "# Assign df values to x\n",
        "x = df.values\n",
        "# View shape of x and y\n",
        "print(x.shape)\n",
        "print(y.shape)\n",
        "\n",
        "xtrain, xtest, ytrain, ytest = train_test_split(x,y, test_size = 0.2, random_state=1238, stratify=y)"
      ],
      "execution_count": 3,
      "outputs": [
        {
          "output_type": "stream",
          "name": "stdout",
          "text": [
            "(9273, 8)\n",
            "(9273,)\n"
          ]
        }
      ]
    },
    {
      "cell_type": "markdown",
      "metadata": {
        "id": "NsUM8-i_KhK1"
      },
      "source": [
        "# Decision Tree"
      ]
    },
    {
      "cell_type": "markdown",
      "metadata": {
        "id": "lGPnOEEZlfFn"
      },
      "source": [
        "## Decision Tree with different depth"
      ]
    },
    {
      "cell_type": "markdown",
      "metadata": {
        "id": "x5GIOp0flfFo"
      },
      "source": [
        "**Q2** Train DecisionTreeClassifier Model at different depths \n",
        "1. Create four [DecisionTreeClassifier](https://scikit-learn.org/stable/modules/generated/sklearn.tree.DecisionTreeClassifier.html) models with different parameters\n",
        "   * use ```max_depth``` size = 1, 2, 5, 25 & ```max_leaf_nodes```=5, 10, 15, 25 respectively\n",
        "   * use ```random_state=30``` & ```criterion='entropy'``` for all models\n",
        "2. Fit the model with the train data. You will have 4 different models for different depth sizes.\n",
        "3. Predict the values with the test data \n",
        "   * Calculate the mean squared error of each model's prediction\n",
        "   * Print precision recall curve for the model with the best MSE value\n",
        "\n",
        "**A2** Replace ??? with code in the code cell below"
      ]
    },
    {
      "cell_type": "code",
      "metadata": {
        "colab": {
          "base_uri": "https://localhost:8080/"
        },
        "id": "3I_KcqV2lfFp",
        "outputId": "adea47aa-617b-48c2-a832-2bcb118df228"
      },
      "source": [
        "from sklearn.tree import DecisionTreeClassifier\n",
        "from sklearn.metrics import mean_squared_error\n",
        "\n",
        "# create decision tree classifier \n",
        "# criterion='entropy'\n",
        "clf_1 = DecisionTreeClassifier(max_depth=1, max_leaf_nodes=5, random_state=30, criterion='entropy')\n",
        "clf_2 = DecisionTreeClassifier(max_depth=2, max_leaf_nodes=10, random_state=30, criterion='entropy')\n",
        "clf_3 = DecisionTreeClassifier(max_depth=5, max_leaf_nodes=15, random_state=30, criterion='entropy')\n",
        "clf_4 = DecisionTreeClassifier(max_depth=25, max_leaf_nodes=25, random_state=30, criterion='entropy')\n",
        "\n",
        "# fit regression model on train set\n",
        "clf_1.fit(xtrain,ytrain)\n",
        "clf_2.fit(xtrain,ytrain)\n",
        "clf_3.fit(xtrain,ytrain)\n",
        "clf_4.fit(xtrain,ytrain)\n",
        "\n",
        "#predict on test set\n",
        "y_1 = clf_1.predict(xtest)\n",
        "y_2 = clf_2.predict(xtest)\n",
        "y_3 = clf_3.predict(xtest)\n",
        "y_4 = clf_4.predict(xtest)\n",
        "\n",
        "#calculate mean_squared_error\n",
        "print(mean_squared_error(ytest, y_1))\n",
        "print(mean_squared_error(ytest, y_2))\n",
        "print(mean_squared_error(ytest, y_3))\n",
        "print(mean_squared_error(ytest, y_4))"
      ],
      "execution_count": 4,
      "outputs": [
        {
          "output_type": "stream",
          "name": "stdout",
          "text": [
            "0.028032345013477088\n",
            "0.028032345013477088\n",
            "0.026415094339622643\n",
            "0.026954177897574125\n"
          ]
        }
      ]
    },
    {
      "cell_type": "markdown",
      "metadata": {
        "id": "Y_uaeieHlfFs"
      },
      "source": [
        "### Precision-Recall Curve for Best Model "
      ]
    },
    {
      "cell_type": "markdown",
      "metadata": {
        "id": "-70BrOr7lfFs"
      },
      "source": [
        "``Important Note:`` If ``from_estimator()`` function gives Attribute error then it means your sklearn is not updated.\n",
        "\n",
        "* If you are using conda, you can upgrade with\n",
        "\n",
        "conda upgrade -c conda-forge scikit-learn\n",
        "\n",
        "* or, with pip,\n",
        "\n",
        "python -m pip install scikit-learn --upgrade\n"
      ]
    },
    {
      "cell_type": "code",
      "metadata": {
        "id": "k0cl_Ze8lfFt",
        "colab": {
          "base_uri": "https://localhost:8080/",
          "height": 279
        },
        "outputId": "f6e46bca-69e3-4bcd-aaa2-f4cccd7de0f2"
      },
      "source": [
        "from sklearn.metrics import precision_recall_curve\n",
        "from sklearn.metrics import PrecisionRecallDisplay\n",
        "import matplotlib.pyplot as plt\n",
        "\n",
        "PrecisionRecallDisplay.from_estimator(clf_3, xtest, ytest)\n",
        "plt.show()"
      ],
      "execution_count": 5,
      "outputs": [
        {
          "output_type": "display_data",
          "data": {
            "image/png": "[encoded data removed]",
            "text/plain": [
              "<Figure size 432x288 with 1 Axes>"
            ]
          },
          "metadata": {
            "needs_background": "light"
          }
        }
      ]
    },
    {
      "cell_type": "markdown",
      "metadata": {
        "id": "60WAAI7JlfFu"
      },
      "source": [
        "### Decision Tree with K-fold cross validation"
      ]
    },
    {
      "cell_type": "markdown",
      "metadata": {
        "id": "gnb0eF_AlfFu"
      },
      "source": [
        "**Q3** Use Kfold on the testing dataset, and evaluate the best model\n",
        "1. Finally pick the best max_depth you got\n",
        "2. Use this max_depth & max_leaf_node. Also, use cross_val_score and fit your model with k = 5 fold size\n",
        "3. Calculate average scores in kfold\n",
        "\n",
        "**A3** Replace ??? with code in the code cell below"
      ]
    },
    {
      "cell_type": "code",
      "metadata": {
        "id": "p112iSR6lfFv",
        "colab": {
          "base_uri": "https://localhost:8080/"
        },
        "outputId": "f1a25c82-edd8-4bb9-8819-e7d78b984bc7"
      },
      "source": [
        "from sklearn.model_selection import KFold, cross_val_score\n",
        "\n",
        "scores = cross_val_score(clf_3,x,y,cv=5)\n",
        "print(\"Cross-validation scores: {}\".format(scores))\n",
        "print(\"Average cross-validation score: {:.2f}\".format(scores.mean()))"
      ],
      "execution_count": 6,
      "outputs": [
        {
          "output_type": "stream",
          "name": "stdout",
          "text": [
            "Cross-validation scores: [0.97951482 0.97897574 0.97735849 0.97734628 0.97842503]\n",
            "Average cross-validation score: 0.98\n"
          ]
        }
      ]
    },
    {
      "cell_type": "markdown",
      "metadata": {
        "id": "Unep_1BmlfFv"
      },
      "source": [
        "###  Decision Tree with Bagging "
      ]
    },
    {
      "cell_type": "markdown",
      "metadata": {
        "id": "2yIUeuCplfFw"
      },
      "source": [
        "**Q4** Now we will use Bagging technique on the our previous best model, and evaluate it\n",
        "1. Now, Create a Bagged Model passing ```model = previous_best, n_estimators = 20 & random_state=1 to BaggingClassifier()```\n",
        "2. Fit the model with the train data\n",
        "3. Predict the values with the test data\n",
        "4. Calculate the test MSE \n",
        "5. Plot Precision-Recall Curve from the true & predicted test data\n",
        "\n",
        "**A4** Replace ??? with code in the code cell below"
      ]
    },
    {
      "cell_type": "code",
      "metadata": {
        "id": "T3QaBZb-lfFw",
        "colab": {
          "base_uri": "https://localhost:8080/"
        },
        "outputId": "10e39f6e-1d82-4990-8957-bb66e6b462e4"
      },
      "source": [
        "from sklearn.ensemble import BaggingClassifier\n",
        "\n",
        "# Use BaggingRegressor to fit the training data\n",
        "# Calculate the mean squared error \n",
        "\n",
        "#load BaggingRegressor model and pass n_estimators=20, random_state=1\n",
        "bagged_clf = BaggingClassifier(base_estimator=clf_3, n_estimators = 20, random_state=1)\n",
        "bagged_clf.fit(xtrain, ytrain)\n",
        "pred = bagged_clf.predict(xtest)\n",
        "mean_squared_error(ytest, pred)"
      ],
      "execution_count": 7,
      "outputs": [
        {
          "output_type": "execute_result",
          "data": {
            "text/plain": [
              "0.024797843665768194"
            ]
          },
          "metadata": {},
          "execution_count": 7
        }
      ]
    },
    {
      "cell_type": "code",
      "metadata": {
        "id": "02fq5yoElfFw",
        "colab": {
          "base_uri": "https://localhost:8080/",
          "height": 279
        },
        "outputId": "1efc270d-68d3-49dc-dc8e-e6c077d00215"
      },
      "source": [
        "#pass necessary parameters to PrecisionRecallDisplay.from_estimator() \n",
        "\n",
        "PrecisionRecallDisplay.from_estimator(bagged_clf, xtest, ytest)\n",
        "plt.show()"
      ],
      "execution_count": 8,
      "outputs": [
        {
          "output_type": "display_data",
          "data": {
            "image/png": "[encoded data removed]",
            "text/plain": [
              "<Figure size 432x288 with 1 Axes>"
            ]
          },
          "metadata": {
            "needs_background": "light"
          }
        }
      ]
    },
    {
      "cell_type": "markdown",
      "metadata": {
        "id": "_DhoHt90lfFw"
      },
      "source": [
        "# Support Vector Machine(SVM)"
      ]
    },
    {
      "cell_type": "markdown",
      "metadata": {
        "id": "gj47_bGllfFx"
      },
      "source": [
        "**Q5** Create SVM Model on the training set, and evaluate\n",
        "\n",
        "1. Now, Create a SVM Model with default parameters\n",
        "2. Fit the model with the train data\n",
        "3. Predict the values with the test data\n",
        "4. Calculate the test MSE \n",
        "5. Plot confusion matrix on the test data\n",
        "\n",
        "\n",
        "**A5** Replace ??? with code in the code cell below"
      ]
    },
    {
      "cell_type": "code",
      "metadata": {
        "id": "416qRdYzlfFx",
        "colab": {
          "base_uri": "https://localhost:8080/"
        },
        "outputId": "ab00be24-ca92-442e-9a2f-67ca29ef6f0e"
      },
      "source": [
        "# import SVC classifier\n",
        "from sklearn.svm import SVC\n",
        "# import metrics to compute accuracy\n",
        "from sklearn.metrics import accuracy_score\n",
        "\n",
        "svc= SVC(gamma='auto')\n",
        "\n",
        "# fit classifier to training set\n",
        "svc.fit(xtrain,ytrain)\n",
        "\n",
        "\n",
        "# make predictions on test set\n",
        "y_pred=svc.predict(xtest)\n",
        "\n",
        "# Calculate MSE\n",
        "\n",
        "print('Model MSE: {0:0.4f}'.format(mean_squared_error(ytest, y_pred)))\n",
        "\n",
        "# compute and print accuracy score\n",
        "print('Model accuracy score with default hyperparameters: {0:0.4f}'. format(svc.score(xtest, y_pred)))"
      ],
      "execution_count": 9,
      "outputs": [
        {
          "output_type": "stream",
          "name": "stdout",
          "text": [
            "Model MSE: 0.0906\n",
            "Model accuracy score with default hyperparameters: 1.0000\n"
          ]
        }
      ]
    },
    {
      "cell_type": "code",
      "metadata": {
        "id": "p-F7qSBBlfFx",
        "colab": {
          "base_uri": "https://localhost:8080/",
          "height": 558
        },
        "outputId": "b9153d75-4e51-46ae-f9e1-712719a27248"
      },
      "source": [
        "from sklearn.metrics import plot_confusion_matrix\n",
        "from sklearn.metrics import confusion_matrix\n",
        "from mlxtend.plotting import plot_confusion_matrix\n",
        "import matplotlib.pyplot as pl\n",
        "\n",
        "cm = confusion_matrix(ytest, y_pred)\n",
        "plt.figure()\n",
        "plot_confusion_matrix(cm, figsize=(12,8), hide_ticks=True, cmap=plt.cm.Blues)\n",
        "plt.title(\"SVM Model - Confusion Matrix\")\n",
        "plt.xticks(range(2), [\"Class 1\",\"Class 2\"], fontsize=16)\n",
        "plt.yticks(range(2), [\"Class 1\",\"Class 2\"], fontsize=16)\n",
        "plt.show()"
      ],
      "execution_count": 10,
      "outputs": [
        {
          "output_type": "display_data",
          "data": {
            "text/plain": [
              "<Figure size 432x288 with 0 Axes>"
            ]
          },
          "metadata": {}
        },
        {
          "output_type": "display_data",
          "data": {
            "image/png": "[encoded data removed]",
            "text/plain": [
              "<Figure size 864x576 with 1 Axes>"
            ]
          },
          "metadata": {
            "needs_background": "light"
          }
        }
      ]
    },
    {
      "cell_type": "markdown",
      "metadata": {
        "id": "PP8zvrCxlfFy"
      },
      "source": [
        "## SVM with high margin"
      ]
    },
    {
      "cell_type": "markdown",
      "metadata": {
        "id": "R5xOf4eLlfFy"
      },
      "source": [
        "**Q6** Create SVM Model on the training set, and evaluate\n",
        "\n",
        "``Note:``\n",
        "1. If we analyze our dataset using df.describe() function, we will see that there are many outliers in the dataset.\n",
        "2. So, we need to increase our margin with ```HIGH C``` values so that the SVM model get better generalization\n",
        "\n",
        "``Task:``\n",
        "\n",
        "1. Now, Create a SVM Model with rbf kernel and C=100\n",
        "2. Fit the model with the train data\n",
        "3. Predict the values with the test data\n",
        "4. Calculate the test MSE \n",
        "5. Plot Confusion Matrix from the true & predicted test data\n",
        "\n",
        "\n",
        "**A6** Replace ??? with code in the code cell below\n"
      ]
    },
    {
      "cell_type": "code",
      "metadata": {
        "id": "v_Bh8evklfFy",
        "colab": {
          "base_uri": "https://localhost:8080/"
        },
        "outputId": "3adcb4cd-12ab-4f71-deb0-f08059c36d1e"
      },
      "source": [
        "# instantiate classifier with rbf kernel and C=100\n",
        "svc=SVC(kernel='rbf', probability=True, C=100)\n",
        "\n",
        "\n",
        "# fit classifier to training set\n",
        "svc.fit(xtrain,ytrain)\n",
        "\n",
        "\n",
        "# make predictions on test set\n",
        "y_pred_high= svc.predict(xtest)\n",
        "\n",
        "\n",
        "# compute and print accuracy score\n",
        "print('Model accuracy score with rbf kernel and C=100.0 : {0:0.4f}'. format(svc.score(xtest, y_pred_high)))"
      ],
      "execution_count": 11,
      "outputs": [
        {
          "output_type": "stream",
          "name": "stdout",
          "text": [
            "Model accuracy score with rbf kernel and C=100.0 : 1.0000\n"
          ]
        }
      ]
    },
    {
      "cell_type": "code",
      "metadata": {
        "id": "r2NAvN_1lfFy",
        "colab": {
          "base_uri": "https://localhost:8080/",
          "height": 558
        },
        "outputId": "c53fcea5-f615-4cc0-a12d-45902bb65d71"
      },
      "source": [
        "from sklearn.metrics import plot_confusion_matrix\n",
        "from sklearn.metrics import confusion_matrix\n",
        "from mlxtend.plotting import plot_confusion_matrix\n",
        "import matplotlib.pyplot as pl\n",
        "\n",
        "cm = confusion_matrix(ytest, y_pred_high)\n",
        "plt.figure()\n",
        "plot_confusion_matrix(cm, figsize=(12,8), hide_ticks=True, cmap=plt.cm.Blues)\n",
        "plt.title(\"SVM Model - Confusion Matrix\")\n",
        "plt.xticks(range(2), [\"Class 1\",\"Class 2\"], fontsize=16)\n",
        "plt.yticks(range(2), [\"Class 1\",\"Class 2\"], fontsize=16)\n",
        "plt.show()"
      ],
      "execution_count": 12,
      "outputs": [
        {
          "output_type": "display_data",
          "data": {
            "text/plain": [
              "<Figure size 432x288 with 0 Axes>"
            ]
          },
          "metadata": {}
        },
        {
          "output_type": "display_data",
          "data": {
            "image/png": "[encoded data removed]",
            "text/plain": [
              "<Figure size 864x576 with 1 Axes>"
            ]
          },
          "metadata": {
            "needs_background": "light"
          }
        }
      ]
    },
    {
      "cell_type": "markdown",
      "metadata": {
        "id": "W5zs73b2lfFy"
      },
      "source": [
        "## SVM with linear kernel"
      ]
    },
    {
      "cell_type": "markdown",
      "metadata": {
        "id": "Smm1pylnlfFy"
      },
      "source": [
        "**Q7** Create SVM Model on the training set, and evaluate\n",
        "\n",
        "``Task:``\n",
        "\n",
        "1. Now, Create a SVM Model with linear kernel and C=1.0\n",
        "2. Fit the model with the train data\n",
        "3. Predict the values with the test data\n",
        "4. Calculate the test MSE \n",
        "5. Plot Confusion Matrix from the true & predicted test data\n",
        "\n",
        "\n",
        "**A7** Replace ??? with code in the code cell below\n"
      ]
    },
    {
      "cell_type": "code",
      "metadata": {
        "id": "6BcpfBEFlfFz",
        "colab": {
          "base_uri": "https://localhost:8080/"
        },
        "outputId": "d529f36f-8fed-4509-a131-28ddafb5c361"
      },
      "source": [
        "# instantiate classifier with linear kernel and C=1.0\n",
        "linear_svc= SVC(kernel='linear', probability=True, C=1.0)\n",
        "\n",
        "\n",
        "# fit classifier to training set\n",
        "linear_svc.fit(xtrain,ytrain)\n",
        "\n",
        "\n",
        "# make predictions on test set\n",
        "y_pred_test=linear_svc.predict(xtest)\n",
        "\n",
        "\n",
        "# compute and print accuracy score\n",
        "print('Model accuracy score with linear kernel and C=1.0 : {0:0.4f}'. format(linear_svc.score(xtest, y_pred_test)))"
      ],
      "execution_count": 13,
      "outputs": [
        {
          "output_type": "stream",
          "name": "stdout",
          "text": [
            "Model accuracy score with linear kernel and C=1.0 : 1.0000\n"
          ]
        }
      ]
    },
    {
      "cell_type": "code",
      "metadata": {
        "id": "D0r6JPphlfFz",
        "colab": {
          "base_uri": "https://localhost:8080/",
          "height": 558
        },
        "outputId": "e9bdf9ec-c56d-4872-f937-f45074ca9224"
      },
      "source": [
        "from sklearn.metrics import plot_confusion_matrix\n",
        "from sklearn.metrics import confusion_matrix\n",
        "from mlxtend.plotting import plot_confusion_matrix\n",
        "import matplotlib.pyplot as pl\n",
        "\n",
        "cm = confusion_matrix(ytest, y_pred_test)\n",
        "plt.figure()\n",
        "plot_confusion_matrix(cm, figsize=(12,8), hide_ticks=True, cmap=plt.cm.Blues)\n",
        "plt.title(\"SVM Model - Confusion Matrix\")\n",
        "plt.xticks(range(2), [\"Class 1\",\"Class 2\"], fontsize=16)\n",
        "plt.yticks(range(2), [\"Class 1\",\"Class 2\"], fontsize=16)\n",
        "plt.show()"
      ],
      "execution_count": 14,
      "outputs": [
        {
          "output_type": "display_data",
          "data": {
            "text/plain": [
              "<Figure size 432x288 with 0 Axes>"
            ]
          },
          "metadata": {}
        },
        {
          "output_type": "display_data",
          "data": {
            "image/png": "[encoded data removed]",
            "text/plain": [
              "<Figure size 864x576 with 1 Axes>"
            ]
          },
          "metadata": {
            "needs_background": "light"
          }
        }
      ]
    }
  ]
}