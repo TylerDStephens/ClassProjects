{
  "nbformat": 4,
  "nbformat_minor": 0,
  "metadata": {
    "colab": {
      "name": "HW2.ipynb",
      "provenance": [],
      "collapsed_sections": []
    },
    "interpreter": {
      "hash": "16b88d1544610203bb70d520ead802a3025078c96a9e1f003faf94069083abfd"
    },
    "kernelspec": {
      "display_name": "Python 3",
      "language": "python",
      "name": "python3"
    },
    "language_info": {
      "codemirror_mode": {
        "name": "ipython",
        "version": 3
      },
      "file_extension": ".py",
      "mimetype": "text/x-python",
      "name": "python",
      "nbconvert_exporter": "python",
      "pygments_lexer": "ipython3",
      "version": "3.8.8"
    }
  },
  "cells": [
    {
      "cell_type": "markdown",
      "metadata": {
        "id": "ud9I3UCTZzHl"
      },
      "source": [
        "# HW 2\n",
        "\n",
        "due Thursday Sep 16, at 11:59 pm. \n",
        "\n",
        "Keep the following in mind for all notebooks you develop:\n",
        "* Structure your notebook. \n",
        "* Use headings with meaningful levels in Markdown cells, and explain the questions each piece of code is to answer or the reason it is there.\n",
        "* Make sure your notebook can always be rerun from top to bottom.\n",
        "\n",
        "Provided Jupyter notbook includes several notes, documentation and examples followed by coding challenges. \n",
        "* This assignment will cover several aspects in Python programming. \n",
        "* Python documentation has many examples, you can run these examples in your own version of notebook.\n",
        "  1.   Data Structures | [tutorial](https://docs.python.org/3.8/tutorial/datastructures.html)\n",
        "  2.   Input/Output | [tutorial](https://docs.python.org/3.8/tutorial/inputoutput.html) \n",
        "  3.   Errors and Exceptions | [tutorial](https://docs.python.org/3.8/tutorial/errors.html) \n",
        "  4.   Numpy | [quickstart](https://numpy.org/devdocs/user/quickstart.html)\n",
        "\n",
        "\n",
        "* Follow [README.md](README.md) for homework submission instructions\n",
        "\n",
        "**NOTE** Please start working on this assignment as soon as possible. If you are a beginner in Python this might take a long time. The objective of this assignment is to help you learn python.**"
      ]
    },
    {
      "cell_type": "markdown",
      "metadata": {
        "id": "mvK8V9d207cN"
      },
      "source": [
        "## Data Structures\n",
        "\n",
        "### List\n",
        "List as it's name implies is a list data type. A list can contain similar or mixed types (including another list) of data. A list is implemented in different ways, example:"
      ]
    },
    {
      "cell_type": "code",
      "metadata": {
        "id": "EmHU2sbc3VxI"
      },
      "source": [
        "#Initialization of a list\n",
        "myfirstlist = list() #first way\n",
        "myfirstlist = [] #second way"
      ],
      "execution_count": 1,
      "outputs": []
    },
    {
      "cell_type": "markdown",
      "metadata": {
        "id": "KndYpRLuIs1N"
      },
      "source": [
        "#### Section A\n",
        "In jupyter notebook environment, commands starting with the symbol % are magic commands or magic functions. %%timeit is one of such function. It basically gives you the speed of execution  of certain statement or blocks of codes. Example below:"
      ]
    },
    {
      "cell_type": "code",
      "metadata": {
        "id": "Y_i3kCAP4MdS",
        "colab": {
          "base_uri": "https://localhost:8080/"
        },
        "outputId": "b4b4d28e-1a87-4149-9d4d-310032d358ae"
      },
      "source": [
        "%%timeit\n",
        "myfirstlist = list()"
      ],
      "execution_count": 2,
      "outputs": [
        {
          "output_type": "stream",
          "name": "stdout",
          "text": [
            "The slowest run took 20.87 times longer than the fastest. This could mean that an intermediate result is being cached.\n",
            "10000000 loops, best of 5: 115 ns per loop\n"
          ]
        }
      ]
    },
    {
      "cell_type": "code",
      "metadata": {
        "cellView": "code",
        "id": "WZ2MaiUPIDEL",
        "colab": {
          "base_uri": "https://localhost:8080/"
        },
        "outputId": "ee6f9112-01a3-4715-eac2-8c4fb8946d28"
      },
      "source": [
        "%%timeit \n",
        "myfirstlist = []"
      ],
      "execution_count": 3,
      "outputs": [
        {
          "output_type": "stream",
          "name": "stdout",
          "text": [
            "10000000 loops, best of 5: 34.7 ns per loop\n"
          ]
        }
      ]
    },
    {
      "cell_type": "markdown",
      "metadata": {
        "id": "C8QBeoCHJ8NP"
      },
      "source": [
        "**Q1: Based on above experiment which one is the fastest?**\n",
        "Write your answer in the markdown format in the cell below: "
      ]
    },
    {
      "cell_type": "markdown",
      "metadata": {
        "cellView": "form",
        "id": "X_8xEck4JZtn"
      },
      "source": [
        "**A1:** On average myfirstlist = [ ] would be teh faster of the two lines of code."
      ]
    },
    {
      "cell_type": "markdown",
      "metadata": {
        "id": "9DG2W8k-vbXB"
      },
      "source": [
        "#### Section B\n",
        "range() is one of the inbuilt functions in python. \n",
        "It is super handy to create a list of numbers that ranges from one value to another value. We can create a list of range of values in both ascending and descending order.\n",
        "\n",
        "Jupyter notebook has a quick way to review the documentation.  You have to add '?' before or after the function and run the cell. The following both are valid: ?range or range?, see example below:"
      ]
    },
    {
      "cell_type": "code",
      "metadata": {
        "id": "Lgi8rQ6YJyn-"
      },
      "source": [
        "?range"
      ],
      "execution_count": 4,
      "outputs": []
    },
    {
      "cell_type": "markdown",
      "metadata": {
        "id": "c01_D44xvbXC"
      },
      "source": [
        "Range takes 3 arguments, (start, end, step) as we have learned in the class. If you provide only one value eg. range(5), your default start is 0. "
      ]
    },
    {
      "cell_type": "code",
      "metadata": {
        "id": "6FasyiRAKorh",
        "colab": {
          "base_uri": "https://localhost:8080/"
        },
        "outputId": "825f018d-2f31-4205-bf50-899073fdf3de"
      },
      "source": [
        "# lets create few lists with the help of range()\n",
        "list1 = list(range(5)) #Numbers from 0 t o 5 (but not 5, note end is exclusive)\n",
        "list2 = list(range(5, 10)) #Numbers from 5 to 10 (exclusive end)\n",
        "list3 = list(range(0, 20, 2)) # Even numbers from 0 to 20 (end is exclusive)\n",
        "\n",
        "print(list1)\n",
        "print(list2)\n",
        "print(list3)"
      ],
      "execution_count": 5,
      "outputs": [
        {
          "output_type": "stream",
          "name": "stdout",
          "text": [
            "[0, 1, 2, 3, 4]\n",
            "[5, 6, 7, 8, 9]\n",
            "[0, 2, 4, 6, 8, 10, 12, 14, 16, 18]\n"
          ]
        }
      ]
    },
    {
      "cell_type": "markdown",
      "metadata": {
        "id": "xZ4xMsKyNwF_"
      },
      "source": [
        "**Q2:  Complete the code**\n",
        "\n",
        "**A2:** Replace the question marks '?' with the right values in the code below"
      ]
    },
    {
      "cell_type": "code",
      "metadata": {
        "id": "69LDjnF6N3D-",
        "colab": {
          "base_uri": "https://localhost:8080/"
        },
        "outputId": "eb290a8e-422f-4ed3-a295-e21d582dc249"
      },
      "source": [
        "# even440 is a list of even numbers from 4 to 40 \n",
        "# being inclusive (must include 40 if 40 is even)\n",
        "even440 = list(range(4,41,2))\n",
        "print('even440 : ', even440)\n",
        "\n",
        "# odd540 is a list of odd numbers from 5 to 40\n",
        "# being inclusive (must include 40 if 40 is odd)\n",
        "odd540 = list(range(5,41,2))\n",
        "print('odd540 : ', odd540)# 1.1 DATA STRUCTURE\n",
        "\n",
        "# Complete the code a list of multiples of 5 from 25 to 100 \n",
        "# being inclusive (must include 100 if 100 is a multiple of 5) \n",
        "mof5 = list(range(25,101,5))\n",
        "print('mof5 : ', mof5)\n",
        "\n",
        "# list from 10 to 0 (must include 10 but not 0)\n",
        "from10to0 = list(range(1,11,1))\n",
        "print('from10to0 : ', from10to0)"
      ],
      "execution_count": 6,
      "outputs": [
        {
          "output_type": "stream",
          "name": "stdout",
          "text": [
            "even440 :  [4, 6, 8, 10, 12, 14, 16, 18, 20, 22, 24, 26, 28, 30, 32, 34, 36, 38, 40]\n",
            "odd540 :  [5, 7, 9, 11, 13, 15, 17, 19, 21, 23, 25, 27, 29, 31, 33, 35, 37, 39]\n",
            "mof5 :  [25, 30, 35, 40, 45, 50, 55, 60, 65, 70, 75, 80, 85, 90, 95, 100]\n",
            "from10to0 :  [1, 2, 3, 4, 5, 6, 7, 8, 9, 10]\n"
          ]
        }
      ]
    },
    {
      "cell_type": "markdown",
      "metadata": {
        "id": "C1p3kje2vbXF"
      },
      "source": [
        "#### Section C\n",
        "List has many methods implemented, and there are inbuilt functions (sorted, max, min ...) you can call on a list. In following example we create a random list using the 'random' module. The method we used here for list construction is called list comprehension"
      ]
    },
    {
      "cell_type": "code",
      "metadata": {
        "id": "F6qYd9yzO2Iu",
        "colab": {
          "base_uri": "https://localhost:8080/"
        },
        "outputId": "57d23c22-0354-42ea-e462-e7f081b9a2b2"
      },
      "source": [
        "import random\n",
        "random.seed(4347) #Do not change this seed\n",
        "\n",
        "x = [random.randint(0,100) for i in range(5)]\n",
        "print(f'x : {x}') # Note here we use f string, this was introduce in python 3.6x and it is very easier to work with\n",
        "\n",
        "sortedx = sorted(x)\n",
        "print(f'sortedx : {sortedx}')\n",
        "\n",
        "sumofx = sum(x)\n",
        "print(f'sumofx : {sumofx}')\n",
        "\n",
        "maxofx = max(x)\n",
        "print(f'maxofx : {maxofx}')\n",
        "\n",
        "minofx = min(x)\n",
        "print(f'minofx : {minofx}')\n",
        "\n",
        "lenofx = len(x)\n",
        "print(f'length of x is : {lenofx}')\n",
        "\n",
        "revofx = list(reversed(x))\n",
        "print(f'reversed of x is : {revofx}')"
      ],
      "execution_count": 7,
      "outputs": [
        {
          "output_type": "stream",
          "name": "stdout",
          "text": [
            "x : [68, 38, 71, 65, 23]\n",
            "sortedx : [23, 38, 65, 68, 71]\n",
            "sumofx : 265\n",
            "maxofx : 71\n",
            "minofx : 23\n",
            "length of x is : 5\n",
            "reversed of x is : [23, 65, 71, 38, 68]\n"
          ]
        }
      ]
    },
    {
      "cell_type": "markdown",
      "metadata": {
        "id": "FbgAcn8dvbXG"
      },
      "source": [
        "If you type ```x``` in a cell and wait you see a list of available methods; if nothing appears press ```ctrl+space```.  We recommend that you play with all methods. Try to see how each of them works by reading the documentation. You now know the trick to open documentation using '?'"
      ]
    },
    {
      "cell_type": "code",
      "metadata": {
        "id": "sfwMFN92Po6x",
        "colab": {
          "base_uri": "https://localhost:8080/"
        },
        "outputId": "3f7986ce-ec87-4659-b0ab-12caf92a4572"
      },
      "source": [
        "x"
      ],
      "execution_count": 8,
      "outputs": [
        {
          "output_type": "execute_result",
          "data": {
            "text/plain": [
              "[68, 38, 71, 65, 23]"
            ]
          },
          "metadata": {},
          "execution_count": 8
        }
      ]
    },
    {
      "cell_type": "markdown",
      "metadata": {
        "id": "ehQprF5mvbXH"
      },
      "source": [
        "The following code prints all the methods that are implemented for List"
      ]
    },
    {
      "cell_type": "code",
      "metadata": {
        "id": "C7Miev2YPrBu",
        "colab": {
          "base_uri": "https://localhost:8080/"
        },
        "outputId": "33b5b9bc-970e-4c36-ec81-7c36b68fde51"
      },
      "source": [
        "print(dir(list)) # ignore the detail here"
      ],
      "execution_count": 9,
      "outputs": [
        {
          "output_type": "stream",
          "name": "stdout",
          "text": [
            "['__add__', '__class__', '__contains__', '__delattr__', '__delitem__', '__dir__', '__doc__', '__eq__', '__format__', '__ge__', '__getattribute__', '__getitem__', '__gt__', '__hash__', '__iadd__', '__imul__', '__init__', '__init_subclass__', '__iter__', '__le__', '__len__', '__lt__', '__mul__', '__ne__', '__new__', '__reduce__', '__reduce_ex__', '__repr__', '__reversed__', '__rmul__', '__setattr__', '__setitem__', '__sizeof__', '__str__', '__subclasshook__', 'append', 'clear', 'copy', 'count', 'extend', 'index', 'insert', 'pop', 'remove', 'reverse', 'sort']\n"
          ]
        }
      ]
    },
    {
      "cell_type": "markdown",
      "metadata": {
        "id": "2NtKDvGNvbXH"
      },
      "source": [
        "Methods that starts with ```'__'``` are called dunder methods (or magic methods) and they are special methods. They are also refered to as data models, and we will use them later in the class. "
      ]
    },
    {
      "cell_type": "code",
      "metadata": {
        "id": "0NIWr0znPrPi",
        "colab": {
          "base_uri": "https://localhost:8080/"
        },
        "outputId": "4f3ef4b8-bece-4890-852d-61d66e26830c"
      },
      "source": [
        "print([*filter(lambda x:not x.startswith('__'),dir(list))]) # ignore the detail here"
      ],
      "execution_count": 10,
      "outputs": [
        {
          "output_type": "stream",
          "name": "stdout",
          "text": [
            "['append', 'clear', 'copy', 'count', 'extend', 'index', 'insert', 'pop', 'remove', 'reverse', 'sort']\n"
          ]
        }
      ]
    },
    {
      "cell_type": "markdown",
      "metadata": {
        "id": "Dl8MK1wHUmMV"
      },
      "source": [
        "**Q3:** Based on what you have learned from above. Experiment with ```sort()``` list method and python generic ```sorted(<list>)``` method and explain the difference."
      ]
    },
    {
      "cell_type": "code",
      "metadata": {
        "id": "jFVHszC7QWeU",
        "colab": {
          "base_uri": "https://localhost:8080/"
        },
        "outputId": "3a28c6f5-8b36-4717-b922-278322c0948e"
      },
      "source": [
        "# Code goes here for comparing sort() and sorted()\n",
        "# Note you can add multiple code cell if you want\n",
        "x.sort()\n",
        "x"
      ],
      "execution_count": 11,
      "outputs": [
        {
          "output_type": "execute_result",
          "data": {
            "text/plain": [
              "[23, 38, 65, 68, 71]"
            ]
          },
          "metadata": {},
          "execution_count": 11
        }
      ]
    },
    {
      "cell_type": "code",
      "metadata": {
        "colab": {
          "base_uri": "https://localhost:8080/"
        },
        "id": "QC5a2gqZitm4",
        "outputId": "d301df82-9e72-4a06-9005-0237b9bfeee9"
      },
      "source": [
        "sorted(x)\n",
        "print(f'sortedx : {x}')\n",
        "x = sorted(x)\n",
        "x"
      ],
      "execution_count": 12,
      "outputs": [
        {
          "output_type": "stream",
          "name": "stdout",
          "text": [
            "sortedx : [23, 38, 65, 68, 71]\n"
          ]
        },
        {
          "output_type": "execute_result",
          "data": {
            "text/plain": [
              "[23, 38, 65, 68, 71]"
            ]
          },
          "metadata": {},
          "execution_count": 12
        }
      ]
    },
    {
      "cell_type": "code",
      "metadata": {
        "colab": {
          "base_uri": "https://localhost:8080/"
        },
        "id": "YGQZQS88pluC",
        "outputId": "fa13853c-f0e5-47d6-cf12-b9af137b23ff"
      },
      "source": [
        "%%timeit \n",
        "x.sort()"
      ],
      "execution_count": 13,
      "outputs": [
        {
          "output_type": "stream",
          "name": "stdout",
          "text": [
            "The slowest run took 25.70 times longer than the fastest. This could mean that an intermediate result is being cached.\n",
            "10000000 loops, best of 5: 136 ns per loop\n"
          ]
        }
      ]
    },
    {
      "cell_type": "code",
      "metadata": {
        "colab": {
          "base_uri": "https://localhost:8080/"
        },
        "id": "hG4ZNSqQpnYA",
        "outputId": "fce06d75-3de3-4184-cc6a-240e090234be"
      },
      "source": [
        "%%timeit \n",
        "sorted(x)"
      ],
      "execution_count": 14,
      "outputs": [
        {
          "output_type": "stream",
          "name": "stdout",
          "text": [
            "The slowest run took 22.13 times longer than the fastest. This could mean that an intermediate result is being cached.\n",
            "1000000 loops, best of 5: 230 ns per loop\n"
          ]
        }
      ]
    },
    {
      "cell_type": "markdown",
      "metadata": {
        "id": "8p82Gw3ZvbXI"
      },
      "source": [
        "**A3**: I found two differences between the two to note one is that x.sort is slightly quicker and that x.sort actually modifies that list being called while sorted(x) creates a copy in which it will sort the given values."
      ]
    },
    {
      "cell_type": "markdown",
      "metadata": {
        "id": "IfTmuRjGvbXI"
      },
      "source": [
        "**Q4:** Create a random list 'x' of size 25?"
      ]
    },
    {
      "cell_type": "code",
      "metadata": {
        "colab": {
          "base_uri": "https://localhost:8080/"
        },
        "id": "hX4LLHhnvbXI",
        "outputId": "b7837316-1b9a-4dd4-d65e-12c3621f8582"
      },
      "source": [
        "#A4: Code goes here for creating a random list of size 25\n",
        "x = [random.randint(0,100) for i in range(25)]\n",
        "print(f'x : {x}') "
      ],
      "execution_count": 15,
      "outputs": [
        {
          "output_type": "stream",
          "name": "stdout",
          "text": [
            "x : [26, 18, 23, 18, 15, 16, 6, 69, 3, 81, 47, 68, 80, 93, 21, 66, 13, 37, 98, 49, 56, 53, 88, 9, 13]\n"
          ]
        }
      ]
    },
    {
      "cell_type": "markdown",
      "metadata": {
        "id": "BqJibzlmvbXJ"
      },
      "source": [
        "#### Section D\n",
        "One of the important things to learn is about indexing of the list. List index starts from 0.\n",
        "If you write x[0], it means you are refering to first item of list, and x[-1] means you are indexing last item of the list. But there are more way you can index a list, e.g. in following way x[start:end:step]."
      ]
    },
    {
      "cell_type": "code",
      "metadata": {
        "id": "ltgAFGT5UPHz",
        "colab": {
          "base_uri": "https://localhost:8080/"
        },
        "outputId": "eb3f9dac-7201-45c9-9c1c-e5a8cb7f023b"
      },
      "source": [
        "# Now you are capable of creating a random list, study following examples \n",
        "print(f'x : {x}')\n",
        "print(f'x from 2 to 5 : {x[2:5]}')\n",
        "print(f'x from 2 to 25 with step 3 : {x[2:25:3]}')\n",
        "print(f'last member of x : {x[-1]}')"
      ],
      "execution_count": 16,
      "outputs": [
        {
          "output_type": "stream",
          "name": "stdout",
          "text": [
            "x : [26, 18, 23, 18, 15, 16, 6, 69, 3, 81, 47, 68, 80, 93, 21, 66, 13, 37, 98, 49, 56, 53, 88, 9, 13]\n",
            "x from 2 to 5 : [23, 18, 15]\n",
            "x from 2 to 25 with step 3 : [23, 16, 3, 68, 21, 37, 56, 9]\n",
            "last member of x : 13\n"
          ]
        }
      ]
    },
    {
      "cell_type": "markdown",
      "metadata": {
        "id": "EJIswf2UZCrJ"
      },
      "source": [
        "**Q5:** Based on the cell above, Which answer is correct:\n",
        "1.List index start and end values are inclusive\"\n",
        "2. List index start and end are non-inclusive\n",
        "3. Start is inclusive end is not\n",
        "4. End is inclusive start is not\n",
        "**A5:** Start is inclusive end is not\n"
      ]
    },
    {
      "cell_type": "markdown",
      "metadata": {
        "id": "q9AC129mvbXK"
      },
      "source": [
        "**Q6:** Without using the reversed() function, reverse 'x' with the help of indexing"
      ]
    },
    {
      "cell_type": "code",
      "metadata": {
        "id": "a6PYHzHPYODY",
        "colab": {
          "base_uri": "https://localhost:8080/"
        },
        "outputId": "b342f9d9-6967-47c0-a9d2-d09699dc2ebe"
      },
      "source": [
        "# A6 code goes here\n",
        "x.reverse()\n",
        "print(f'x : {x}') "
      ],
      "execution_count": 17,
      "outputs": [
        {
          "output_type": "stream",
          "name": "stdout",
          "text": [
            "x : [13, 9, 88, 53, 56, 49, 98, 37, 13, 66, 21, 93, 80, 68, 47, 81, 3, 69, 6, 16, 15, 18, 23, 18, 26]\n"
          ]
        }
      ]
    },
    {
      "cell_type": "markdown",
      "metadata": {
        "id": "zH_nzJ6xvbXK"
      },
      "source": [
        "**Q7** Imagine 'listoflist' is a list containing many lists What may listoflist[3][8] refer to?\n",
        "**A7**: listoflist[3][8] is refering to a element that is in the third column starting from zero going to eighth row in the listoflist's elements."
      ]
    },
    {
      "cell_type": "code",
      "metadata": {
        "id": "yo5q8JdQaynf",
        "colab": {
          "base_uri": "https://localhost:8080/"
        },
        "outputId": "d578fb9a-0eb2-406f-c90f-65040d8eb3b5"
      },
      "source": [
        "# test code goes here \n",
        "Newlist1 = list(range(10)) \n",
        "Newlist2 = list(range(10))\n",
        "Newlist3 = list(range(10)) \n",
        "listoflist = []\n",
        "listoflist.append(Newlist1)\n",
        "Newlist2.reverse()\n",
        "listoflist.append(Newlist2)\n",
        "listoflist.append(Newlist3)\n",
        "print(f'listoflist : {listoflist}')\n",
        "print(f'listoflist : {listoflist[1][6]}') \n",
        "print(f'listoflist : {listoflist[2][8]}') \n",
        "print()#leave this print as it is"
      ],
      "execution_count": 18,
      "outputs": [
        {
          "output_type": "stream",
          "name": "stdout",
          "text": [
            "listoflist : [[0, 1, 2, 3, 4, 5, 6, 7, 8, 9], [9, 8, 7, 6, 5, 4, 3, 2, 1, 0], [0, 1, 2, 3, 4, 5, 6, 7, 8, 9]]\n",
            "listoflist : 3\n",
            "listoflist : 8\n",
            "\n"
          ]
        }
      ]
    },
    {
      "cell_type": "markdown",
      "metadata": {
        "id": "5zDnj4TBuPKq"
      },
      "source": [
        "### Tuple\n",
        "\n",
        "Tuple is an immutable data structure in python, similar to the list. Please do research in the mutable and immutable nature of data structures in python. Immutability offers performance advantages over mutable data structures. Once a tuple is assigned with some values it is fixed. A tuple can be initialized in following ways."
      ]
    },
    {
      "cell_type": "code",
      "metadata": {
        "id": "tQJkY4PeuS9n",
        "colab": {
          "base_uri": "https://localhost:8080/"
        },
        "outputId": "0246ec5e-40ed-4481-a716-f8cb475331ab"
      },
      "source": [
        "# Please do some research to learn more about tuples.\n",
        "x = tuple()\n",
        "x = (\"blue\", 42, \"set\", 1)\n",
        "y = tuple()\n",
        "y = (\"yes\", \"no\", \"maybe\", \"?\")\n",
        "listoftuples = []\n",
        "listoftuples.append(x)\n",
        "listoftuples.append(y)\n",
        "print(f'List of Tuples : {listoftuples}')"
      ],
      "execution_count": 19,
      "outputs": [
        {
          "output_type": "stream",
          "name": "stdout",
          "text": [
            "List of Tuples : [('blue', 42, 'set', 1), ('yes', 'no', 'maybe', '?')]\n"
          ]
        }
      ]
    },
    {
      "cell_type": "markdown",
      "metadata": {
        "id": "wqmeLN4Fu0QN"
      },
      "source": [
        "**Q8** Creating a Pandas dataframe using list of tuples. Use four different columns in the ```dataframe[Name,Country,Age,Salary]```. Give atleast five tuples as data. Use Pandas dataframe ```constructor(pd.DataFrame(data, columns)``` for creating the dataframe."
      ]
    },
    {
      "cell_type": "code",
      "metadata": {
        "id": "cDI3AWr2u1wh",
        "colab": {
          "base_uri": "https://localhost:8080/",
          "height": 203
        },
        "outputId": "2c09f814-cbca-4285-9812-8216dbe16b64"
      },
      "source": [
        "# A8: Your code goes here\n",
        "import pandas as pd\n",
        "dataTuple = tuple()\n",
        "dataTuple =[('Alice', 'Canada', 40, 100000),\n",
        "            ('Janice', 'United Kingdom', 25, 60000),\n",
        "            ('John', 'United States', 62, 125000),\n",
        "            ('Charlotte', 'United Staes', 51, 128000),\n",
        "            ('Ziva', 'Israel', 21, 55000)]\n",
        "df = pd.DataFrame(data=dataTuple, columns=['Name', 'Country', 'Age', 'Salary'])\n",
        "df"
      ],
      "execution_count": 20,
      "outputs": [
        {
          "output_type": "execute_result",
          "data": {
            "text/html": [
              "<div>\n",
              "<style scoped>\n",
              "    .dataframe tbody tr th:only-of-type {\n",
              "        vertical-align: middle;\n",
              "    }\n",
              "\n",
              "    .dataframe tbody tr th {\n",
              "        vertical-align: top;\n",
              "    }\n",
              "\n",
              "    .dataframe thead th {\n",
              "        text-align: right;\n",
              "    }\n",
              "</style>\n",
              "<table border=\"1\" class=\"dataframe\">\n",
              "  <thead>\n",
              "    <tr style=\"text-align: right;\">\n",
              "      <th></th>\n",
              "      <th>Name</th>\n",
              "      <th>Country</th>\n",
              "      <th>Age</th>\n",
              "      <th>Salary</th>\n",
              "    </tr>\n",
              "  </thead>\n",
              "  <tbody>\n",
              "    <tr>\n",
              "      <th>0</th>\n",
              "      <td>Alice</td>\n",
              "      <td>Canada</td>\n",
              "      <td>40</td>\n",
              "      <td>100000</td>\n",
              "    </tr>\n",
              "    <tr>\n",
              "      <th>1</th>\n",
              "      <td>Janice</td>\n",
              "      <td>United Kingdom</td>\n",
              "      <td>25</td>\n",
              "      <td>60000</td>\n",
              "    </tr>\n",
              "    <tr>\n",
              "      <th>2</th>\n",
              "      <td>John</td>\n",
              "      <td>United States</td>\n",
              "      <td>62</td>\n",
              "      <td>125000</td>\n",
              "    </tr>\n",
              "    <tr>\n",
              "      <th>3</th>\n",
              "      <td>Charlotte</td>\n",
              "      <td>United Staes</td>\n",
              "      <td>51</td>\n",
              "      <td>128000</td>\n",
              "    </tr>\n",
              "    <tr>\n",
              "      <th>4</th>\n",
              "      <td>Ziva</td>\n",
              "      <td>Israel</td>\n",
              "      <td>21</td>\n",
              "      <td>55000</td>\n",
              "    </tr>\n",
              "  </tbody>\n",
              "</table>\n",
              "</div>"
            ],
            "text/plain": [
              "        Name         Country  Age  Salary\n",
              "0      Alice          Canada   40  100000\n",
              "1     Janice  United Kingdom   25   60000\n",
              "2       John   United States   62  125000\n",
              "3  Charlotte    United Staes   51  128000\n",
              "4       Ziva          Israel   21   55000"
            ]
          },
          "metadata": {},
          "execution_count": 20
        }
      ]
    },
    {
      "cell_type": "markdown",
      "metadata": {
        "id": "F6GSjRDOwO2k"
      },
      "source": [
        "### Set\n",
        "Set is a mutable data structure\n",
        "Set corresponds to set as in math\n",
        "A list allows repeated elements but set does not\n",
        "Set has methods built in for set operations like\n",
        "Intersection, Union, Set Difference and others\n",
        "A list can be converted into set by calling set(x)"
      ]
    },
    {
      "cell_type": "code",
      "metadata": {
        "id": "RxuzXqcuwRV1",
        "colab": {
          "base_uri": "https://localhost:8080/"
        },
        "outputId": "c2e4d609-629a-4e00-df3c-3c6c3c0ee887"
      },
      "source": [
        "# Initializing set\n",
        "import random\n",
        "from random import randrange #import this to create a random list\n",
        "random.seed()\n",
        "\n",
        "x = set()\n",
        "\n",
        "randlist = [randrange(0,10) for i in range(20)]\n",
        "print(f'randlist : {randlist}')\n",
        "\n",
        "setfromrandlist = set(randlist)\n",
        "print(f'setfromrandlist : {setfromrandlist}')"
      ],
      "execution_count": 21,
      "outputs": [
        {
          "output_type": "stream",
          "name": "stdout",
          "text": [
            "randlist : [0, 2, 7, 0, 0, 7, 3, 0, 2, 5, 5, 7, 0, 8, 9, 4, 2, 0, 6, 3]\n",
            "setfromrandlist : {0, 2, 3, 4, 5, 6, 7, 8, 9}\n"
          ]
        }
      ]
    },
    {
      "cell_type": "code",
      "metadata": {
        "id": "SUgig_GSxtdO",
        "colab": {
          "base_uri": "https://localhost:8080/"
        },
        "outputId": "16d404dd-3342-4a1e-849f-bf945918a46d"
      },
      "source": [
        "# Fundamental Set operations\n",
        "a = set([randrange(0,50) for i in range(20)])\n",
        "b = set([randrange(0,50) for i in range(20)])\n",
        "\n",
        "print(f'a : {a}')\n",
        "print(f'b : {b}')"
      ],
      "execution_count": 22,
      "outputs": [
        {
          "output_type": "stream",
          "name": "stdout",
          "text": [
            "a : {2, 9, 10, 12, 15, 18, 19, 25, 26, 28, 30, 31, 35, 36, 38, 40, 42, 43, 46}\n",
            "b : {2, 3, 4, 5, 39, 9, 42, 11, 44, 13, 16, 20, 21, 26, 28, 30}\n"
          ]
        }
      ]
    },
    {
      "cell_type": "code",
      "metadata": {
        "id": "Z5XIn6RdyGbt",
        "colab": {
          "base_uri": "https://localhost:8080/"
        },
        "outputId": "fe396808-cfea-4359-c1b9-5ce5f4207904"
      },
      "source": [
        "union = a.union(b)\n",
        "intersection = a.intersection(b)\n",
        "difference = a.difference(b)\n",
        "\n",
        "print(f'union : {union}')\n",
        "print(f'intersection : {intersection}')\n",
        "print(f'difference : {difference}')"
      ],
      "execution_count": 23,
      "outputs": [
        {
          "output_type": "stream",
          "name": "stdout",
          "text": [
            "union : {2, 3, 4, 5, 9, 10, 11, 12, 13, 15, 16, 18, 19, 20, 21, 25, 26, 28, 30, 31, 35, 36, 38, 39, 40, 42, 43, 44, 46}\n",
            "intersection : {2, 9, 42, 26, 28, 30}\n",
            "difference : {35, 36, 38, 40, 10, 43, 12, 46, 15, 18, 19, 25, 31}\n"
          ]
        }
      ]
    },
    {
      "cell_type": "markdown",
      "metadata": {
        "id": "OsK2y-J4zI2R"
      },
      "source": [
        "**Lowest Common Multiple (LCM) math problem**: lowest common multiple of numbers is the minimum of the intersection of their multiples. For (2,3), ```multipleof3 = {3,6,9,12,15,...}```, ```multipleof2 = {2,4,6,8,10,12,...}```, ```commonmultiple = {6, 12, ...}```. \n",
        "LCM is minimum of commonmultiple that is 6."
      ]
    },
    {
      "cell_type": "markdown",
      "metadata": {
        "id": "JnKIMj9M0-wO"
      },
      "source": [
        "**Q9**: Find the LCM of 8, 9 and 12 (use the set and list concepts).\n"
      ]
    },
    {
      "cell_type": "code",
      "metadata": {
        "id": "fXaqkaJK1OTS",
        "colab": {
          "base_uri": "https://localhost:8080/"
        },
        "outputId": "827a48d9-60cd-4fa1-f73b-8aba83d4be0e"
      },
      "source": [
        "# A9 Your code goes here\n",
        "m8 = list(range(8,500,8))\n",
        "m9 = list(range(9,500,9))\n",
        "m12 = list(range(12,500,12))\n",
        "sm8 = set(m8)\n",
        "sm9 = set(m9)\n",
        "sm12 = set(m12)\n",
        "cm = set()\n",
        "cm = sm8.intersection(sm9)\n",
        "cm = cm.intersection(sm12)\n",
        "cmlist = list(cm)\n",
        "cmlist.sort()\n",
        "cmlist[0]"
      ],
      "execution_count": 24,
      "outputs": [
        {
          "output_type": "execute_result",
          "data": {
            "text/plain": [
              "72"
            ]
          },
          "metadata": {},
          "execution_count": 24
        }
      ]
    },
    {
      "cell_type": "markdown",
      "metadata": {
        "id": "Hyx13Z9312pX"
      },
      "source": [
        "### Dictionary\n",
        "Dictionary holds key value pairs\n",
        "Values can be accessed by using keys\n",
        "Lets see few of the ways to create a dictionary:"
      ]
    },
    {
      "cell_type": "code",
      "metadata": {
        "id": "tVngjFf12EhS",
        "colab": {
          "base_uri": "https://localhost:8080/"
        },
        "outputId": "b6ce3230-e473-4346-b2d6-acb41e3c1d56"
      },
      "source": [
        "a = {'a':1, 'b':2, 'c':3, 'd':4}\n",
        "print(f'a : {a}')\n",
        "\n",
        "b = dict(zip(['a','b','c','d'], [1,2,3,4]))\n",
        "print(f'b : {b}')\n",
        "\n",
        "c = dict(iter([('a',1),('b',2),('c',3),('d',4)]))\n",
        "print(f'c : {c}')\n",
        "\n",
        "d = dict(a=1, b=2, c=3, d=4)\n",
        "print(f'd : {d}')\n",
        "\n",
        "# Accessing values using keys in dictionary\n",
        "print(d['a'])#getting values corresponding to key a"
      ],
      "execution_count": 25,
      "outputs": [
        {
          "output_type": "stream",
          "name": "stdout",
          "text": [
            "a : {'a': 1, 'b': 2, 'c': 3, 'd': 4}\n",
            "b : {'a': 1, 'b': 2, 'c': 3, 'd': 4}\n",
            "c : {'a': 1, 'b': 2, 'c': 3, 'd': 4}\n",
            "d : {'a': 1, 'b': 2, 'c': 3, 'd': 4}\n",
            "1\n"
          ]
        }
      ]
    },
    {
      "cell_type": "markdown",
      "metadata": {
        "id": "VGQhC5UdvbXN"
      },
      "source": [
        "Following example is how we define a very simple function:\n",
        "```getfrom(dictionary,keys)``` is a function that returns a value given a key and a dictionary as arguments. "
      ]
    },
    {
      "cell_type": "code",
      "metadata": {
        "id": "DF1XLiI_38cy"
      },
      "source": [
        "# A very simple function\n",
        "def getfrom(dictionary, keys):\n",
        "  values = dictionary[keys]\n",
        "  return values"
      ],
      "execution_count": 26,
      "outputs": []
    },
    {
      "cell_type": "code",
      "metadata": {
        "id": "jzNiEq9o39B9",
        "colab": {
          "base_uri": "https://localhost:8080/"
        },
        "outputId": "146be066-331e-4300-9c6d-453a8b011ffa"
      },
      "source": [
        "# lets use this function to get values corresponding to key 'a' from dictionary 'd'\n",
        "values = getfrom(dictionary=d, keys='a')\n",
        "print(f'values correspoding to a is {values}')"
      ],
      "execution_count": 27,
      "outputs": [
        {
          "output_type": "stream",
          "name": "stdout",
          "text": [
            "values correspoding to a is 1\n"
          ]
        }
      ]
    },
    {
      "cell_type": "code",
      "metadata": {
        "id": "qXgv0qMJQFpn",
        "colab": {
          "base_uri": "https://localhost:8080/",
          "height": 296
        },
        "outputId": "365cf9bf-9b39-446e-d3c0-d1bd1c16b595"
      },
      "source": [
        "# Try to access 'z' which is not in 'd'\n",
        "values = getfrom(dictionary=d, keys = 'z')\n",
        "print(f'values correspoding to z is {values}')"
      ],
      "execution_count": 28,
      "outputs": [
        {
          "output_type": "error",
          "ename": "KeyError",
          "evalue": "ignored",
          "traceback": [
            "\u001b[0;31m---------------------------------------------------------------------------\u001b[0m",
            "\u001b[0;31mKeyError\u001b[0m                                  Traceback (most recent call last)",
            "\u001b[0;32m<ipython-input-28-5f2aad033cea>\u001b[0m in \u001b[0;36m<module>\u001b[0;34m()\u001b[0m\n\u001b[1;32m      1\u001b[0m \u001b[0;31m# Try to access 'z' which is not in 'd'\u001b[0m\u001b[0;34m\u001b[0m\u001b[0;34m\u001b[0m\u001b[0;34m\u001b[0m\u001b[0m\n\u001b[0;32m----> 2\u001b[0;31m \u001b[0mvalues\u001b[0m \u001b[0;34m=\u001b[0m \u001b[0mgetfrom\u001b[0m\u001b[0;34m(\u001b[0m\u001b[0mdictionary\u001b[0m\u001b[0;34m=\u001b[0m\u001b[0md\u001b[0m\u001b[0;34m,\u001b[0m \u001b[0mkeys\u001b[0m \u001b[0;34m=\u001b[0m \u001b[0;34m'z'\u001b[0m\u001b[0;34m)\u001b[0m\u001b[0;34m\u001b[0m\u001b[0;34m\u001b[0m\u001b[0m\n\u001b[0m\u001b[1;32m      3\u001b[0m \u001b[0mprint\u001b[0m\u001b[0;34m(\u001b[0m\u001b[0;34mf'values correspoding to z is {values}'\u001b[0m\u001b[0;34m)\u001b[0m\u001b[0;34m\u001b[0m\u001b[0;34m\u001b[0m\u001b[0m\n",
            "\u001b[0;32m<ipython-input-26-99f259234586>\u001b[0m in \u001b[0;36mgetfrom\u001b[0;34m(dictionary, keys)\u001b[0m\n\u001b[1;32m      1\u001b[0m \u001b[0;31m# A very simple function\u001b[0m\u001b[0;34m\u001b[0m\u001b[0;34m\u001b[0m\u001b[0;34m\u001b[0m\u001b[0m\n\u001b[1;32m      2\u001b[0m \u001b[0;32mdef\u001b[0m \u001b[0mgetfrom\u001b[0m\u001b[0;34m(\u001b[0m\u001b[0mdictionary\u001b[0m\u001b[0;34m,\u001b[0m \u001b[0mkeys\u001b[0m\u001b[0;34m)\u001b[0m\u001b[0;34m:\u001b[0m\u001b[0;34m\u001b[0m\u001b[0;34m\u001b[0m\u001b[0m\n\u001b[0;32m----> 3\u001b[0;31m   \u001b[0mvalues\u001b[0m \u001b[0;34m=\u001b[0m \u001b[0mdictionary\u001b[0m\u001b[0;34m[\u001b[0m\u001b[0mkeys\u001b[0m\u001b[0;34m]\u001b[0m\u001b[0;34m\u001b[0m\u001b[0;34m\u001b[0m\u001b[0m\n\u001b[0m\u001b[1;32m      4\u001b[0m   \u001b[0;32mreturn\u001b[0m \u001b[0mvalues\u001b[0m\u001b[0;34m\u001b[0m\u001b[0;34m\u001b[0m\u001b[0m\n",
            "\u001b[0;31mKeyError\u001b[0m: 'z'"
          ]
        }
      ]
    },
    {
      "cell_type": "markdown",
      "metadata": {
        "id": "Fr7hwyI_QSBU"
      },
      "source": [
        "The error is called a key error!\n",
        "List, like dictionary, has different methods implemented: ```'clear', 'copy', 'fromkeys',...```\n",
        "Use one of the built-in dictionary methods to accomplish following task:"
      ]
    },
    {
      "cell_type": "markdown",
      "metadata": {
        "id": "MIJsvBWQQtkf"
      },
      "source": [
        "**Q10**: Complete the function, so that if you don't have a key return 999."
      ]
    },
    {
      "cell_type": "code",
      "metadata": {
        "id": "t3v334OqQ48Y",
        "colab": {
          "base_uri": "https://localhost:8080/"
        },
        "outputId": "842a2fc9-4518-487d-a684-3bc83c62cc73"
      },
      "source": [
        "# A10: Code goes here\n",
        "def getfrom(dictionary, keys):\n",
        "  # values = ? #complete your code here\n",
        "  values = 999\n",
        "  # check if keys in dict\n",
        "  if keys is not dictionary:\n",
        "    return values #should return 999 if key doesn't exist\n",
        "print(getfrom(dictionary=d, keys='z'))"
      ],
      "execution_count": 29,
      "outputs": [
        {
          "output_type": "stream",
          "name": "stdout",
          "text": [
            "999\n"
          ]
        }
      ]
    },
    {
      "cell_type": "markdown",
      "metadata": {
        "id": "PyRzo22mRV_q"
      },
      "source": [
        "**Q11**: Complete the function, so that if you don't have a key then the code returns 999 and adds 999 to dictionary."
      ]
    },
    {
      "cell_type": "code",
      "metadata": {
        "id": "FIm1FWgWReCt",
        "colab": {
          "base_uri": "https://localhost:8080/"
        },
        "outputId": "bdfb3a94-1fa5-46b4-feca-8e3c6c21b2f1"
      },
      "source": [
        "# Code goes here\n",
        "def getfrom(dictionary, keys):\n",
        "  values = 999\n",
        "  # check if keys in dict\n",
        "  if keys is not dictionary:\n",
        "    dictionary[keys]=+values\n",
        "    return values #should return 999 if key doesn't exist\n",
        "\n",
        "print(getfrom(dictionary=d, keys='z'))\n",
        "\n",
        "# Now this shouldn't throw error as 'z' is now set to dictionary\n",
        "print(d['z'])"
      ],
      "execution_count": 30,
      "outputs": [
        {
          "output_type": "stream",
          "name": "stdout",
          "text": [
            "999\n",
            "999\n"
          ]
        }
      ]
    },
    {
      "cell_type": "markdown",
      "metadata": {
        "id": "MrEq_OEwpTJ7"
      },
      "source": [
        "## Numpy"
      ]
    },
    {
      "cell_type": "markdown",
      "metadata": {
        "id": "jnWj2hGqvbXP"
      },
      "source": [
        "Study the given publicly available numpy exercises notebook file and complete the given code. (Note you don't have to go through all notebook, just focus on things you need). Please refer to following amazing notebook [excersizes](https://github.com/rougier/numpy-100/blob/master/100_Numpy_exercises.ipynb). This notebook will give you fundamental understanding of numpy. Based on few examples on above notebook answer the follwing questions. "
      ]
    },
    {
      "cell_type": "markdown",
      "metadata": {
        "id": "6gI0upgtRDij"
      },
      "source": [
        "**Q12**: Create two random numpy array of size 10, 10 ```array1 = ?```. Now we have our list x to discover methods implemented there is a technique if you type x. in a cell and wait you see list of methods if you nothing appears press ```ctrl+space```. You are suggested to play with few methods, if possible all methods. Try to see how it works by reading documentation ...\n",
        "And now you now know the tricks to open documentation using '?'"
      ]
    },
    {
      "cell_type": "code",
      "metadata": {
        "id": "8cg3z4yofn46"
      },
      "source": [
        "# Create two random numpy array of size 10, 10\n",
        "import numpy as np\n",
        "array1 = np.random.random((10,10))\n",
        "array2 = np.random.random((10,10))\n",
        "\n",
        "#Perform simple matrix addition\n",
        "add12 = np.add(array1,array2)\n",
        "\n",
        "# Perform matrix multiplication between these two numpy array\n",
        "mm12 = np.matmul(array1,array2)\n",
        "\n",
        "# Perform element wise multiplication between these two array\n",
        "mmelement = np.multiply(array1,array2)\n",
        "## Calculate mean, standard deviation and variance of mm12\n",
        "mean = np.mean(mm12)\n",
        "std = np.std(mm12)\n",
        "var = np.var(mm12)"
      ],
      "execution_count": 31,
      "outputs": []
    },
    {
      "cell_type": "markdown",
      "metadata": {
        "id": "-cYnonLYvbXQ"
      },
      "source": [
        "## Submission Instructions\n",
        "\n",
        "1. select the 'Kernel' menu and choose 'Restart and Run All'.  This will also help you test requirement (2) above: that the notebook can be rerun from top to bottom.\n",
        "2. Save the notebook. Your submitted notebook **must include results**.  \n",
        "3. Copy it to your local ML/NetID.git repo \n",
        "   ```\n",
        "   git add HW2.ipynb\n",
        "   git commit -m \"HW2 submission\"\n",
        "   git push origin\n",
        "   ```\n",
        "   OR upload to `HW2.ipynb` file to https://git.txstate.edu/ML/<NetID>.git"
      ]
    }
  ]
}