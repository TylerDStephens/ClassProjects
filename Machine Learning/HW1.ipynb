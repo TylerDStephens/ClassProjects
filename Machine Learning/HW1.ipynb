{
  "nbformat": 4,
  "nbformat_minor": 0,
  "metadata": {
    "interpreter": {
      "hash": "35837ef908ea9a487812f2c2b7a2faff0eaf2f169c08cc4139a89e69dc68f7b6"
    },
    "kernelspec": {
      "display_name": "Python 3",
      "language": "python",
      "name": "python3"
    },
    "language_info": {
      "codemirror_mode": {
        "name": "ipython",
        "version": 3
      },
      "file_extension": ".py",
      "mimetype": "text/x-python",
      "name": "python",
      "nbconvert_exporter": "python",
      "pygments_lexer": "ipython3",
      "version": "3.8.8"
    },
    "colab": {
      "name": "HW1.ipynb",
      "provenance": [],
      "collapsed_sections": [
        "ARJzciRIXaTB"
      ]
    }
  },
  "cells": [
    {
      "cell_type": "markdown",
      "metadata": {
        "id": "CcDlx63-XaSx"
      },
      "source": [
        "# HW 1\n",
        "\n",
        "* due **Thursday Sep 9, at 11:59 pm**.\n",
        "The purpose of this lab is to make sure that you can run Python notebooks and successfully submit an assignment.\n",
        "Keep the following in mind for **all** notebooks you develop:\n",
        "\n",
        "1. Structure your notebook. Use headings with meaningful levels in Markdown cells, and explain the questions each piece of code is to answer or the reason it is there.\n",
        "2. Make sure your notebook can always be rerun from top to bottom.\n",
        "\n",
        "The data analysis commands are straightforward.  Objective is for you to familiarize with the use of basic functions in python packages we will use going forward, make a succesfull python notebook and submit it on git.  \n",
        "\n",
        "Follow [README.md](README.md) for homework submission instructions \n"
      ]
    },
    {
      "cell_type": "markdown",
      "metadata": {
        "id": "mAjVx9OnXaS2"
      },
      "source": [
        "## Setup\n",
        "\n",
        "This section loads the relevant Python modules and does any configuration needed for the notebook to work. \n",
        "* Almost all projects will need basic data analysis packages - Pandas and Seaborn.  \n",
        "* For other projects, you will need some more imports:\n",
        "\n",
        "```python\n",
        "import numpy as np\n",
        "import matplotlib.pyplot as plt\n",
        "import statsmodels.api as sm\n",
        "import statsmodels.formula.api as smf\n",
        "```\n",
        "These are not necessary for this lab."
      ]
    },
    {
      "cell_type": "code",
      "metadata": {
        "id": "ED9nQHpqXaS3"
      },
      "source": [
        "import pandas as pd\n",
        "import seaborn as sns"
      ],
      "execution_count": 3,
      "outputs": []
    },
    {
      "cell_type": "markdown",
      "metadata": {
        "id": "XXJengjPXaS4"
      },
      "source": [
        "## Data Acquisition step \n",
        "\n",
        "1.  **Download the Capital Bike Share data set** from <https://archive.ics.uci.edu/ml/datasets/bike+sharing+dataset>.  Click 'Data Folder', download the zip file, and extract the `day.csv` file.\n",
        "  * Note that I did not provide the data file for you.  I want you to get used to downloading data files, so you learn where they come from.\n",
        "\n",
        "2. Read the Data File: use Pandas [read_csv](https://pandas.pydata.org/pandas-docs/stable/reference/api/pandas.read_csv.html)[] function to read the file into `bikes` dataframe.  \n",
        "   * Our data file does not have column headers, so we need to specify the names.\n",
        "   [read_csv]: https://pandas.pydata.org/pandas-docs/stable/reference/api/pandas.read_csv.html"
      ]
    },
    {
      "cell_type": "code",
      "metadata": {
        "id": "5tzEbfeDXaS5"
      },
      "source": [
        "bikes = pd.read_csv('day.csv') "
      ],
      "execution_count": 4,
      "outputs": []
    },
    {
      "cell_type": "markdown",
      "metadata": {
        "id": "czKAUhjrXaS6"
      },
      "source": [
        "3.  Use `head` to show the first few rows of the table: \n",
        "  * brief preview is a safety check you are exploring the correct data frame "
      ]
    },
    {
      "cell_type": "code",
      "metadata": {
        "id": "05HXJiKlXaS6",
        "colab": {
          "base_uri": "https://localhost:8080/",
          "height": 142
        },
        "outputId": "035d6e5b-012b-486b-8faa-0dbac3717ce4"
      },
      "source": [
        "bikes.head(3)"
      ],
      "execution_count": 5,
      "outputs": [
        {
          "output_type": "execute_result",
          "data": {
            "text/html": [
              "<div>\n",
              "<style scoped>\n",
              "    .dataframe tbody tr th:only-of-type {\n",
              "        vertical-align: middle;\n",
              "    }\n",
              "\n",
              "    .dataframe tbody tr th {\n",
              "        vertical-align: top;\n",
              "    }\n",
              "\n",
              "    .dataframe thead th {\n",
              "        text-align: right;\n",
              "    }\n",
              "</style>\n",
              "<table border=\"1\" class=\"dataframe\">\n",
              "  <thead>\n",
              "    <tr style=\"text-align: right;\">\n",
              "      <th></th>\n",
              "      <th>instant</th>\n",
              "      <th>dteday</th>\n",
              "      <th>season</th>\n",
              "      <th>yr</th>\n",
              "      <th>mnth</th>\n",
              "      <th>holiday</th>\n",
              "      <th>weekday</th>\n",
              "      <th>workingday</th>\n",
              "      <th>weathersit</th>\n",
              "      <th>temp</th>\n",
              "      <th>atemp</th>\n",
              "      <th>hum</th>\n",
              "      <th>windspeed</th>\n",
              "      <th>casual</th>\n",
              "      <th>registered</th>\n",
              "      <th>cnt</th>\n",
              "    </tr>\n",
              "  </thead>\n",
              "  <tbody>\n",
              "    <tr>\n",
              "      <th>0</th>\n",
              "      <td>1</td>\n",
              "      <td>1/1/2011</td>\n",
              "      <td>1</td>\n",
              "      <td>0</td>\n",
              "      <td>1</td>\n",
              "      <td>0</td>\n",
              "      <td>6</td>\n",
              "      <td>0</td>\n",
              "      <td>2</td>\n",
              "      <td>0.344167</td>\n",
              "      <td>0.363625</td>\n",
              "      <td>0.805833</td>\n",
              "      <td>0.160446</td>\n",
              "      <td>331</td>\n",
              "      <td>654</td>\n",
              "      <td>985</td>\n",
              "    </tr>\n",
              "    <tr>\n",
              "      <th>1</th>\n",
              "      <td>2</td>\n",
              "      <td>1/2/2011</td>\n",
              "      <td>1</td>\n",
              "      <td>0</td>\n",
              "      <td>1</td>\n",
              "      <td>0</td>\n",
              "      <td>0</td>\n",
              "      <td>0</td>\n",
              "      <td>2</td>\n",
              "      <td>0.363478</td>\n",
              "      <td>0.353739</td>\n",
              "      <td>0.696087</td>\n",
              "      <td>0.248539</td>\n",
              "      <td>131</td>\n",
              "      <td>670</td>\n",
              "      <td>801</td>\n",
              "    </tr>\n",
              "    <tr>\n",
              "      <th>2</th>\n",
              "      <td>3</td>\n",
              "      <td>1/3/2011</td>\n",
              "      <td>1</td>\n",
              "      <td>0</td>\n",
              "      <td>1</td>\n",
              "      <td>0</td>\n",
              "      <td>1</td>\n",
              "      <td>1</td>\n",
              "      <td>1</td>\n",
              "      <td>0.196364</td>\n",
              "      <td>0.189405</td>\n",
              "      <td>0.437273</td>\n",
              "      <td>0.248309</td>\n",
              "      <td>120</td>\n",
              "      <td>1229</td>\n",
              "      <td>1349</td>\n",
              "    </tr>\n",
              "  </tbody>\n",
              "</table>\n",
              "</div>"
            ],
            "text/plain": [
              "   instant    dteday  season  yr  ...  windspeed  casual  registered   cnt\n",
              "0        1  1/1/2011       1   0  ...   0.160446     331         654   985\n",
              "1        2  1/2/2011       1   0  ...   0.248539     131         670   801\n",
              "2        3  1/3/2011       1   0  ...   0.248309     120        1229  1349\n",
              "\n",
              "[3 rows x 16 columns]"
            ]
          },
          "metadata": {},
          "execution_count": 5
        }
      ]
    },
    {
      "cell_type": "markdown",
      "metadata": {
        "id": "a3h6VsvjXaS7"
      },
      "source": [
        "4. Use `info` to show a description of the columns, along with the shape and memory use of the data frame:\n",
        "  * good method to explore the shape and memory use of data frame"
      ]
    },
    {
      "cell_type": "code",
      "metadata": {
        "id": "ahxL7oCmXaS8",
        "colab": {
          "base_uri": "https://localhost:8080/"
        },
        "outputId": "16be045a-e92e-4d09-c486-8f8dfc5aab84"
      },
      "source": [
        "bikes.info()"
      ],
      "execution_count": 6,
      "outputs": [
        {
          "output_type": "stream",
          "name": "stdout",
          "text": [
            "<class 'pandas.core.frame.DataFrame'>\n",
            "RangeIndex: 731 entries, 0 to 730\n",
            "Data columns (total 16 columns):\n",
            " #   Column      Non-Null Count  Dtype  \n",
            "---  ------      --------------  -----  \n",
            " 0   instant     731 non-null    int64  \n",
            " 1   dteday      731 non-null    object \n",
            " 2   season      731 non-null    int64  \n",
            " 3   yr          731 non-null    int64  \n",
            " 4   mnth        731 non-null    int64  \n",
            " 5   holiday     731 non-null    int64  \n",
            " 6   weekday     731 non-null    int64  \n",
            " 7   workingday  731 non-null    int64  \n",
            " 8   weathersit  731 non-null    int64  \n",
            " 9   temp        731 non-null    float64\n",
            " 10  atemp       731 non-null    float64\n",
            " 11  hum         731 non-null    float64\n",
            " 12  windspeed   731 non-null    float64\n",
            " 13  casual      731 non-null    int64  \n",
            " 14  registered  731 non-null    int64  \n",
            " 15  cnt         731 non-null    int64  \n",
            "dtypes: float64(4), int64(11), object(1)\n",
            "memory usage: 91.5+ KB\n"
          ]
        }
      ]
    },
    {
      "cell_type": "markdown",
      "metadata": {
        "id": "A73cs0EwXaS8"
      },
      "source": [
        "**Note:**   `.info()` or `.head()` can be called in the same cell as data load once you get the hang of it.  I separate them out in this notebook so that we can discuss them in the markdown cells, but we can combine them in the future. "
      ]
    },
    {
      "cell_type": "markdown",
      "metadata": {
        "id": "JS8KELI4XaS9"
      },
      "source": [
        "## Plotting the Data\n",
        "\n",
        "Make a bar plot showing the mean number of riders (y-axis) per weekday (x-axis) using seaborn [`catplot`](https://seaborn.pydata.org/generated/seaborn.catplot.html) method."
      ]
    },
    {
      "cell_type": "code",
      "metadata": {
        "id": "YFMwnDcUXaS9",
        "colab": {
          "base_uri": "https://localhost:8080/",
          "height": 296
        },
        "outputId": "7cf2ab12-8667-427b-bc00-e1eea71cc637"
      },
      "source": [
        "sns.barplot( x = \"weekday\", y = \"cnt\", data=bikes)"
      ],
      "execution_count": 7,
      "outputs": [
        {
          "output_type": "execute_result",
          "data": {
            "text/plain": [
              "<matplotlib.axes._subplots.AxesSubplot at 0x7fb8cc3cf690>"
            ]
          },
          "metadata": {},
          "execution_count": 7
        },
        {
          "output_type": "display_data",
          "data": {
            "image/png": "[encoded data removed]",
            "text/plain": [
              "<Figure size 432x288 with 1 Axes>"
            ]
          },
          "metadata": {
            "needs_background": "light"
          }
        }
      ]
    },
    {
      "cell_type": "markdown",
      "metadata": {
        "id": "yHeoy8Axu7MZ"
      },
      "source": [
        "from google.colab import drive\n",
        "drive.mount('/content/drive')"
      ]
    },
    {
      "cell_type": "markdown",
      "metadata": {
        "id": "HKoW3CK6XaS9"
      },
      "source": [
        "Now, the X-axis labels isn't very helpful.  Which day is 0?\n",
        "\n",
        "This is a question about how the data is _coded_. We'll talk more about data encoding next week. Unfortunately, the data documentation doesn't actually say how weekdays are coded!  But we can infer from the data in this case: first data point is January 1, 2011, which was a Saturday, coded as weekday 6; it then resets to 0 for the next day, and starts counting up.\n",
        "\n",
        "**Always *look* at your data.**\n",
        "\n",
        "Often, we will not be able to infer the data encoding from the data itself - we need to consult the codebook or data set description. We got lucky this time.  But looking at the data can help us make sense of the codebook.\n",
        "\n",
        "Let's turn these weekday numbers into a _categorical_ variable so Pandas knows how to label them. \n",
        "Hint: use [pandas.Categorical.from_codes()](https://pandas.pydata.org/pandas-docs/stable/reference/api/pandas.Categorical.from_codes.html)."
      ]
    },
    {
      "cell_type": "code",
      "metadata": {
        "id": "_vwC5flpXaS-"
      },
      "source": [
        "day_names = pd.CategoricalDtype(['Sunday', 'Monday', 'Tuesday', 'Wednesday', 'Thursday', 'Friday', 'Saturday'], ordered=True)\n",
        "bikes.weekday = pd.Categorical.from_codes(codes=bikes.weekday, dtype=day_names)\n",
        "bikes.rename(columns=({ 'weekday': 'day_names'}), inplace=True)"
      ],
      "execution_count": 8,
      "outputs": []
    },
    {
      "cell_type": "markdown",
      "metadata": {
        "id": "uRJCdCr3XaS-"
      },
      "source": [
        "Lets plot again using seaborn [`catplot`](https://seaborn.pydata.org/generated/seaborn.catplot.html), where data=bikes, x-axis is `day_names` and y-axis is `cnt`"
      ]
    },
    {
      "cell_type": "code",
      "metadata": {
        "colab": {
          "base_uri": "https://localhost:8080/",
          "height": 297
        },
        "id": "GxU4BFIB9-SP",
        "outputId": "04757574-e9df-4848-fd2f-339573c4396a"
      },
      "source": [
        "sns.barplot(x = \"day_names\", y = \"cnt\", data=bikes)"
      ],
      "execution_count": 9,
      "outputs": [
        {
          "output_type": "execute_result",
          "data": {
            "text/plain": [
              "<matplotlib.axes._subplots.AxesSubplot at 0x7fb8cba53dd0>"
            ]
          },
          "metadata": {},
          "execution_count": 9
        },
        {
          "output_type": "display_data",
          "data": {
            "image/png": "[encoded data removed]",
            "text/plain": [
              "<Figure size 432x288 with 1 Axes>"
            ]
          },
          "metadata": {
            "needs_background": "light"
          }
        }
      ]
    },
    {
      "cell_type": "markdown",
      "metadata": {
        "id": "5hcejiA5XaS-"
      },
      "source": [
        "You have now now plotted the average rides per day.  \n",
        "**Note:**  When we do not tell [`catplot`](https://seaborn.pydata.org/generated/seaborn.catplot.html) what to do with multiple points for the same value (in this case the weekday name), it computes the mean and a bootstrapped 95% confidence interval.  "
      ]
    },
    {
      "cell_type": "markdown",
      "metadata": {
        "id": "formTB-bXaS_"
      },
      "source": [
        "## Viewing the Data over Time\n",
        "\n",
        "Lets explore how did rides-per-day change over the course of the data set? \n",
        "* This kind of data - a sequence of data points associated with times - is called a *time series*.  \n",
        "* This data set gives us an `instant` column that records the data number since the start of the data set\n",
        "\n",
        "Use [seaborn.lineplot()](https://seaborn.pydata.org/generated/seaborn.lineplot.html) where data=bikes, x-axis is `instant` and y-axis is `cnt` value. "
      ]
    },
    {
      "cell_type": "code",
      "metadata": {
        "id": "OD4Z7RjcXaS_",
        "colab": {
          "base_uri": "https://localhost:8080/",
          "height": 296
        },
        "outputId": "7056232b-32a6-477a-ea59-fffb2996fd94"
      },
      "source": [
        "sns.lineplot(x =\"instant\" , y = \"cnt\" , data=bikes)"
      ],
      "execution_count": 10,
      "outputs": [
        {
          "output_type": "execute_result",
          "data": {
            "text/plain": [
              "<matplotlib.axes._subplots.AxesSubplot at 0x7fb8cba96310>"
            ]
          },
          "metadata": {},
          "execution_count": 10
        },
        {
          "output_type": "display_data",
          "data": {
            "image/png": "[encoded data removed]",
            "text/plain": [
              "<Figure size 432x288 with 1 Axes>"
            ]
          },
          "metadata": {
            "needs_background": "light"
          }
        }
      ]
    },
    {
      "cell_type": "markdown",
      "metadata": {
        "id": "AUkDFRC2XaS_"
      },
      "source": [
        "Lets view this graph for actual times on x-axis. The `dteday` column records the date. We can transform `dteday` column to the actual date comlumn using [pandas.to_datetime()](https://pandas.pydata.org/docs/reference/api/pandas.to_datetime.html) method on the column:"
      ]
    },
    {
      "cell_type": "code",
      "metadata": {
        "id": "xuJD6wLWXaTA"
      },
      "source": [
        "bikes['dt'] = pd.to_datetime(bikes['dteday'])"
      ],
      "execution_count": 11,
      "outputs": []
    },
    {
      "cell_type": "markdown",
      "metadata": {
        "id": "dT4tKrfWBVCn"
      },
      "source": [
        "Now create a plot using [seaborn.lineplot()](https://seaborn.pydata.org/generated/seaborn.lineplot.html) where data=bikes, x-axis is `dt` and y-axis is `cnt` value."
      ]
    },
    {
      "cell_type": "code",
      "metadata": {
        "id": "N-6_5M1OXaTA",
        "colab": {
          "base_uri": "https://localhost:8080/",
          "height": 296
        },
        "outputId": "1e78f275-ef27-4534-980f-03c5b372d369"
      },
      "source": [
        "sns.lineplot(x = \"dt\", y = \"cnt\", data=bikes)"
      ],
      "execution_count": 12,
      "outputs": [
        {
          "output_type": "execute_result",
          "data": {
            "text/plain": [
              "<matplotlib.axes._subplots.AxesSubplot at 0x7fb8cb23bed0>"
            ]
          },
          "metadata": {},
          "execution_count": 12
        },
        {
          "output_type": "display_data",
          "data": {
            "image/png": "[encoded data removed]",
            "text/plain": [
              "<Figure size 432x288 with 1 Axes>"
            ]
          },
          "metadata": {
            "needs_background": "light"
          }
        }
      ]
    },
    {
      "cell_type": "markdown",
      "metadata": {
        "id": "mzj_uxKXXaTA"
      },
      "source": [
        "Next, plot the _weekly_ rides by resampling.  Right now, our `bikes` data is indexed by row number in the CSV file.  We can change its index to another column, such as our `dt` column with the date, which then lets us do things like resample by week:"
      ]
    },
    {
      "cell_type": "code",
      "metadata": {
        "id": "O7A150yNXaTB",
        "colab": {
          "base_uri": "https://localhost:8080/",
          "height": 308
        },
        "outputId": "dfc1e875-9241-4637-ef39-f57ac78342d5"
      },
      "source": [
        "bikes.set_index('dt')['cnt'].resample('1W').sum().plot()"
      ],
      "execution_count": 13,
      "outputs": [
        {
          "output_type": "execute_result",
          "data": {
            "text/plain": [
              "<matplotlib.axes._subplots.AxesSubplot at 0x7fb8cb1726d0>"
            ]
          },
          "metadata": {},
          "execution_count": 13
        },
        {
          "output_type": "display_data",
          "data": {
            "image/png": "[encoded data removed]",
            "text/plain": [
              "<Figure size 432x288 with 1 Axes>"
            ]
          },
          "metadata": {
            "needs_background": "light"
          }
        }
      ]
    },
    {
      "cell_type": "markdown",
      "metadata": {
        "id": "X-WZ3Ls6XaTB"
      },
      "source": [
        "What that code did, in one line, is:\n",
        "\n",
        "1. Set the data frame's index to `dt` (`bikes.set_index('dt')`), returning a new DF\n",
        "2. Select the count column (`['cnt']`), returning a series\n",
        "3. Resample the series by week (`.resample('1W')`)\n",
        "4. Combine measurements within each sample by summing them (`.sum()`)\n",
        "5. Plotting the results using Pandas' defaults (`.plot()`)\n",
        "\n",
        "Pandas default plotting functions are useful for quick plots to see what's in a data frame or series. They often are difficult to use to turn in to publication-ready charts."
      ]
    },
    {
      "cell_type": "markdown",
      "metadata": {
        "id": "ARJzciRIXaTB"
      },
      "source": [
        "## Submission Instructions\n",
        "\n",
        "1. select the 'Kernel' menu and choose 'Restart and Run All'.  This will also help you test requirement (2) above: that the notebook can be rerun from top to bottom.\n",
        "2. Save the notebook. Your submitted notebook **must include results**.  \n",
        "3. Copy it to your local ML/NetID.git repo \n",
        "   ```\n",
        "   git add HW1.ipynb day.csv\n",
        "   git commit -m \"HW1 submission\"\n",
        "   git push origin\n",
        "   ```\n",
        "   OR upload to `HW1.ipynb` and `day.csv` files to https://git.txstate.edu/ML/<NetID>.git\n"
      ]
    }
  ]
}