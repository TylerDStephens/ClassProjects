{
  "nbformat": 4,
  "nbformat_minor": 0,
  "metadata": {
    "colab": {
      "name": "HW6.ipynb",
      "provenance": [],
      "collapsed_sections": []
    },
    "interpreter": {
      "hash": "61092feec5071c5645c5e9fd8e6ed751662eaf3fad39a8c2be0e7ae1843d914b"
    },
    "kernelspec": {
      "display_name": "Python 3 (ipykernel)",
      "language": "python",
      "name": "python3"
    },
    "language_info": {
      "codemirror_mode": {
        "name": "ipython",
        "version": 3
      },
      "file_extension": ".py",
      "mimetype": "text/x-python",
      "name": "python",
      "nbconvert_exporter": "python",
      "pygments_lexer": "ipython3",
      "version": "3.8.11"
    }
  },
  "cells": [
    {
      "cell_type": "markdown",
      "metadata": {
        "id": "kGzTCW-qcyQZ"
      },
      "source": [
        "# HW 6\n",
        "\n",
        "This assignment covers several aspects of Logistic Regresstion & KNN Classifier. \n",
        "**DO NOT ERASE MARKDOWN CELLS AND INSTRUCTIONS IN YOUR HW submission**\n",
        "\n",
        "  * **Q** - QUESTION\n",
        "  * **A** - Where to input your answer\n",
        "\n",
        "## Instructions\n",
        "\n",
        "Keep the following in mind for all notebooks you develop:\n",
        "* Structure your notebook. \n",
        "* Use headings with meaningful levels in Markdown cells, and explain the questions each piece of code is to answer or the reason it is there.\n",
        "* Make sure your notebook can always be rerun from top to bottom.\n",
        "* Please start working on this assignment as soon as possible. If you are a beginner in Python this might take a long time. One of the objectives of this assignment is to help you learn python and scikit-learn package. \n",
        "* See [README.md](README.md) for homework submission instructions\n",
        "\n",
        "## Related Tutorials\n",
        "    \n",
        "* [Logistic Regression with Sklearn](https://scikit-learn.org/stable/modules/generated/sklearn.linear_model.LogisticRegression.html)\n",
        "\n",
        "* [LDA with sklearn](https://scikit-learn.org/stable/modules/generated/sklearn.discriminant_analysis.LinearDiscriminantAnalysis.html)\n",
        "\n",
        "* [QDA Classifier](https://scikit-learn.org/stable/modules/lda_qda.html)\n",
        "\n",
        "* [QDA with Sklearn](https://scikit-learn.org/0.15/modules/generated/sklearn.qda.QDA.html)\n",
        "\n",
        "* [Cross-validation](https://scikit-learn.org/stable/modules/cross_validation.html)"
      ]
    },
    {
      "cell_type": "markdown",
      "metadata": {
        "id": "t2P8xYQAcyQf"
      },
      "source": [
        "# Data Processing"
      ]
    },
    {
      "cell_type": "markdown",
      "metadata": {
        "id": "QGPAd-uMcyQg"
      },
      "source": [
        "**Data** \n",
        "* Get the exploratory data and the folowing files from [link](https://archive.ics.uci.edu/ml/datasets/Blood+Transfusion+Service+Center)\n",
        "* Save metadata and the original data from download [Link](https://archive.ics.uci.edu/ml/datasets/Blood+Transfusion+Service+Center) to your local HW folder. \n",
        "* If you are using command line, the commands are:  \n",
        "```\n",
        ">> wget https://archive.ics.uci.edu/ml/machine-learning-databases/blood-transfusion/transfusion.data\n",
        ">> wget https://archive.ics.uci.edu/ml/machine-learning-databases/blood-transfusion/transfusion.names\n",
        "``` \n",
        "* wget instructions: \n",
        "  * dowload it from [link](https://eternallybored.org/misc/wget/) \n",
        "  * follow [steps](https://stackoverflow.com/questions/29113456/wget-not-recognized-as-internal-or-external-command)"
      ]
    },
    {
      "cell_type": "markdown",
      "metadata": {
        "id": "KCeTCjx4cyQg"
      },
      "source": [
        "**Q1** Get training data from the dataframe\n",
        "1. Load transfusion.data into data frame\n",
        "2. Rename the column ```whether he/she donated blood in March 2007``` to ```donation_stat```\n",
        "3. Assign values of ```donation_stat``` column to ```y```, note you have to use ```.values``` method\n",
        "4. Drop 'donation_stat' column from data frame,\n",
        "5. Assign df values to x\n",
        "6. Split dataset into train and test data use train_test_split with test_size = 0.2 and random_state = 1\n",
        "   * you will use this split to train **ALL** three models\n",
        "\n",
        "**A1** Replace ??? with code in the code cell below"
      ]
    },
    {
      "cell_type": "code",
      "metadata": {
        "colab": {
          "base_uri": "https://localhost:8080/"
        },
        "id": "WgPWRF7OcyQh",
        "outputId": "20b46bc0-e6cd-4fd3-c2b5-fa9878daab3c"
      },
      "source": [
        "import numpy as np\n",
        "import pandas as pd\n",
        "from sklearn.model_selection import train_test_split\n",
        "from sklearn.linear_model import LogisticRegression\n",
        "\n",
        "#Read the transfusion.data file using the prropriate separator as input to read_csv()\n",
        "df = pd.read_csv('transfusion.data')\n",
        "df.info()\n",
        "\n",
        "# Assign values of ```donation_stat``` column to y, note you have to use .values method\n",
        "df.rename(columns={\"whether he/she donated blood in March 2007\":\"donation_stat\"}, inplace=True)\n",
        "y = df.donation_stat.values\n",
        "# Drop 'donation_stat' column from data frame,\n",
        "df.drop(columns=['donation_stat'], inplace=True)\n",
        "# Assign df values to x\n",
        "x = df.values\n",
        "# View shape of x and y\n",
        "print(x.shape)\n",
        "print(y.shape)\n",
        "\n",
        "# Use stratify = y and test_size = 0.2 and random_state = 1\n",
        "xtrain, xtest, ytrain, ytest = train_test_split(x,y, test_size = 0.2, random_state=1, stratify=y)"
      ],
      "execution_count": 24,
      "outputs": [
        {
          "output_type": "stream",
          "name": "stdout",
          "text": [
            "<class 'pandas.core.frame.DataFrame'>\n",
            "RangeIndex: 748 entries, 0 to 747\n",
            "Data columns (total 5 columns):\n",
            " #   Column                                      Non-Null Count  Dtype\n",
            "---  ------                                      --------------  -----\n",
            " 0   Recency (months)                            748 non-null    int64\n",
            " 1   Frequency (times)                           748 non-null    int64\n",
            " 2   Monetary (c.c. blood)                       748 non-null    int64\n",
            " 3   Time (months)                               748 non-null    int64\n",
            " 4   whether he/she donated blood in March 2007  748 non-null    int64\n",
            "dtypes: int64(5)\n",
            "memory usage: 29.3 KB\n",
            "(748, 4)\n",
            "(748,)\n"
          ]
        }
      ]
    },
    {
      "cell_type": "markdown",
      "metadata": {
        "id": "NsUM8-i_KhK1"
      },
      "source": [
        "# Model 1: Logistic Regression\n",
        "1. Apply Logistic Regression to blood transfusion dataset \n",
        "2. Show its classification accuracy using test-train splitting\n",
        "3. Show its classification accuracy using K-fold cross validation"
      ]
    },
    {
      "cell_type": "markdown",
      "metadata": {
        "id": "Kcvnd1vacyQm"
      },
      "source": [
        "**Q2** Train Logistic Regression Model\n",
        "1. Create a logistic regression model using sklearn library, ```(See the documenttaion for details)```\n",
        "2. Fit the model with the train data \n",
        "3. Get the score from the model using test data\n",
        "4. Plot Confusion Matrix using the previous HWs method\n",
        "\n",
        "**A2** Replace ??? with code in the code cell below"
      ]
    },
    {
      "cell_type": "code",
      "metadata": {
        "id": "2QutY2XJWps5",
        "colab": {
          "base_uri": "https://localhost:8080/",
          "height": 558
        },
        "outputId": "8ace7212-4bda-409e-fb07-3b00ab5ff191"
      },
      "source": [
        "from sklearn.metrics import plot_confusion_matrix\n",
        "from sklearn.metrics import confusion_matrix\n",
        "from mlxtend.plotting import plot_confusion_matrix\n",
        "import matplotlib.pyplot as plt\n",
        "# Create a logistic regression model using sklearn library\n",
        "clf = LogisticRegression(random_state=0).fit(x, y)\n",
        "clf.fit(xtrain, ytrain)\n",
        "\n",
        "#print score for test data\n",
        "clf.score(xtest,ytest)\n",
        "\n",
        "#predict y values for test data\n",
        "ypred= clf.predict(xtest)\n",
        "\n",
        "cm = confusion_matrix(ytest, ypred)\n",
        "plt.figure()\n",
        "plot_confusion_matrix(cm, figsize=(12,8), hide_ticks=True, cmap=plt.cm.Blues)\n",
        "plt.title(\"Logistic Regression Model - Confusion Matrix\")\n",
        "plt.xticks(range(2), [\"Class 1\",\"Class 2\"], fontsize=16)\n",
        "plt.yticks(range(2), [\"Class 1\",\"Class 2\"], fontsize=16)\n",
        "plt.show()"
      ],
      "execution_count": 25,
      "outputs": [
        {
          "output_type": "display_data",
          "data": {
            "text/plain": [
              "<Figure size 432x288 with 0 Axes>"
            ]
          },
          "metadata": {}
        },
        {
          "output_type": "display_data",
          "data": {
            "image/png": "[encoded data removed]",
            "text/plain": [
              "<Figure size 864x576 with 1 Axes>"
            ]
          },
          "metadata": {
            "needs_background": "light"
          }
        }
      ]
    },
    {
      "cell_type": "markdown",
      "metadata": {
        "id": "f2iOBstHcyQo"
      },
      "source": [
        "**Q3** Train Logistic Regression Model using cross-validation \n",
        "* Now, use Kfold cross validation technique for the model evaluation.(```Use K=5``` or try using other number of folds to see what works best)\n",
        "\n",
        "**A3** Replace ??? with code in the code cell below"
      ]
    },
    {
      "cell_type": "code",
      "metadata": {
        "colab": {
          "base_uri": "https://localhost:8080/"
        },
        "id": "TY66R6AicyQp",
        "outputId": "fd170b24-cf31-481d-a56b-5466c5de6632"
      },
      "source": [
        "from sklearn.model_selection import cross_val_score\n",
        "\n",
        "# Use sklearn for 5 fold cross validation \n",
        "scores_log=cross_val_score(clf,x,y,cv=5)\n",
        "\n",
        "# print the scores from different folds\n",
        "print(scores_log)"
      ],
      "execution_count": 27,
      "outputs": [
        {
          "output_type": "stream",
          "name": "stdout",
          "text": [
            "[0.76       0.76       0.75333333 0.82550336 0.76510067]\n"
          ]
        }
      ]
    },
    {
      "cell_type": "markdown",
      "metadata": {
        "id": "TXPioKpycyQq"
      },
      "source": [
        "# Model 2: Linear Discriminant Analysis\n",
        "1. Apply LDA to blood transfusion dataset \n",
        "2. Show its classification accuracy using test-train splitting\n",
        "3. Show its classification accuracy using K-fold cross validation"
      ]
    },
    {
      "cell_type": "markdown",
      "metadata": {
        "id": "KDnniHB3cyQq"
      },
      "source": [
        "**Q4** Build a Linear Discriminant Model for the transfusion.data dataset\n",
        "1. Create an LDA model for the transfusion.data dataset   \n",
        "2. fit the LDA model on the train data\n",
        "3. predict the values from test data\n",
        "4. print out the score from test data  \n",
        "**Note: Figure out the value of ```n_components``` for the transfusion.data**\n",
        "\n",
        "**A4** Replace ??? with code in the code cell below"
      ]
    },
    {
      "cell_type": "code",
      "metadata": {
        "id": "GnWx52bqbOgz",
        "colab": {
          "base_uri": "https://localhost:8080/"
        },
        "outputId": "10e5bfab-a8bb-4203-cc73-2127160e8e60"
      },
      "source": [
        "from sklearn.discriminant_analysis import LinearDiscriminantAnalysis as LDA\n",
        "\n",
        "\n",
        "# Define LDA model\n",
        "lda = LDA(n_components=1)\n",
        "\n",
        "#Fit LDA model on xtrain, ytrain from above  \n",
        "lda.fit(xtrain, ytrain)\n",
        "\n",
        "#predict y values from xtest from above\n",
        "#y_pred=lda_main.predict(xtest)\n",
        "#Number of instances per class\n",
        "print(np.unique(lda, return_counts=True))\n",
        "\n",
        "#print score for test data\n",
        "print(lda.score(xtest,ytest))"
      ],
      "execution_count": 54,
      "outputs": [
        {
          "output_type": "stream",
          "name": "stdout",
          "text": [
            "(array([LinearDiscriminantAnalysis(n_components=1, priors=None, shrinkage=None,\n",
            "                           solver='svd', store_covariance=False, tol=0.0001)],\n",
            "      dtype=object), array([1]))\n",
            "0.7733333333333333\n"
          ]
        }
      ]
    },
    {
      "cell_type": "markdown",
      "metadata": {
        "id": "3GVIev63cyQr"
      },
      "source": [
        "**Q5** Train LDA using cross-validation. See A3 for guide and [sklearn.cross_validation](https://scikit-learn.org/stable/modules/cross_validation.html) tutorial.\n",
        "\n",
        "**A5** Replace ??? with code in the code cell below"
      ]
    },
    {
      "cell_type": "code",
      "metadata": {
        "colab": {
          "base_uri": "https://localhost:8080/"
        },
        "id": "CmtbutR_cyQs",
        "outputId": "022ce3f9-4ad1-43d9-9a18-61e498f6315c"
      },
      "source": [
        "from sklearn.model_selection import cross_val_score\n",
        "\n",
        "# Use sklearn for 5 fold cross validation \n",
        "scores_lda= cross_val_score(lda, x, y, cv=5)\n",
        "\n",
        "# print the scores from different folds\n",
        "print(scores_lda)"
      ],
      "execution_count": 51,
      "outputs": [
        {
          "output_type": "stream",
          "name": "stdout",
          "text": [
            "[0.82       0.76       0.75333333 0.80536913 0.76510067]\n"
          ]
        }
      ]
    },
    {
      "cell_type": "markdown",
      "metadata": {
        "id": "bDgosHQRcyQs"
      },
      "source": [
        "# Model 3: Quadratic Discriminant Analysis\n",
        "\n",
        "1. Apply QDA to blood transfusion dataset \n",
        "2. Show its classification accuracy using test-train splitting\n",
        "3. Show its classification accuracy using K-fold cross validation"
      ]
    },
    {
      "cell_type": "markdown",
      "metadata": {
        "id": "PvNq25XvcyQs"
      },
      "source": [
        "**Q6** Create a quadratic discriminat analysis model for the transfusion.data\n",
        "* fit the QDA model on the train data\n",
        "* predict the values from test data\n",
        "* print out the score from test data  \n",
        "\n",
        "**A6** Replace ??? with code in the code cell below"
      ]
    },
    {
      "cell_type": "code",
      "metadata": {
        "colab": {
          "base_uri": "https://localhost:8080/"
        },
        "id": "_fz4a2FucyQt",
        "outputId": "cf2d0c78-d548-44a3-9e0a-3ab082124c25"
      },
      "source": [
        "from sklearn.discriminant_analysis import QuadraticDiscriminantAnalysis as QDA\n",
        "\n",
        "# Define QDA model\n",
        "qda = QDA(priors=None, reg_param=0.0)\n",
        "\n",
        "# Fit QDA model on xtrain, ytrain above\n",
        "qda.fit(xtrain, ytrain)\n",
        "\n",
        "# Predict y values from xtest\n",
        "pred_qda=qda.predict(xtest)\n",
        "\n",
        "#Number of instances per class\n",
        "print(np.unique(qda, return_counts=True))\n",
        "\n",
        "#print score for test data\n",
        "print(qda.score(xtest,ytest))"
      ],
      "execution_count": 59,
      "outputs": [
        {
          "output_type": "stream",
          "name": "stdout",
          "text": [
            "(array([QuadraticDiscriminantAnalysis(priors=None, reg_param=0.0,\n",
            "                              store_covariance=False, tol=0.0001)],\n",
            "      dtype=object), array([1]))\n",
            "0.6733333333333333\n"
          ]
        },
        {
          "output_type": "stream",
          "name": "stderr",
          "text": [
            "/usr/local/lib/python3.7/dist-packages/sklearn/discriminant_analysis.py:691: UserWarning: Variables are collinear\n",
            "  warnings.warn(\"Variables are collinear\")\n"
          ]
        }
      ]
    },
    {
      "cell_type": "markdown",
      "metadata": {
        "id": "juMUS5vIcyQt"
      },
      "source": [
        "**Q7** Train QDA using cross-validation. See A3, A5, and [sklearn.cross_validation](https://scikit-learn.org/stable/modules/cross_validation.html) tutorial for hints.\n",
        "\n",
        "**A7** Replace ??? with code in the code cell below"
      ]
    },
    {
      "cell_type": "code",
      "metadata": {
        "colab": {
          "base_uri": "https://localhost:8080/"
        },
        "id": "ODDqNaOMcyQt",
        "outputId": "9e8f113e-fc09-46a9-98f6-76542aaa4455"
      },
      "source": [
        "from sklearn.model_selection import cross_val_score\n",
        "\n",
        "# Use sklearn for 5 fold cross validation \n",
        "scores_qda= cross_val_score(qda, x, y, cv=5)\n",
        "\n",
        "# print the scores from different folds\n",
        "print(scores_qda)"
      ],
      "execution_count": 60,
      "outputs": [
        {
          "output_type": "stream",
          "name": "stdout",
          "text": [
            "[0.36       0.35333333 0.80666667 0.59060403 0.63087248]\n"
          ]
        },
        {
          "output_type": "stream",
          "name": "stderr",
          "text": [
            "/usr/local/lib/python3.7/dist-packages/sklearn/discriminant_analysis.py:691: UserWarning: Variables are collinear\n",
            "  warnings.warn(\"Variables are collinear\")\n",
            "/usr/local/lib/python3.7/dist-packages/sklearn/discriminant_analysis.py:691: UserWarning: Variables are collinear\n",
            "  warnings.warn(\"Variables are collinear\")\n",
            "/usr/local/lib/python3.7/dist-packages/sklearn/discriminant_analysis.py:691: UserWarning: Variables are collinear\n",
            "  warnings.warn(\"Variables are collinear\")\n",
            "/usr/local/lib/python3.7/dist-packages/sklearn/discriminant_analysis.py:691: UserWarning: Variables are collinear\n",
            "  warnings.warn(\"Variables are collinear\")\n",
            "/usr/local/lib/python3.7/dist-packages/sklearn/discriminant_analysis.py:691: UserWarning: Variables are collinear\n",
            "  warnings.warn(\"Variables are collinear\")\n"
          ]
        }
      ]
    },
    {
      "cell_type": "markdown",
      "metadata": {
        "id": "GJL4iVtccyQu"
      },
      "source": [
        "# Comparison\n",
        "\n",
        "**Q8** Compare the three models (trained using xtrain,ytrain) in terms of score. \n",
        "* Use the models you have created for straight forward training phase (A2, A4, A6)\n",
        "* Your resulting matrix should be ```4x4 correlation matrix``` for xtest, ytest data\n",
        "  * The matrix is symmetric\n",
        "  * It will provide the correlation between three model predictions plus ytest for xtest\n",
        "\n",
        "**A8**\n",
        "Replace ??? with code in the code cell below"
      ]
    },
    {
      "cell_type": "code",
      "metadata": {
        "colab": {
          "base_uri": "https://localhost:8080/",
          "height": 367
        },
        "id": "ggOt1XnOcyQu",
        "outputId": "81c944f7-b114-40d5-bcae-ba78e552189d"
      },
      "source": [
        "from sklearn.metrics import plot_confusion_matrix\n",
        "from sklearn.metrics import confusion_matrix\n",
        "from mlxtend.plotting import plot_confusion_matrix\n",
        "import matplotlib.pyplot as plt\n",
        "import seaborn as sns\n",
        "\n",
        "# reshape y to make it 2D\n",
        "y=y.reshape(-1,1)\n",
        "# Predict test dataset y using logistic reg\n",
        "ypred_clf= LogisticRegression(xtrain,ytrain)\n",
        "\n",
        "# Predict test dataset y using LDA\n",
        "ypred_lda= LDA(xtrain, ytrain)\n",
        "\n",
        "# Predict test dataset y using QDA\n",
        "ypred_qda= QDA(xtrain, ytrain)\n",
        "\n",
        "# flatten the y\n",
        "\n",
        "# Create a dataframe using the predicted results from the models\n",
        "df = pd.DataFrame({'y':[y],'Log':[ypred_clf], 'LDA':[ypred_lda], 'QDA':[ypred_qda]})\n",
        "\n",
        "#copute correlation \n",
        "\n",
        "# Now use seaborn library to plot the correlation matrix\n",
        "plt.figure(figsize=(4,4))\n",
        "sns.heatmap(df.corr(),vmin=-1, vmax=1)"
      ],
      "execution_count": 72,
      "outputs": [
        {
          "output_type": "stream",
          "name": "stderr",
          "text": [
            "/usr/local/lib/python3.7/dist-packages/seaborn/matrix.py:305: UserWarning: Attempting to set identical bottom == top == 0 results in singular transformations; automatically expanding.\n",
            "  ax.set(xlim=(0, self.data.shape[1]), ylim=(0, self.data.shape[0]))\n",
            "/usr/local/lib/python3.7/dist-packages/seaborn/matrix.py:305: UserWarning: Attempting to set identical left == right == 0 results in singular transformations; automatically expanding.\n",
            "  ax.set(xlim=(0, self.data.shape[1]), ylim=(0, self.data.shape[0]))\n"
          ]
        },
        {
          "output_type": "execute_result",
          "data": {
            "text/plain": [
              "<matplotlib.axes._subplots.AxesSubplot at 0x7fd92bc1ac90>"
            ]
          },
          "metadata": {},
          "execution_count": 72
        },
        {
          "output_type": "display_data",
          "data": {
            "image/png": "[encoded data removed]",
            "text/plain": [
              "<Figure size 288x288 with 2 Axes>"
            ]
          },
          "metadata": {
            "needs_background": "light"
          }
        }
      ]
    },
    {
      "cell_type": "code",
      "metadata": {
        "id": "YwlAMdQOcyQu"
      },
      "source": [
        ""
      ],
      "execution_count": null,
      "outputs": []
    }
  ]
}